{
 "cells": [
  {
   "cell_type": "markdown",
   "metadata": {},
   "source": [
    "# Assignment1\n",
    "## 2016136121 정태훈"
   ]
  },
  {
   "cell_type": "markdown",
   "metadata": {},
   "source": [
    "---------------------------------------"
   ]
  },
  {
   "cell_type": "markdown",
   "metadata": {},
   "source": [
    "### 1번 문제\n",
    "- a=\"Hello Python\" 문자열을 Slicing과 연결 연산자 (+)를 사용하여 \"Python Hello\"로 변경하시오.\n",
    "    - [주의] a 변수 자체에 \"Python Hello\" 문자열이 저장되어야 함"
   ]
  },
  {
   "cell_type": "code",
   "execution_count": 1,
   "metadata": {},
   "outputs": [
    {
     "name": "stdout",
     "output_type": "stream",
     "text": [
      "Python Hello\n"
     ]
    }
   ],
   "source": [
    "a = \"Hello Python\"\n",
    "a = a[6:12] + a[5] + a[:5]\n",
    "print(a)"
   ]
  },
  {
   "cell_type": "markdown",
   "metadata": {},
   "source": [
    "### 2번 문제\n",
    "- b=\"Hello Python World\" 문자열을 Slicing과| 연결 연산자 (+)를 사용하여 \"World Python Hello\"로 변경하시오.\n",
    "    - [주의] b 변수 자체에 \"World Python Hello\" 문자열이 저장되어야 함"
   ]
  },
  {
   "cell_type": "code",
   "execution_count": 2,
   "metadata": {},
   "outputs": [
    {
     "name": "stdout",
     "output_type": "stream",
     "text": [
      "World Python Hello\n"
     ]
    }
   ],
   "source": [
    "b = \"Hello Python World\"\n",
    "b = b[13:18] + b[12] + b[6:12] + b[5] + b[0:5]\n",
    "print(b)"
   ]
  },
  {
   "cell_type": "markdown",
   "metadata": {},
   "source": [
    "### 3번 문제\n",
    "- c=\"Hello\"를 \"olleH\"로 변경하시오\n",
    "    - [주의] c 변수 자체에 \"olleH\" 문자열이 저장되어야 함"
   ]
  },
  {
   "cell_type": "code",
   "execution_count": 3,
   "metadata": {},
   "outputs": [
    {
     "name": "stdout",
     "output_type": "stream",
     "text": [
      "olleH\n"
     ]
    }
   ],
   "source": [
    "c = \"Hello\"\n",
    "c = c[::-1]\n",
    "print(c)"
   ]
  },
  {
   "cell_type": "markdown",
   "metadata": {},
   "source": [
    "### 4번 문제\n",
    "- s=\"python\"에 대해 다음 문제를 풀어보시오.\n",
    "    1. s[0], s[0][0], s[0][0][0]은 각각 어떤 값이 나오는지 확인하고 그 이유를 나름대로 설명해 보시오.\n",
    "    2. s[-100], s[100]은 값이 나오는지 에러가 나오는지 확인하고 그 결과에 대한 이유를 나름대로 설명해 보시오.\n",
    "    3. s[-100, 100]은 값이 나오는지 에러가 나오는지 확인하고 그 결과에 대한 이유를 나름대로 설명해 보시오.\n",
    "    4. s[1:-1]의 결과를 확인하고 그 결과에 대한 이유를 정확하게 설명하시오.\n",
    "    5. s[3:-3]의 결과를 확인하고 그 결과에 대한 이유를 정확하게 설명하시오."
   ]
  },
  {
   "cell_type": "code",
   "execution_count": 4,
   "metadata": {},
   "outputs": [
    {
     "name": "stdout",
     "output_type": "stream",
     "text": [
      "p\n",
      "p\n",
      "p\n"
     ]
    }
   ],
   "source": [
    "s = \"python\"\n",
    "print(s[0])\n",
    "print(s[0][0])\n",
    "print(s[0][0][0])"
   ]
  },
  {
   "cell_type": "markdown",
   "metadata": {},
   "source": [
    "> python에서는 String변수 옆에 [int]를 붙이면 slice 기능을 하며, 이는 기존 C언어 기반에서 문자열을 분리하는 것과는 약간 다른 것 같다. 기존 C언어에서의 String은 char변수의 array 방식이기에 만약 s[0][0]을 하게 되면 더이상의 array가 없기에 오류가 나지만, Python에서는 s[0]을 하게 되도 slice로 string을 분리하는 것이며 이 때도 String변수는 유지된다. 이 문제를 예로 들면, s[0]의 경우에도 \"python\"의 첫 자리를 가져오고, s[0][0]의 경우도 \"p\"에서의 첫자리를 가져오는 것이므로 \"p\"가 나오는 것이다. 그러므로 s[0]. s[0][0], s[0][0][0] 모두 같은 결과가 나오는 것이다."
   ]
  },
  {
   "cell_type": "code",
   "execution_count": 5,
   "metadata": {},
   "outputs": [
    {
     "ename": "IndexError",
     "evalue": "string index out of range",
     "output_type": "error",
     "traceback": [
      "\u001b[1;31m---------------------------------------------------------------------------\u001b[0m",
      "\u001b[1;31mIndexError\u001b[0m                                Traceback (most recent call last)",
      "\u001b[1;32m<ipython-input-5-bfed93e71b51>\u001b[0m in \u001b[0;36m<module>\u001b[1;34m()\u001b[0m\n\u001b[1;32m----> 1\u001b[1;33m \u001b[0mprint\u001b[0m\u001b[1;33m(\u001b[0m\u001b[0ms\u001b[0m\u001b[1;33m[\u001b[0m\u001b[1;33m-\u001b[0m\u001b[1;36m100\u001b[0m\u001b[1;33m]\u001b[0m\u001b[1;33m)\u001b[0m\u001b[1;33m\u001b[0m\u001b[0m\n\u001b[0m\u001b[0;32m      2\u001b[0m \u001b[0mprint\u001b[0m\u001b[1;33m(\u001b[0m\u001b[0ms\u001b[0m\u001b[1;33m[\u001b[0m\u001b[1;36m100\u001b[0m\u001b[1;33m]\u001b[0m\u001b[1;33m)\u001b[0m\u001b[1;33m\u001b[0m\u001b[0m\n",
      "\u001b[1;31mIndexError\u001b[0m: string index out of range"
     ]
    }
   ],
   "source": [
    "print(s[-100])\n",
    "print(s[100])"
   ]
  },
  {
   "cell_type": "markdown",
   "metadata": {},
   "source": [
    "> Python의 슬라이스 기능은 문자열 길이 이상으로 slice하게 되면 그 이상의 값이 없기에 error가 뜨게 된다. 이는 음수를 줄 때도 마찬가지이다."
   ]
  },
  {
   "cell_type": "code",
   "execution_count": 6,
   "metadata": {},
   "outputs": [
    {
     "ename": "TypeError",
     "evalue": "string indices must be integers",
     "output_type": "error",
     "traceback": [
      "\u001b[1;31m---------------------------------------------------------------------------\u001b[0m",
      "\u001b[1;31mTypeError\u001b[0m                                 Traceback (most recent call last)",
      "\u001b[1;32m<ipython-input-6-94fcf2185f87>\u001b[0m in \u001b[0;36m<module>\u001b[1;34m()\u001b[0m\n\u001b[1;32m----> 1\u001b[1;33m \u001b[0mprint\u001b[0m\u001b[1;33m(\u001b[0m\u001b[0ms\u001b[0m\u001b[1;33m[\u001b[0m\u001b[1;33m-\u001b[0m\u001b[1;36m100\u001b[0m\u001b[1;33m,\u001b[0m \u001b[1;36m100\u001b[0m\u001b[1;33m]\u001b[0m\u001b[1;33m)\u001b[0m\u001b[1;33m\u001b[0m\u001b[0m\n\u001b[0m",
      "\u001b[1;31mTypeError\u001b[0m: string indices must be integers"
     ]
    }
   ],
   "source": [
    "print(s[-100, 100])"
   ]
  },
  {
   "cell_type": "markdown",
   "metadata": {},
   "source": [
    "> slice에 들어갈 수 있는 변수는 int값으로, array 변수가 들어가면 오류가 생긴다."
   ]
  },
  {
   "cell_type": "code",
   "execution_count": 7,
   "metadata": {},
   "outputs": [
    {
     "name": "stdout",
     "output_type": "stream",
     "text": [
      "ytho\n"
     ]
    }
   ],
   "source": [
    "print(s[1:-1])"
   ]
  },
  {
   "cell_type": "markdown",
   "metadata": {},
   "source": [
    "> s[1:-1]을 하게 되면 s[1]의 위치부터 s[-1]의 위치 전까지 출력하게 되며 현재 step은 기본값인 1로 되어있기에, s[1]인 y, s[-1]인 n이므로, y,t,h,o까지 출력된다. 그래서 출력 결과 ytho가 나오는 것이다."
   ]
  },
  {
   "cell_type": "code",
   "execution_count": 8,
   "metadata": {},
   "outputs": [
    {
     "name": "stdout",
     "output_type": "stream",
     "text": [
      "\n"
     ]
    }
   ],
   "source": [
    "print(s[3:-3])"
   ]
  },
  {
   "cell_type": "markdown",
   "metadata": {},
   "source": [
    "> s[1:-1]을 하게 되면 s[1]의 위치부터 s[-1]의 위치 전까지 출력하게 되며 현재 step은 기본값인 1로 되어있기에, s[1]인 h, s[-1]인 h이지만 여기에서 s[:-3]은 이 단어 전까지를 얘기하는 것이므로 이 사이에 해당하는 단어가 없으므로 출력되는 것은 아무것도 없는 \"\" 이 상태가 출력이 된다."
   ]
  },
  {
   "cell_type": "markdown",
   "metadata": {},
   "source": [
    "### 5번 문제\n",
    "- for문을 활용하여 1부터 100사이의 홀수를 출력하시오."
   ]
  },
  {
   "cell_type": "code",
   "execution_count": 9,
   "metadata": {},
   "outputs": [
    {
     "name": "stdout",
     "output_type": "stream",
     "text": [
      "1 3 5 7 9 11 13 15 17 19 21 23 25 27 29 31 33 35 37 39 41 43 45 47 49 51 53 55 57 59 61 63 65 67 69 71 73 75 77 79 81 83 85 87 89 91 93 95 97 99 "
     ]
    }
   ],
   "source": [
    "for i in range(1, 100):\n",
    "    if(i % 2 == 1):\n",
    "        print(i, end=\" \")"
   ]
  },
  {
   "cell_type": "markdown",
   "metadata": {},
   "source": [
    "### 6번 문제\n",
    "- while문을 활용하여 1부터 100사이의 짝수의 합을 계산하여 출력하시오."
   ]
  },
  {
   "cell_type": "code",
   "execution_count": 10,
   "metadata": {},
   "outputs": [
    {
     "name": "stdout",
     "output_type": "stream",
     "text": [
      "2550\n"
     ]
    }
   ],
   "source": [
    "i = 1\n",
    "m = 0\n",
    "while(i <= 100):\n",
    "    if(i % 2 == 0): m += i\n",
    "    i += 1\n",
    "print(m)"
   ]
  },
  {
   "cell_type": "markdown",
   "metadata": {
    "collapsed": true
   },
   "source": [
    "### 7번 문제\n",
    "- 사용자로 부터 임의의 정수를 입력받고, 해당 숫자를 역순으로 출력하는 프로그램을 작성하시오.\n",
    "    - [실행 예]\n",
    "    정수를 입력하세요: 3125\n",
    "    숫자 역순은 5213 입니다."
   ]
  },
  {
   "cell_type": "code",
   "execution_count": 11,
   "metadata": {},
   "outputs": [
    {
     "name": "stdout",
     "output_type": "stream",
     "text": [
      "정수를 입력하세요 : 3125\n",
      "숫자 역순은 5213입니다.\n"
     ]
    }
   ],
   "source": [
    "num = input(\"정수를 입력하세요 : \")\n",
    "rev_num = str(num)[::-1]\n",
    "\n",
    "print(\"숫자 역순은 \" + rev_num + \"입니다.\")"
   ]
  },
  {
   "cell_type": "markdown",
   "metadata": {},
   "source": [
    "### 8번 문제\n",
    "- 사용자로 부터 정수를 입력받아서 1부터 그 사이에 존재하는 소수 (Prime number)를 출력하는 파이썬 프로그램을 작성하시오."
   ]
  },
  {
   "cell_type": "code",
   "execution_count": 12,
   "metadata": {},
   "outputs": [
    {
     "name": "stdout",
     "output_type": "stream",
     "text": [
      "정수를 입력하세요 : 100\n",
      "2 3 5 7 11 13 17 19 23 29 31 37 41 43 47 53 59 61 67 71 73 79 83 89 97 "
     ]
    }
   ],
   "source": [
    "n = input(\"정수를 입력하세요 : \")\n",
    "for i in range(2,int(n)):\n",
    "    pn = True\n",
    "    for j in range(2, i):\n",
    "        if(i % j == 0):\n",
    "            pn = False\n",
    "            break\n",
    "    if(pn):\n",
    "        print(i, end=\" \")\n"
   ]
  },
  {
   "cell_type": "markdown",
   "metadata": {},
   "source": [
    "---------------------------------"
   ]
  },
  {
   "cell_type": "markdown",
   "metadata": {},
   "source": [
    "### 9번 문제[ACM-ICPC 문제 2439번(별 찍기-2)]\n",
    "- 첫째 줄에는 별 1개, 둘째 줄에는 별 2개, N번째 줄에는 별 N개를 찍는 문제\n",
    "- 하지만, 오른쪽을 기준으로 정렬한 별 (예제 참고)을 출력하시오."
   ]
  },
  {
   "cell_type": "code",
   "execution_count": 13,
   "metadata": {},
   "outputs": [
    {
     "name": "stdout",
     "output_type": "stream",
     "text": [
      "5\n",
      "    *\n",
      "   **\n",
      "  ***\n",
      " ****\n",
      "*****\n"
     ]
    }
   ],
   "source": [
    "n = int(input())\n",
    "for i in range(1, n+1):\n",
    "    print(\" \" * (n-i) + \"*\" * i)\n",
    "    "
   ]
  },
  {
   "cell_type": "markdown",
   "metadata": {},
   "source": [
    "![2439_star](img/2439.PNG)"
   ]
  },
  {
   "cell_type": "markdown",
   "metadata": {},
   "source": [
    "### 10번 문제[ACM-ICPC 문제 1924번(2007년)]\n",
    "- 오늘은 2007년 1월 1일 월요일이다. 그렇다면 2007년 x월 y일은 무슨 요일일까? 이를 알아내는 프로그램을 작성하시오."
   ]
  },
  {
   "cell_type": "code",
   "execution_count": 14,
   "metadata": {},
   "outputs": [
    {
     "name": "stdout",
     "output_type": "stream",
     "text": [
      "1 1\n",
      "MON\n"
     ]
    }
   ],
   "source": [
    "mon, day = map(int, input().split())\n",
    "t = [0,0,3,3,4,4,5,5,5,6,6,7]\n",
    "d = [\"SUN\", \"MON\", \"TUE\", \"WED\", \"THU\", \"FRI\", \"SAT\"]\n",
    "days = (mon-1) * 31 - t[mon-1] + day\n",
    "print(d[days % 7])"
   ]
  },
  {
   "cell_type": "markdown",
   "metadata": {},
   "source": [
    "![1924_year](img/1924.PNG)"
   ]
  },
  {
   "cell_type": "markdown",
   "metadata": {},
   "source": [
    "### 11번 문제[ACM-ICPC 문제 11720번(숫자의 합)]\n",
    "- N개의 숫자가 공백 없이 쓰여있다. 이 숫자를 모두 합해서 출력하는 프로그램을 작성하시오."
   ]
  },
  {
   "cell_type": "code",
   "execution_count": 15,
   "metadata": {},
   "outputs": [
    {
     "name": "stdout",
     "output_type": "stream",
     "text": [
      "5\n",
      "12345\n",
      "15\n"
     ]
    }
   ],
   "source": [
    "n = int(input())\n",
    "m = input()\n",
    "sum = 0\n",
    "for i in range(n):\n",
    "    sum += int(m[i])\n",
    "print(sum)"
   ]
  },
  {
   "cell_type": "markdown",
   "metadata": {},
   "source": [
    "![11720_sum](https://photos-6.dropbox.com/t/2/AABaAtEAk3ahDhJW2_6BV3OmwVlehwOncUSTZhDR2B6I8g/12/121115282/png/32x32/3/1506452400/0/2/%EB%B3%84%EC%B0%8D%EA%B8%B0.PNG/EJW6r10YvgIgAigC/3OsjaWLhergWNvJg-eq2IjBS8wXA0Eb9qKu1zD6ZM2w?dl=0&size=1600x1200&size_mode=3)"
   ]
  },
  {
   "cell_type": "markdown",
   "metadata": {},
   "source": [
    "----------------------------"
   ]
  },
  {
   "cell_type": "markdown",
   "metadata": {
    "collapsed": true
   },
   "source": [
    "### 소감"
   ]
  },
  {
   "cell_type": "markdown",
   "metadata": {},
   "source": [
    "파이썬은 예전부터 사용했었는데, 이 수업을 들으면서 파이썬이란 언어가 어떻게 돌아가는지는 처음 알게 되어서 좋았습니다. 기존엔 그냥 파이썬으로 코드를 짰지만, 이제는 돌아가는 원리를 이해하면서 더 효율적인 코드를 짜는 계기가 되는 것 같습니다. 현재 파이썬 말고도 독학으로 Ruby를 사용하고 있는데, 파이썬과 비교하면서 해보니까 재미있는 것 같습니다.\n",
    "\n",
    "그리고 이번에 처음으로 jupyter notebook을 사용했는데, 가독성 면에서는 매우 좋은 IDE인 것 같습니다. 평소에는 파이참을 써왔었고 주피터 노트북은 딥러닝 강의를 유튜브로 볼 때 사용하는 것만 봤는데 앞으로 코드 설명할 때 매우 좋은 것 같습니다. 다만 마크다운에 조금 익숙해져야 할 것 같습니다.\n",
    "\n",
    "이번 과제에서는 loop문, string의 slice 기능을 중심으로 있었고, 3문제는 백준에서 문제를 했었습니다. 루비에서 사용할 때는 map을 자주 사용해서 이번 문제에서도 이 함수를 사용했는데, 성능에는 이상이 없을까 싶었는데, 11번 문제에 보다시피 예상 외로 성능에는 큰 차이가 없고, 오히려 map을 쓴 게 메모리가 덜 먹었습니다. 그리고 이건 제 개인적인 다짐이지만, 이번에 백준을 처음 이용해봤는데 다른 곳과 다르게 루비언어도 지원을 해서 한번 루비 언어로도 백준을 해볼까합니다.\n",
    "\n",
    "마지막으로, 이번 스크립트 프로그래밍 강의 앞으로도 열심히 임하도록 하겠습니다!"
   ]
  }
 ],
 "metadata": {
  "kernelspec": {
   "display_name": "Python 3",
   "language": "python",
   "name": "python3"
  },
  "language_info": {
   "codemirror_mode": {
    "name": "ipython",
    "version": 3
   },
   "file_extension": ".py",
   "mimetype": "text/x-python",
   "name": "python",
   "nbconvert_exporter": "python",
   "pygments_lexer": "ipython3",
   "version": "3.6.1"
  }
 },
 "nbformat": 4,
 "nbformat_minor": 2
}
