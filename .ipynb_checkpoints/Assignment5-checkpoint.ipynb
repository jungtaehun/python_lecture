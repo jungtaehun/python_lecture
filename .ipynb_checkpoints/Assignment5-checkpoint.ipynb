{
 "cells": [
  {
   "cell_type": "markdown",
   "metadata": {},
   "source": [
    "# Assignment5\n",
    "## 컴퓨터공학부 2016136121 정태훈"
   ]
  },
  {
   "cell_type": "markdown",
   "metadata": {},
   "source": [
    "----------------------------"
   ]
  },
  {
   "cell_type": "markdown",
   "metadata": {},
   "source": [
    "## 문제 1\n",
    "클래스와 모듈의 공통점과 차이점에 대해 설명하시오."
   ]
  },
  {
   "cell_type": "markdown",
   "metadata": {},
   "source": [
    "#### 1번 문제 해설"
   ]
  },
  {
   "cell_type": "markdown",
   "metadata": {},
   "source": [
    "먼저 파일에 있는 모든 정보들을 list화시키기 위해 띄어쓰기를 기준으로 split으로 나눠서 줄 하나하나마다 list로 만들어준 다음, 이를 하나씩 s란 리스트에 넣어줍니다.\n",
    "\n",
    "그 다음에 문제에서 첫번째 단어를 기준으로 정렬을 하는 것이기에 sort함수를 이용하고, key는 두 객체 중 첫번째 객체를 반환하는 함수로 만들어주면 첫번째 단어를 기준으로 정렬이 됩니다.\n",
    "\n",
    "그러면 이제 이를 파일에 입력하기 위해 입력모드상태에서 파일을 열고 문제에서 주어진 틀에 맞게 파일에 입력을 해줍니다. 여기에서 관건은 줄바꿈도 하나씩 해줘야하는 것입니다."
   ]
  },
  {
   "cell_type": "markdown",
   "metadata": {},
   "source": [
    "-----------------------------"
   ]
  },
  {
   "cell_type": "markdown",
   "metadata": {
    "collapsed": true
   },
   "source": [
    "## 문제 2"
   ]
  },
  {
   "cell_type": "markdown",
   "metadata": {},
   "source": [
    "다형성에 대해 설명하고 다형성을 보여주는 자신만의 파이썬 코드 예제를 제시하시오."
   ]
  },
  {
   "cell_type": "markdown",
   "metadata": {},
   "source": [
    "#### 해설 : 문제 2"
   ]
  },
  {
   "cell_type": "markdown",
   "metadata": {
    "collapsed": true
   },
   "source": [
    "먼저 3이 입력될때까지 무한 반복이므로 while문을 사용하여 3이 입력되는 것을 제외하면 true로 해주도록 하였습니다.\n",
    "\n",
    "그다음 1이 입력되었을 때, 회원가입을 하는 것이므로 사용자에게 아이디, 비밀번호, 이름, 학교를 입력받습니다. 그리고 여기서 비밀번호는 hashlib의 sha1을 이용하여 암호화를 시켜줍니다. 그 다음 데이터를 파일에 저장시키는데 먼저 겹치는 사용자가 있는지 확인합니다. 파일을 열어서 line을 하나씩 보고, split(':')[0]를 하여 id를 비교합니다. 만약 가입하려고 하는 아이디와 파일에 있는 아이디가 동일하다면 중복 가입이 되므로, 이 아이디는 이미 사용중이라고 사용자에게 알려주고 break하여 다시 돌려보냅니다. 그것이 아니라면 파일을 추가 모드로 다시 열어서 데이터를 양식에 맞게 write해줍니다. 여기서 데이터 양식은 \"id:password,name,school\"형식입니다.\n",
    "\n",
    "2가 입력되었다면, 로그인을 하는 것이기에 사용자에게 아이디와 비밀번호를 입력받고 파일을 열어줍니다. 먼저 같은 아이디가 있는지 확인해보고 같은 아이디가 없으면 가입이 안되어있다고 하고 다시 돌려보냅니다. 만약 같은 아이디가 있으면 같은 비밀번호인지도 확입해줍니다. 암호화의 경우는 단방향 함수이기에 암호화된 코드를 다시 넣는 것이 아닌, 사용자에게 입력받은 비밀번호를 다시 암호화해서 파일 안의 암호화 값과 같은 암호화 값일 때는 같은 비밀번호라고 인식하여 현재 로그인하려고 하는 사용자가 맞다고 생각합니다. 만약 암호화 값이 다르다면 비밀번호가 틀리다고 하면서 다시 돌려보냅니다. 이제 로그인이 되었다면 그 줄에 해당하는 사용자 이름을 파일에서 가져와서 출력해주고 마칩니다."
   ]
  },
  {
   "cell_type": "markdown",
   "metadata": {},
   "source": [
    "-----------------------"
   ]
  },
  {
   "cell_type": "markdown",
   "metadata": {},
   "source": [
    "## 문제 3\n",
    "다음 각 요구사항 모두를 만족시키는 Counter 클래스를 코딩하시오 (정답을 각 요구사항별로 입력할 필요 없이 3번 문제에 대해 1개의 클래스 정의 코드를 제시하면 된다.)\n",
    "\n",
    "- 요구사항 1. 생성자에 count 값과 step 값을 인자로 받을 수 있다.\n",
    "    - count: Counter 인스턴스가 지니는 초기 정수 값\n",
    "    - step: Counter 인스턴스의 count가 증가되는 증분 (defalt 값: 1)\n",
    "    > \\>\\>\\> c = Counter(10)<br/>\n",
    "    > \\>\\>\\> d = Counter(10, 2)<br/>\n",
    "- 요구사항 2. 다음과 같이 Counter의 인스턴스를 출력을 해주는 \\_\\_str\\_\\_() 메소드를 Counter 클래스 내에 구현하시오.\n",
    "> \\>\\>\\> print(c) <br/>\n",
    "> [Count (step: 1)] 10 <br/>\n",
    "> \\>\\>\\> print(d) <br/>\n",
    "> [Count (step: 2)] 10 <br/>\n",
    "- 요구사항 3. 다음과 같이 step에 주어진 증분만큼 count를 증가시키는 incr() 메소드를 Counter 클래스 내에 구현하시오.\n",
    "> \\>\\>\\> c.incr() <br/>\n",
    "> \\>\\>\\> d.incr() <br/>\n",
    "> \\>\\>\\> print(c) <br/>\n",
    "> [Count (step: 1)] 11 <br/>\n",
    "> \\>\\>\\> print(d) <br/>\n",
    "> [Count (step: 2)] 12 <br/>\n",
    "- 요구사항 4. Counter 클래스 내에 관련 메소드를 추가하여 인스턴스 객체를 직접 호출(call)할 수 있도록 하시오. 인스턴스 객체를 직접 호출했을 때에 내부적으로 incr() 메소드를 호출하는 방법으로 구현하시오.\n",
    "> \\>\\>\\> c() <br/>\n",
    "> \\>\\>\\> d() <br/>\n",
    "> \\>\\>\\> print(c) <br/>\n",
    "> [Count (step: 1)] 12 <br/>\n",
    "> \\>\\>\\> print(d) <br/>\n",
    "> [Count (step: 2)] 14 <br/>\n",
    "- 요구사항 5. 다음과 같은 두 개의 산술 연산 (+, -)이 수행될 수 있도록 Counter 클래스 내에 관련 메소드를 추가하시오.\n",
    "> \\>\\>\\> c = c + 5 <br/>\n",
    "> \\>\\>\\> d = d - 5 <br/>\n",
    "> \\>\\>\\> print(c) <br/>\n",
    "> [Count (step: 1)] 17 <br/>\n",
    "> \\>\\>\\> print(d) <br/>\n",
    "> [Count (step: 2)] 9 <br/>\n",
    "- 요구사항 6. 다음과 같은 관계연산 (>, <, ==)이 수행될 수 있도록 Counter 클래스 내에 관련 메소드를 추가하시오.\n",
    "> \\>\\>\\> print(c) > 10 <br/>\n",
    "> True<br/>\n",
    "> \\>\\>\\> print(d) > 10 <br/>\n",
    "> False <br/>\n",
    "> \\>\\>\\> print(c) < 10 <br/>\n",
    "> False <br/>\n",
    "> \\>\\>\\> print(d) < 10 <br/>\n",
    "> True <br/>\n",
    "> \\>\\>\\> print(c) == 17 <br/>\n",
    "> True <br/>\n",
    "> \\>\\>\\> print(d) != 9 <br/>\n",
    "> False <br/>"
   ]
  },
  {
   "cell_type": "code",
   "execution_count": 1,
   "metadata": {
    "collapsed": true
   },
   "outputs": [],
   "source": [
    "class Counter:\n",
    "    def __init__(self, count, step = 1):\n",
    "        self.count = count\n",
    "        self.step = step\n",
    "    def __str__(self):\n",
    "        return \"[Count (step: %d)] %d\" % (self.step, self.count)\n",
    "    def incr(self):\n",
    "        self.count = self.count + self.step\n",
    "    def __call__(self):\n",
    "        self.incr()\n",
    "    def __add__(self, other):\n",
    "        self.count += other\n",
    "        return self\n",
    "    def __sub__(self, other):\n",
    "        self.count -= other\n",
    "        return self\n",
    "    def __lt__(self, other):\n",
    "        return self.count < other\n",
    "    def __ne__(self, other):\n",
    "        return self.count != other\n",
    "    def __gt__(self, other):\n",
    "        return self.count > other\n",
    "    def __eq__(self, other):\n",
    "        return self.count == other"
   ]
  },
  {
   "cell_type": "code",
   "execution_count": 2,
   "metadata": {},
   "outputs": [
    {
     "name": "stdout",
     "output_type": "stream",
     "text": [
      "[Count (step: 1)] 10\n",
      "[Count (step: 2)] 10\n",
      "[Count (step: 1)] 11\n",
      "[Count (step: 2)] 12\n",
      "[Count (step: 1)] 12\n",
      "[Count (step: 2)] 14\n",
      "[Count (step: 1)] 17\n",
      "[Count (step: 2)] 9\n"
     ]
    }
   ],
   "source": [
    "c = Counter(10)\n",
    "d = Counter(10, 2)\n",
    "print(c)\n",
    "print(d)\n",
    "c.incr()\n",
    "d.incr()\n",
    "print(c)\n",
    "print(d)\n",
    "c()\n",
    "d()\n",
    "print(c)\n",
    "print(d)\n",
    "c = c + 5\n",
    "d = d - 5\n",
    "print(c)\n",
    "print(d)\n",
    "print(c > 10)\n",
    "print(d > 10)\n",
    "print(c < 10)\n",
    "print(d < 10)\n",
    "print(c == 17)\n",
    "print(d != 9)"
   ]
  },
  {
   "cell_type": "markdown",
   "metadata": {},
   "source": [
    "#### 해설 : 문제3"
   ]
  },
  {
   "cell_type": "markdown",
   "metadata": {
    "collapsed": true
   },
   "source": [
    "frange()의 경우, 인자를 1개, 2개, 3개를 받을 때 구현하는 것이 다르기에 인자의 갯수마다 기능을 다르게 하기 위해 가변 인자를 입력받고 이를 <span> *lst </span>로 표현하였습니다. 그다음 lst의 길이에 따라 기능을 다르게 해주기 위해 len(lst) 가 1, 2, 3일때의 기능을 다르게 하였습니다. \n",
    "먼저 1개의 인자를 받을 때에는 start가 0.0부터, 간격은 0.1로 하기에 end만 사용자에게 받은 인자로 설정해줍니다. 그리고 while문을 이용해 i를 0부터 시작해 0.1씩 더해주면서 i가 end를 초가할 때까지 l이란 리스트에 데이터를 추가해주고 while문이 종료되면 l를 반환시켜주면 됩니다.\n",
    "\n",
    "2개의 인자를 받을 때는 start가 추가되는 것이기에 1개의 인자일 때 실행하는 것에 i를 첫번째 인자로 설정해주고, 0.1씩 더해주면서 i가 end를 초가할때까지 리스트에 데이터를 추가하고 종료되면 반환해줍니다.\n",
    "\n",
    "3개의 인자를 받을 대는 step이 추가되는 것이기에 2개의 인자를 바뀔 때 하는 것에 step을 바꿔주기만 하면 됩니다. 그리고 그렇게 해서 나온 리스트를 반환시켜주면 됩니다.\n",
    "\n",
    "그 외의 인자의 갯수를 받으면 pass를 하여 None을 반환시켜줍니다."
   ]
  },
  {
   "cell_type": "markdown",
   "metadata": {},
   "source": [
    "## 문제 4"
   ]
  },
  {
   "cell_type": "markdown",
   "metadata": {},
   "source": [
    "다음은 내장 자료형 list를 서브클래싱하여 만든 MySet 클래스 정의 내용이다. 다음 클래스 정의에서 \\_\\_init\\_\\_(), \\_\\_str()\\_\\_(), elimicate_duplicate()의 세 개의 메소드 코드 내용을 자신이 다른 사람에게 가르친다고 생각하며 설명해보시오.\n",
    "\n",
    "- MySet은 집합(Set) 자료형을 정의하려는 의도하에 만들어진 클래스이다."
   ]
  },
  {
   "cell_type": "markdown",
   "metadata": {},
   "source": [
    "#### 문제 4 해설"
   ]
  },
  {
   "cell_type": "markdown",
   "metadata": {
    "collapsed": true
   },
   "source": [
    "문제3에서 사용했었던 가변 인수를 사용하여 가변 인수의 길이가 0일 때는 그대로 0을 반환, 그 이외에는 lst를 for문을 하여 s를 0으로 초기화하여 lst의 인수를 하나씩 더해주고 최종적으로 모두 더한 값은 s에 저장되며 이를 반환하면 됩니다."
   ]
  },
  {
   "cell_type": "markdown",
   "metadata": {},
   "source": [
    "## 문제 5"
   ]
  },
  {
   "cell_type": "markdown",
   "metadata": {},
   "source": [
    "4번 문제에 정의된 MySet 클래스에 메소드를 추가하여 다음 각 요구사항 모두를 만족시키는 코딩을 제시하시오\n",
    "\n",
    "정답을 각 요구사항별로 입력할 필요 없이 요구사항 3개 전체에 대해 1개의 MySet 클래스 정의 코드를 제시하고 주석등으로 해당 코드를 설명한다.\n",
    "- 요구사항 1. | 연산으로 두 집합의 합집합을 반환한다.\n",
    "> \\>\\>\\> u = s | t <br/>\n",
    "> \\>\\>\\> print(u) <br/>\n",
    "> MySet: {1, 2, 3, 4, 5, 6, 7, 8, 9} <br/>\n",
    "\n",
    "- 요구사항 2. & 연산으로 두 집합의 교집합을 반환한다.\n",
    "> \\>\\>\\> u = s & t <br/>\n",
    "> \\>\\>\\> print(u) <br/>\n",
    "> MySet: {2, 3} <br/>\n",
    "\n",
    "- 요구사항 3. - 연산으로 두 집합의 차집합을 반환한다.\n",
    "> \\>\\>\\> s = MySet([1, 2, 3]) <br/>\n",
    "> \\>\\>\\> t = MySet([3, 4, 5]) <br/>\n",
    "> \\>\\>\\> u = s - t <br/>\n",
    "> \\>\\>\\> print(u) <br/>\n",
    "> MySet: {1, 2} <br/>"
   ]
  },
  {
   "cell_type": "markdown",
   "metadata": {},
   "source": [
    "#### 문제5 해설"
   ]
  },
  {
   "cell_type": "markdown",
   "metadata": {},
   "source": [
    "먼저 String값을 받으면 먼저 띄어쓰기를 기준으로 split을 하여 단어 단위로 끊어줍니다. 그 다음 단어에서도 맨 처음 문자를 추출하는데 이 때는 map을 이용해보았습니다. 이 때 첫번째 문자를 추출하기에 d[0]을 반환하는데, 대문자로 해야하므로 이때 upper를 이용하기로 하였습니다. map함수의 경우 map(키, map을 이용할 시퀸스 자료형)를 하면 됩니다. 그리고 이를 list로 하나로 묶어주는데, 이유는 python3으로 넘어가면서 map을 이용하고 나서 반환되는 값이 map 객체이므로 list로 한번 더 변환해주어야합니다.\n",
    "\n",
    "그 다음 join을 이용하고 그 사이 값을 \"\"로 하여 사이에 아무것도 들어가지 않게 합니다. 그렇게 하면 s에는 단어 맨 첫번째 문자가 대문자의 형태로 합쳐진 string 형태로 저장되어있고, 함수 사용 예를 볼 때 이 값을 반환하는 것이 아니라 출력를 하는 것으로 끝나는 것 같아 print(s)를 해주고 반환 형태는 없는 pass로 하기로 하였습니다."
   ]
  },
  {
   "cell_type": "markdown",
   "metadata": {},
   "source": [
    "## 문제 6"
   ]
  },
  {
   "cell_type": "markdown",
   "metadata": {},
   "source": [
    "5번 문제에서 정의한 MySet 클래스에 대해 다음 예제를 수행하면 오류없이 올바르게 동작하는 것을 확인할 수 있다. 다음 예제 내에 있는 len(), bool() 내장함수와 in 키워드 사용 예제가 별다른 메소드 정의를 하지 않았는 데도 올바르게 수행되는 이유를 설명하시오.\n",
    "\n",
    "> \\>\\>\\> s = MySet([1, 2, 3, 4, 5, 6]) <br/>\n",
    "> \\>\\>\\> print(len(s))<br/>\n",
    "> \\> 6<br/>\n",
    "> \\>\\>\\> print(bool(s))<br/>\n",
    "> \\> True<br/>\n",
    "> \\>\\>\\> print(2 in s)<br/>\n",
    "> \\> True<br/>"
   ]
  },
  {
   "cell_type": "markdown",
   "metadata": {},
   "source": [
    "#### 문제6 해설"
   ]
  },
  {
   "cell_type": "markdown",
   "metadata": {},
   "source": [
    "재귀적 함수의 경우 반복 부분과 종료 부분을 나눠줍니다. factorial 함수를 구현하려고 한다면 return은 <span>n x factorial(n-1) </span>로 해주고 결국 factorial(1)이 된다면 1을 return해주어서 기존에 <span>2 x factorial(1)</span>을 사용했던 factorial(2)는 <span>2 x 1</span>이 되어서 2가 return되고 이를 계속 반복되면 최종적으로 원하는 factorial값을 반환하게 됩니다. 이를 그대로 myfact 함수에 적용해주면 됩니다. 한번 실행해본 결과 어느 수치가 되면\n",
    "\n",
    "RecursionError: maximum recursion depth exceeded in comparison 오류가 뜨면서 더이상 계산이 안되는 것을 볼 수 있었습니다."
   ]
  },
  {
   "cell_type": "markdown",
   "metadata": {},
   "source": [
    "---------------------"
   ]
  },
  {
   "cell_type": "markdown",
   "metadata": {},
   "source": [
    "## 문제 7"
   ]
  },
  {
   "cell_type": "markdown",
   "metadata": {},
   "source": [
    "이전 Assignment 3 (Assignment 4가 아님)의 마지막 문제는 웹 URL로 지정된 웹페이지를 문자열로 가져와 모든 HTML 태그 및 CSS와 Javascript를 제외한 순수 텍스트를 얻어내고 그 안에 존재하는 단어를 추출하여 각 단어들에 대해 출현빈도를 사전형태({'world': 2, 'hello': 1, 'python': 1})로 저장하여 출력하는 것이었다. 이번에는 Assignment 3을 다시 확장/변형하여 다음과 같은 조건을 만족하도록 구현하시오.\n",
    "   - 1) 새로운 클래스 WebWordsFrequency를 정의하시오.\n",
    "     - 이전 Assignment 4에서 고려했던 pickle 모듈등은 전혀 고려하지 마시오.\n",
    "         - 즉, 하드디스크에 저장하고 다시 로드하는 기능은 본 숙제에는 배제하시오.\n",
    "     - Assignment 4에서 고려했던 영어 불용어 처리는 적용하시오.\n",
    "     - Assignment 4에서 처럼 국문 사이트가 아닌 영어 사이트만을 고려하여 아래 사항을 코딩하시오.\n",
    "   - 2) 생성자에 URL을 0개에서 임의의 개수를 넣을 수 있도록 생성자 인수를 가변인수로 정의하여 각각의 URL을 리스트 자료형에 유지하시오.\n",
    "     > \\>\\>\\> w1 = WebWordsFrequency('http://www.cnn.com', 'http://www.times.com', 'https://www.amazon.com') <br/>\n",
    "     > \\>\\>\\> w2 = WebWordsFrequency('http://www.cnn.com', 'http://www.times.com') <br/>\n",
    "     > \\>\\>\\> w3 = WebWordsFrequency() <br/>\n",
    "   - 3) addUrl() 메소드를 구현하여 인스턴스를 생성한 이후에도 URL을 추가할 수 있도록 한다.\n",
    "     - 반드시 1개의 URL을 추가하도록 구현 (즉, 동시에 여러 개의 URL을 추가하는 것은 배제)\n",
    "     \n",
    "     > \\>\\>\\> w1.addUrl('https://github.com')<br/>\n",
    "     > \\>\\>\\> w3.addUrl('http://stackoverflow.com')<br/>\n",
    "   - 4) removeUrl() 메소드를 구현하여 URL을 삭제할 수 있도록 한다.\n",
    "     - 반드시 1개의 URL을 삭제하도록 구현 (즉, 동시에 여러 개의 URL을 삭제하는 것은 배제)  \n",
    "     \n",
    "     > \\>\\>\\> w1.removeUrl('http://www.cnn.com')<br/>\n",
    "     > \\>\\>\\> w2.removeUrl('http://stackoverflow.com')<br/>\n",
    "   - 5) listUrls() 메소드를 구현하여 현재 등록된 모든 URL을 출력하는 기능을 추가\n",
    "     > \\>\\>\\> w1.listUrls()<br/>\n",
    "     > http://www.times.com <br/>\n",
    "     > https://www.amazon.com <br/>\n",
    "     > https://github.com <br/>\n",
    "   - 6) getWordsFrequency() 메소드를 구현하여 각 URL의 웹페이지들을 종합적으로 분석한 단어 출현 빈도 사전을 반환하시오.\n",
    "     - 만약 등록된 URL이 없다면 공백 사전을 반환 \n",
    "     \n",
    "     > \\>\\>\\> w1.getWordsFrequency() <br/>\n",
    "     > {'hello': 8, 'site': 12, 'world': 2, 'science': 11, 'program': 1, 'python': 1}\n",
    "   - 7) getMaxFreqencyWords() 메소드를 구현하여 각 URL의 웹페이지들을 종합적으로 분석한 단어 출현 빈도 사전에서 가장 많이 출현한 단어 리스트를 반환하시오.\n",
    "       \n",
    "     > \\>\\>\\> w1.getMaxFreqencyWords() <br/>\n",
    "     > site <br/>\n",
    "     \n",
    "     - 최다 출현 단어의 빈도수가 동일한 경우 모두 출력해주어야 함 \n",
    "     \n",
    "     > \\>\\>\\> w2.getMaxFreqencyWords() <br/>\n",
    "     > site <br/>\n",
    "     > science\n",
    "     \n",
    "     - 만약 등록된 URL이 없다면 None을 반환\n",
    "   - 8) 임의의 단어 1개를 파라미터로 받는 searchUrlByWord() 메소드를 구현하여 유사도가 높은 웹 사이트를 출력하시오.\n",
    "     > \\>\\>\\> w1.searchUrlByWord(\"news\")<br/>\n",
    "     > http://www.cnn.com <br/>\n",
    "     \n",
    "     - 파라미터로 받은 단어와 유사도가 동일한 URL이 여러 개이면 해당 URL을 모두 출력하시오.  "
   ]
  },
  {
   "cell_type": "markdown",
   "metadata": {},
   "source": [
    "#### 문제7 해설"
   ]
  },
  {
   "cell_type": "code",
   "execution_count": null,
   "metadata": {
    "collapsed": true
   },
   "outputs": [],
   "source": []
  },
  {
   "cell_type": "markdown",
   "metadata": {},
   "source": [
    "-------------------------------------"
   ]
  },
  {
   "cell_type": "markdown",
   "metadata": {},
   "source": [
    "## 문제 8"
   ]
  },
  {
   "cell_type": "markdown",
   "metadata": {},
   "source": [
    "위 7번 문제에서 정의한 WebWordsFrequency 클래스를 상속하여 OrderedWebWordsFrequency 클래스를 정의하고 슈퍼클래스에 정의된 getWordsFrequency() 메소드를 오버라이드 하여 단어 출현 빈도를 내림 차순으로 정렬하여 리스트로 출력하시오.\n",
    "   - 리스트 내의 각 원소는 단어와 빈도를 쌍으로 지니는 튜플이다.\n",
    "   - getWordFrequence() 메소드에 reverse 라는 인자를 만들고 true 또는 false를 인자로 받을 수 있도록 한다.\n",
    "     - reverse 인자의 디폴트 값은 false 이며, 기본적으로 내림차순으로 정렬한다.\n",
    "     - reverse 인자에 true를 넣으면 오름차순으로 정렬한다.\n",
    "     \n",
    "   > \\>\\>\\> w4 = OrderedWebWordsFrequency('http://www.times.com', 'https://www.amazon.com', 'https://github.com')\n",
    "     \n",
    "   > \\>\\>\\> w4.getWordsFrequency()<br/>\n",
    "   > [('site', 12), ('science', 11), ('hello', 8), ('world', 2), ('program', 1), ('python', 1)]\n",
    "     \n",
    "   > \\>\\>\\> w4.getWordsFrequency(reverse=true)<br/>\n",
    "   > [('program', 1), ('python', 1), ('world', 2), ('hello', 8), ('science', 11), ('site', 12)]"
   ]
  },
  {
   "cell_type": "markdown",
   "metadata": {},
   "source": [
    "#### 문제8 해설"
   ]
  },
  {
   "cell_type": "markdown",
   "metadata": {},
   "source": [
    "먼저 Assingment3까지 만들었던 단어 갯수에 대한 사전 데이터를 url리스트 이름에 맞게 저장하려면 먼저 for문을 urls에 적용하여 url 하나하나씩 파일로 저장할 수 있게 해줍니다. 이 때 url 하나는 string 형태이며 이에 맞게 파일을 wb 형태로 열어줍니다. 이 때 자신이 원하는 폴더에 저장하기 위해 directory 변수를 하나 추가하여 절대 경로에 해당하는 폴더 경로를 저장합니다. 이 때 os를 import하여 설정하는 것도 가능한 걸로 알고 있습니다. 이제 file을 열었다면 pickle 모듈을 이용하여 사전 데이터를 저장하는데 이는 dump()를 이용하면 됩니다. 이렇게하면 item에 해당하는 파일 이름으로(예를 들어 test1이 item이라면 'test1.words.frequency' 파일 이름으로 저장되게 됩니다."
   ]
  },
  {
   "cell_type": "markdown",
   "metadata": {},
   "source": [
    "## 문제 9"
   ]
  },
  {
   "cell_type": "markdown",
   "metadata": {},
   "source": [
    "다음과 같은 코딩이 가능하도록 OrderedWebWordsFrequency 안에 반복자와 관련된 메소드를 추가하시오.\n",
    " \n",
    " > \\>\\>\\>&nbsp;for i in w4:<br/>\n",
    " > \\>\\>\\>&nbsp;&nbsp;&nbsp;&nbsp;&nbsp;&nbsp;&nbsp;print(i)<br/>\n",
    " > ('site, 12)<br/>\n",
    " > ('science', 11)<br/>\n",
    " > ('hello', 8)<br/>\n",
    " > ('world', 2)<br/>\n",
    " > ('program', 1)<br/>\n",
    " > ('python', 1)<br/>"
   ]
  },
  {
   "cell_type": "markdown",
   "metadata": {},
   "source": [
    "-----------------------------------"
   ]
  },
  {
   "cell_type": "markdown",
   "metadata": {
    "collapsed": true
   },
   "source": [
    "## 느낀 점"
   ]
  },
  {
   "cell_type": "markdown",
   "metadata": {
    "collapsed": true
   },
   "source": [
    "이번 과제는 파일, 함수, 모듈을 중심으로 한 과제였습니다. 특히 마지막 과제는 조금 막막하였는데 결국 구현하는 것이 신기하였습니다. 다만 조금 아쉬웠던 건 예전에 배웠던 딥러닝을 이용해서 Word2Vec을 사용해보려고 했지만, 이에 해당하는 dataset과 어떻게 모델을 구현해야할 지 감이 안 잡혀서 결국 wordsAPI를 사용하여 구현하는 걸로 대신하였습니다. 이번에 깜짝 놀랄 정도로 과제를 구현하고 싶었는데 조금 아쉽다는 느낌이 들었습니다. 그리고 현재 java도 배우고 python을 배우고 ruby도 배우고 있는 상황에서 가끔 언어가 헷갈릴 때가 있습니다. 특히 ruby와 python의 문법이 헷갈릴 때가 많습니다. 예를 들어 ruby에서 인덱스와 for문을 같이 사용하려면 다음과 같이 사용합니다.\n",
    "```ruby\n",
    "list.each_with_index do |v, i|\n",
    "    puts i, v\n",
    "end\n",
    "```\n",
    "하지만 python에서 이와 똑같이 구현하려면 코드가 확연히 달라집니다.\n",
    "```python\n",
    "for i, v in enumerate(list):\n",
    "    print(i, v)\n",
    "```\n",
    "이 둘의 예시만 봐도 이 두 언어는 비슷하면서도 매우 다른 언어라는 것이 느껴집니다. 그렇기에 스크립트 언어를 사용할 때마다 문법이 헷갈려서 구글링를 한 번 해서 문법을 확인해보기도 합니다. 하지만 헷갈리더라도 이 두 언어를 모두 알고 있으면 매우 많은 도움이 되는 것 같습니다.\n",
    "\n",
    "그리고 사실 파이썬의 경우는 많은 모듈들이 있어서 파이썬의 중요한 모듈과 사용 방법만 해도 매우 방대해서 1학기만에 불가능할 정도입니다. 그럼에도 한번쯤 해봤으면 좋은 것이 requests나 beautifulsoup 등등도 조금 다루었으면 좋겠다는 생각도 듭니다.\n",
    "\n",
    "과제 하나하나가 많은 도움이 되었습니다. 만약 이 수업이 끝나더라도 혼자서 파이썬 언어를 더 배울 생각입니다."
   ]
  }
 ],
 "metadata": {
  "kernelspec": {
   "display_name": "Python 3",
   "language": "python",
   "name": "python3"
  },
  "language_info": {
   "codemirror_mode": {
    "name": "ipython",
    "version": 3
   },
   "file_extension": ".py",
   "mimetype": "text/x-python",
   "name": "python",
   "nbconvert_exporter": "python",
   "pygments_lexer": "ipython3",
   "version": "3.6.3"
  }
 },
 "nbformat": 4,
 "nbformat_minor": 2
}
