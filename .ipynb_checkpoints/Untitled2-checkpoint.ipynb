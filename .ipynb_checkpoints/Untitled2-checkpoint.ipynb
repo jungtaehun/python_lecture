{
 "cells": [
  {
   "cell_type": "code",
   "execution_count": 4,
   "metadata": {},
   "outputs": [
    {
     "name": "stdout",
     "output_type": "stream",
     "text": [
      "[10, 20, 30, 40, 50, 60]\n",
      "60\n",
      "[10, 20, 30, 40, 50]\n",
      "10\n",
      "[20, 30, 40, 50]\n"
     ]
    }
   ],
   "source": [
    "s = [10, 20, 30, 40, 50]\n",
    "s.append(60)\n",
    "print(s)\n",
    "\n",
    "print(s.pop())\n",
    "\n",
    "print(s)\n",
    "\n",
    "print(s.pop(0))\n",
    "\n",
    "print(s)"
   ]
  },
  {
   "cell_type": "code",
   "execution_count": 6,
   "metadata": {},
   "outputs": [
    {
     "name": "stdout",
     "output_type": "stream",
     "text": [
      "sorted by name: [('jung', 10, 36), ('kim', 3, 28), ('lee', 5, 38)]\n",
      "sorted by experience: [('kim', 3, 28), ('lee', 5, 38), ('jung', 10, 36)]\n",
      "sorted by experience: [('kim', 3, 28), ('jung', 10, 36), ('lee', 5, 38)]\n"
     ]
    }
   ],
   "source": [
    "L = [ ('lee', 5, 38), ('kim', 3, 28), ('jung', 10, 36)]\n",
    "\n",
    "def cmp_by_each_element1(a):\n",
    "    return a[1]\n",
    "def cmp_by_each_element2(a):\n",
    "    return a[2]\n",
    "\n",
    "L.sort()\n",
    "print('sorted by name:', L)\n",
    "\n",
    "L.sort(key=cmp_by_each_element1)\n",
    "print('sorted by experience:', L)\n",
    "\n",
    "L.sort(key=cmp_by_each_element2)\n",
    "print('sorted by experience:', L)"
   ]
  },
  {
   "cell_type": "code",
   "execution_count": 7,
   "metadata": {},
   "outputs": [
    {
     "name": "stdout",
     "output_type": "stream",
     "text": [
      "sorted by the first character: ['jung', 'kim', 'loh']\n",
      "sorted by the second character: ['kim', 'loh', 'jung']\n"
     ]
    }
   ],
   "source": [
    "S = ['loh', 'kim', 'jung']\n",
    "\n",
    "def cmp_by_each_element(a):\n",
    "    return a[1]\n",
    "\n",
    "S.sort()\n",
    "print('sorted by the first character:', S)\n",
    "\n",
    "S.sort(key=cmp_by_each_element)\n",
    "print('sorted by the second character:', S)"
   ]
  },
  {
   "cell_type": "code",
   "execution_count": 14,
   "metadata": {},
   "outputs": [
    {
     "name": "stdout",
     "output_type": "stream",
     "text": [
      "[jung, kim, lee]\n"
     ]
    }
   ],
   "source": [
    "class Person:\n",
    "    def __init__(self, name, exp, age):\n",
    "        self.name = name\n",
    "        self.exp = exp\n",
    "        self.age = age\n",
    "    def __repr__(self):\n",
    "        return self.name\n",
    "    \n",
    "def indicate_key_of_person(p):\n",
    "    return p.name\n",
    "\n",
    "p1 = Person('kim', 3, 34)\n",
    "p2 = Person('lee', 5, 50)\n",
    "p3 = Person('jung', 10, 55)\n",
    "\n",
    "s = [p1, p2, p3]\n",
    "\n",
    "s.sort(key=indicate_key_of_person)\n",
    "\n",
    "print(s)"
   ]
  },
  {
   "cell_type": "code",
   "execution_count": null,
   "metadata": {
    "collapsed": true
   },
   "outputs": [],
   "source": []
  }
 ],
 "metadata": {
  "kernelspec": {
   "display_name": "Python 3",
   "language": "python",
   "name": "python3"
  },
  "language_info": {
   "codemirror_mode": {
    "name": "ipython",
    "version": 3
   },
   "file_extension": ".py",
   "mimetype": "text/x-python",
   "name": "python",
   "nbconvert_exporter": "python",
   "pygments_lexer": "ipython3",
   "version": "3.6.1"
  }
 },
 "nbformat": 4,
 "nbformat_minor": 2
}
