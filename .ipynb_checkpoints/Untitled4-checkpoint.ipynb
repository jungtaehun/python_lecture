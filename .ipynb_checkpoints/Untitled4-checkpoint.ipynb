{
 "cells": [
  {
   "cell_type": "code",
   "execution_count": 1,
   "metadata": {},
   "outputs": [
    {
     "name": "stdout",
     "output_type": "stream",
     "text": [
      "test\n"
     ]
    }
   ],
   "source": [
    "print(\"test\")"
   ]
  },
  {
   "cell_type": "code",
   "execution_count": 14,
   "metadata": {
    "collapsed": true
   },
   "outputs": [],
   "source": [
    "class Counter:\n",
    "    def __init__(self, count, step = 1):\n",
    "        self.count = count\n",
    "        self.step = step\n",
    "    def __str__(self):\n",
    "        return \"[Count (step: %d)] %d\" % (self.step, self.count)\n",
    "    def incr(self):\n",
    "        self.count = self.count + self.step\n",
    "    def __call__(self):\n",
    "        self.incr()\n",
    "    def __add__(self, other):\n",
    "        self.count += other\n",
    "        return Counter(self.count, self.step)\n",
    "    def __sub__(self, other):\n",
    "        self.count -= other\n",
    "        return Counter(self.count, self.step)"
   ]
  },
  {
   "cell_type": "code",
   "execution_count": 16,
   "metadata": {},
   "outputs": [
    {
     "name": "stdout",
     "output_type": "stream",
     "text": [
      "[Count (step: 1)] 10\n",
      "[Count (step: 2)] 10\n",
      "[Count (step: 1)] 11\n",
      "[Count (step: 2)] 12\n",
      "[Count (step: 1)] 12\n",
      "[Count (step: 2)] 14\n",
      "[Count (step: 1)] 17\n",
      "[Count (step: 2)] 9\n"
     ]
    }
   ],
   "source": [
    "c = Counter(10)\n",
    "d = Counter(10, 2)\n",
    "print(c)\n",
    "print(d)\n",
    "c.incr()\n",
    "d.incr()\n",
    "print(c)\n",
    "print(d)\n",
    "c()\n",
    "d()\n",
    "print(c)\n",
    "print(d)\n",
    "c = c + 5\n",
    "d = d - 5\n",
    "print(c)\n",
    "print(d)"
   ]
  },
  {
   "cell_type": "code",
   "execution_count": 50,
   "metadata": {
    "collapsed": true
   },
   "outputs": [],
   "source": [
    "class MySet:\n",
    "    def __init__(self, d = None):\n",
    "        if d == None: d = {}\n",
    "        self.d = set(d)\n",
    "    def __len__(self):\n",
    "        return len(self.d)"
   ]
  },
  {
   "cell_type": "code",
   "execution_count": 138,
   "metadata": {
    "scrolled": true
   },
   "outputs": [],
   "source": [
    "import string\n",
    "from urllib import request\n",
    "class WebWordsFrequency:\n",
    "    def __init__(self, *urls):\n",
    "        self.d = list(urls)\n",
    "        self.dic = {}\n",
    "        \n",
    "    def addUrl(self, url):\n",
    "        self.d.append(url)\n",
    "        \n",
    "    def __str__(self):\n",
    "        return str(self.d)\n",
    "    \n",
    "    def removeUrl(self, url):\n",
    "        self.d.pop(self.d.index(url))\n",
    "        \n",
    "    def listUrls(self):\n",
    "        print(\"\\n\".join(self.d))\n",
    "    \n",
    "    # url에 따른 list 형식으로\n",
    "    def getWordsFrequency(self):\n",
    "        stopword = []\n",
    "        with open('stopword.txt', 'r', encoding='utf8') as f:\n",
    "            for line in f:\n",
    "                if (line != \"\\n\"):\n",
    "                    stopword.append(line.strip())\n",
    "        stopword.append(\"nbsp\")\n",
    "        stopword.append(\"lt\")\n",
    "        stopword.append(\"gt\")\n",
    "        stopword.append(\"amp\")\n",
    "        stopword.append(\"quot\")\n",
    "        stopword.append(\"pm\")\n",
    "        stopword.append(\"et\")\n",
    "        stopword.append(\"est\")\n",
    "        stopword.append(\"raquo\")\n",
    "\n",
    "        for url in self.d:\n",
    "            total_word = 0\n",
    "            words = []\n",
    "            javascript_check = False\n",
    "            css_check = False\n",
    "\n",
    "            f = request.urlopen(url)\n",
    "            source_bytes = f.read()\n",
    "            source = source_bytes.decode('utf-8')\n",
    "\n",
    "            for i in source.split(\"<\"):\n",
    "                m = i.split(\">\")\n",
    "\n",
    "                if len(m) > 1:\n",
    "                    check = m[0].split()\n",
    "                    if len(check) > 0:\n",
    "                            # if('script' in m[0] and m[0].find(\"description\") == -1 and m[0].find(\"subscription\") == -1 and m[0].find(\"transcript\") == -1 and m[0].find(\" javascript:void();\") == -1): javascript_check = True\n",
    "                        if ('script' == check[0]): javascript_check = True\n",
    "                        if ('/script' in m[0]): javascript_check = False\n",
    "                            # if(m[0].find('style') != -1 and m[0].find('style=') == -1 and m[0].find('stylesheet') == -1and m[0].find('Lifestyle') == -1): css_check = True\n",
    "                        if ('style' == check[0]): css_check = True\n",
    "                        if ('/style' in m[0]): css_check = False\n",
    "                        m = m[1].strip().lower()\n",
    "                        if (m != \"\" and not javascript_check and not css_check):\n",
    "                            rep = [\"//\", \"--\", '\\'', '$', '©', '&', '%', '\"', '^', 'ⓒ', '·', '…', '—', '~', '–', '»', '!',\n",
    "                                       '”', '㈜', '-', '/', ':', '(', ')', '[', ']', '_', '“', '‘', '’', '.', ',']\n",
    "                            rep = rep + list(string.punctuation)\n",
    "                            rep = list(set(rep))\n",
    "                            for r in rep:\n",
    "                                m = m.replace(r, ' ')\n",
    "                            m = m.split()\n",
    "                                # print(m)\n",
    "                            for n in m:\n",
    "                                if (n != ''):\n",
    "                                    if (n.isdigit()):\n",
    "                                        continue\n",
    "                                    else:\n",
    "                                        if (n not in stopword):\n",
    "                                            total_word += 1\n",
    "                                            words.append(n.strip())\n",
    "                                                # print(n.strip())\n",
    "            for i in words:\n",
    "                if (i not in self.dic):\n",
    "                    self.dic[i] = 1\n",
    "                else:\n",
    "                    self.dic[i] = self.dic[i] + 1\n",
    "            print(str(self.dic))\n",
    "            \n",
    "    # 조금 더 자세히\n",
    "    def getMaxFreqencyWords(self):\n",
    "        if(self.dic != {}):\n",
    "            print(max(self.dic.items(), key= lambda d: d[1])[0])\n",
    "    # 추가\n",
    "    def searchUrlByWord(self, word):\n",
    "        pass\n",
    "        "
   ]
  },
  {
   "cell_type": "code",
   "execution_count": 139,
   "metadata": {
    "collapsed": true
   },
   "outputs": [],
   "source": [
    "w1 = WebWordsFrequency('http://www.cnn.com', 'http://www.times.com') "
   ]
  },
  {
   "cell_type": "code",
   "execution_count": 140,
   "metadata": {},
   "outputs": [
    {
     "name": "stdout",
     "output_type": "stream",
     "text": [
      "{'cnn': 12, 'breaking': 2, 'news': 7, 'world': 3, 'weather': 3, 'entertainment': 2, 'video': 8, 'home': 3, 'regions': 3, 'politics': 3, 'money': 1, 'tech': 3, 'sport': 3, 'travel': 1, 'style': 1, 'health': 3, 'vr': 3, 'live': 1, 'tv': 5, 'search': 1, 'international': 11, 'edition': 7, 'arabic': 4, 'español': 3, 'set': 4, 'preference': 4, 'confirm': 4, 'africa': 4, 'americas': 2, 'asia': 2, 'china': 2, 'europe': 2, 'middle': 2, 'east': 2, 'opinion': 2, 'congress': 2, 'security': 2, 'nine': 2, 'trumpmerica': 2, 'business': 4, 'markets': 2, 'luxury': 4, 'stars': 2, 'screen': 2, 'binge': 2, 'culture': 4, 'media': 2, 'gadgets': 2, 'future': 2, 'startups': 2, 'football': 2, 'tennis': 2, 'equestrian': 2, 'golf': 2, 'judo': 2, 'horse': 2, 'racing': 2, 'motorsport': 2, 'sailing': 2, 'skiing': 2, 'olympics': 2, 'destinations': 2, 'food': 2, 'drink': 2, 'play': 2, 'stay': 2, 'videos': 2, 'arts': 2, 'design': 2, 'fashion': 2, 'architecture': 2, 'autos': 2, 'diet': 2, 'fitness': 2, 'living': 2, 'parenting': 2, 'family': 2, 'vital': 2, 'signs': 2, 'features': 4, 'freedom': 2, 'project': 2, 'impact': 2, 'inside': 2, 'degrees': 2, 'heroes': 2, 'feature': 2, 'hln': 2, 'schedule': 2, 'worldwide': 2, 'cnnvr': 2, 'watch': 2, 'archives': 2, 'profiles': 2, 'leadership': 2, 'pressroom': 2, 'partner': 2, 'sites': 2, 'ireport': 2, 'espa': 1, 'ntilde': 1, 'ol': 1, 'facebook': 1, 'twitter': 1, 'instagram': 1, 'copy': 2, 'cable': 2, 'network': 2, 'turner': 1, 'broadcasting': 1, 'system': 1, 'inc': 1, 'rights': 1, 'reserved': 1, 'sans': 1, 'trade': 1, 'terms': 1, 'privacy': 1, 'policy': 1, 'adchoices': 1, 'msa': 1, 'statement': 1, 'advertise': 1, 'store': 1, 'newsletters': 1, 'help': 1, 'transcripts': 1, 'license': 1, 'footage': 1, 'newsource': 1}\n",
      "{'cnn': 12, 'breaking': 3, 'news': 15, 'world': 9, 'weather': 3, 'entertainment': 2, 'video': 14, 'home': 7, 'regions': 3, 'politics': 6, 'money': 4, 'tech': 6, 'sport': 3, 'travel': 6, 'style': 6, 'health': 15, 'vr': 3, 'live': 3, 'tv': 6, 'search': 7, 'international': 11, 'edition': 9, 'arabic': 4, 'español': 4, 'set': 11, 'preference': 4, 'confirm': 4, 'africa': 4, 'americas': 2, 'asia': 3, 'china': 5, 'europe': 2, 'middle': 2, 'east': 2, 'opinion': 11, 'congress': 2, 'security': 4, 'nine': 2, 'trumpmerica': 2, 'business': 9, 'markets': 2, 'luxury': 4, 'stars': 2, 'screen': 2, 'binge': 2, 'culture': 5, 'media': 2, 'gadgets': 2, 'future': 5, 'startups': 2, 'football': 2, 'tennis': 2, 'equestrian': 2, 'golf': 2, 'judo': 2, 'horse': 2, 'racing': 2, 'motorsport': 2, 'sailing': 3, 'skiing': 2, 'olympics': 2, 'destinations': 2, 'food': 6, 'drink': 2, 'play': 4, 'stay': 3, 'videos': 4, 'arts': 8, 'design': 3, 'fashion': 5, 'architecture': 2, 'autos': 2, 'diet': 2, 'fitness': 4, 'living': 4, 'parenting': 2, 'family': 3, 'vital': 2, 'signs': 2, 'features': 4, 'freedom': 2, 'project': 2, 'impact': 2, 'inside': 4, 'degrees': 2, 'heroes': 2, 'feature': 5, 'hln': 2, 'schedule': 2, 'worldwide': 2, 'cnnvr': 2, 'watch': 2, 'archives': 2, 'profiles': 2, 'leadership': 3, 'pressroom': 2, 'partner': 2, 'sites': 2, 'ireport': 2, 'espa': 1, 'ntilde': 1, 'ol': 1, 'facebook': 3, 'twitter': 2, 'instagram': 1, 'copy': 3, 'cable': 2, 'network': 2, 'turner': 1, 'broadcasting': 1, 'system': 1, 'inc': 1, 'rights': 1, 'reserved': 1, 'sans': 1, 'trade': 1, 'terms': 3, 'privacy': 2, 'policy': 2, 'adchoices': 1, 'msa': 1, 'statement': 1, 'advertise': 2, 'store': 2, 'newsletters': 2, 'help': 4, 'transcripts': 1, 'license': 1, 'footage': 1, 'newsource': 1, 'york': 15, 'times': 14, 'multimedia': 2, 'nytimes': 3, 'com': 3, 'supports': 1, 'internet': 1, 'explorer': 1, 'earlier': 1, 'please': 1, 'upgrade': 2, 'browser': 1, 'learn': 2, 'sections': 4, 'skip': 2, 'content': 1, 'navigation': 8, 'subscribe': 5, 'log': 1, 'settings': 1, 'english': 1, '中文': 1, 'chinese': 1, 'monday': 3, 'december': 1, 'paper': 2, 'quick': 1, 'site': 10, 'science': 5, 'sports': 8, 'magazine': 8, 'real': 5, 'estate': 5, 'close': 1, 'text': 1, 'input': 1, 'mobile': 3, 'top': 5, 'shutdown': 1, 'looms': 2, 'tries': 1, 'buy': 5, 'weeks': 1, 'thomas': 2, 'kaplan': 1, 'government': 3, 'funding': 1, 'expire': 1, 'friday': 1, 'republicans': 3, 'pushing': 1, 'stopgap': 1, 'spending': 2, 'measure': 1, 'extend': 1, 'dec': 1, 'obstacles': 1, 'aisle': 1, 'including': 2, 'president': 10, 'trump': 20, 'feud': 1, 'democratic': 1, 'comments': 21, 'cvs': 6, 'deal': 4, 'aetna': 6, 'alter': 1, 'industry': 4, 'michael': 6, 'de': 1, 'la': 1, 'merced': 1, 'reed': 2, 'abelson': 1, 'billion': 3, 'combine': 1, 'drugstore': 1, 'giant': 2, 'united': 2, 'biggest': 1, 'insurers': 1, 'lead': 1, 'lower': 1, 'prices': 1, 'fewer': 1, 'choices': 2, 'consumers': 4, 'merger': 3, 'benefit': 3, 'lashes': 1, 'saying': 1, 'tatters': 1, 'shear': 1, 'extraordinary': 1, 'attack': 1, 'law': 1, 'enforcement': 1, 'body': 1, 'own': 3, 'accused': 1, 'career': 2, 'investigators': 1, 'bias': 1, 'destroyed': 2, 'flynn': 4, 'life': 6, 'lying': 2, 'shrink': 2, 'monument': 2, 'utah': 1, 'julie': 1, 'turkewitz': 1, 'am': 9, 'drastic': 1, 'cuts': 1, 'bears': 2, 'ears': 2, 'national': 1, 'expected': 2, 'announce': 1, 'touch': 2, 'legal': 1, 'battle': 2, 'alters': 1, 'course': 1, 'american': 5, 'land': 1, 'conservation': 1, 'quarry': 1, 'spend': 2, 'tax': 6, 'cut': 2, 'isn': 1, 'stone': 1, 'natalie': 1, 'kitroeff': 1, 'overhaul': 2, 'reinvigorate': 1, 'corporate': 1, 'wave': 2, 'investment': 1, 'hiring': 1, 'raises': 1, 'boardrooms': 1, 'executives': 1, 'ideas': 1, 'savings': 1, 'care': 4, 'failure': 1, 'map': 2, 'success': 1, 'mcconnell': 1, 'bill': 2, 'offers': 2, 'minute': 1, 'breaks': 1, 'developers': 1, 'banks': 1, 'oil': 1, 'ruling': 1, 'former': 3, 'leader': 3, 'yemen': 3, 'dead': 4, 'officials': 1, 'shuaib': 1, 'almosawa': 1, 'alan': 1, 'cowell': 1, 'death': 5, 'ali': 1, 'abdullah': 1, 'saleh': 1, 'reported': 1, 'country': 2, 'conflict': 1, 'precise': 1, 'circumstances': 1, 'remained': 1, 'unclear': 1, 'met': 5, 'opera': 2, 'suspends': 2, 'james': 2, 'levine': 3, 'amid': 2, 'abuse': 2, 'accusations': 2, 'cooper': 2, 'conductor': 1, 'sexually': 1, 'abused': 1, 'decades': 2, 'ago': 1, 'teenagers': 1, 'suspended': 1, 'decade': 1, 'relationship': 1, 'canceled': 1, 'scheduled': 1, 'engagements': 1, 'daily': 4, 'seven': 2, 'wonders': 2, 'petra': 1, 'tamir': 1, 'kalifa': 1, 'confidential': 1, 'tip': 1, 'provide': 1, 'materials': 1, 'journalists': 1, 'missile': 3, 'defense': 2, 'fail': 3, 'saudi': 5, 'arabia': 3, 'fired': 1, 'shot': 1, 'photos': 1, 'scene': 1, 'tell': 1, 'story': 5, 'max': 1, 'fisher': 1, 'eric': 2, 'schmitt': 1, 'audrey': 1, 'carlsen': 1, 'malachy': 1, 'browne': 1, 'briefing': 1, 'chris': 2, 'stanford': 1, 'start': 2, 'day': 2, 'nominating': 2, 'neighbors': 2, 'california': 1, 'building': 1, 'fuller': 1, 'solution': 1, 'affordable': 1, 'housing': 1, 'require': 1, 'wholesale': 1, 'rethinking': 1, 'cities': 1, 'look': 3, 'audio': 2, 'listen': 1, 'confident': 1, 'final': 2, 'legislation': 1, 'sent': 1, 'month': 1, 'follow': 1, 'apple': 1, 'podcasts': 1, 'radio': 1, 'public': 1, 'stitcher': 1, 'smarter': 1, 'tim': 1, 'herrera': 1, 'perfect': 1, 'excuse': 1, 'deep': 2, 'handle': 1, 'activity': 1, 'trackers': 1, 'don': 3, 'gretchen': 1, 'reynolds': 1, 'child': 2, 'fitbit': 1, 'christmas': 1, 'expect': 1, 'active': 1, 'expert': 1, 'gifts': 1, 'editors': 1, 'categories': 1, 'holiday': 1, 'gift': 2, 'guide': 4, 'journalism': 1, 'matters': 1, 'essential': 1, 'meena': 2, 'left': 1, 'children': 2, 'women': 7, 'rsquo': 3, 'wing': 1, 'prison': 1, 'credit': 1, 'mauricio': 1, 'lima': 1, 'jailed': 1, 'serial': 2, 'killer': 2, 'beginning': 1, 'birth': 2, 'afghan': 1, 'girl': 1, 'born': 1, 'bars': 1, 'outside': 2, 'convicted': 1, 'mother': 1, 'rod': 1, 'nordland': 1, 'peace': 3, 'plan': 2, 'snubs': 1, 'palestinians': 2, 'roils': 1, 'mideast': 2, 'anne': 1, 'barnard': 1, 'david': 1, 'halbfinger': 1, 'peter': 1, 'baker': 2, 'crown': 1, 'prince': 1, 'foist': 1, 'offer': 1, 'limited': 1, 'sovereignty': 1, 'deny': 1, 'jerusalem': 1, 'capital': 1, 'moved': 1, 'action': 1, 'line': 2, 'run': 3, 'office': 4, 'tackett': 1, 'election': 1, 'march': 1, 'flood': 1, 'sexual': 2, 'assault': 1, 'charges': 1, 'powerful': 1, 'combined': 1, 'build': 3, 'political': 1, 'activism': 1, 'christie': 3, 'vs': 1, 'justices': 1, 'weigh': 1, 'betting': 2, 'kevin': 1, 'draper': 1, 'nick': 1, 'corasaniti': 1, 'gov': 1, 'jersey': 2, 'washington': 1, 'oral': 1, 'arguments': 1, 'stage': 2, 'legalized': 1, 'burnish': 1, 'legacy': 1, 'prepares': 1, 'leave': 1, 'el': 3, 'museo': 3, 'bridge': 2, 'colin': 1, 'moynihan': 1, 'patrick': 2, 'charpenel': 1, 'rocky': 1, 'road': 2, 'executive': 1, 'director': 2, 'del': 1, 'barrio': 1, 'museum': 1, 'dedicated': 1, 'latin': 1, 'art': 3, 'competition': 1, 'financing': 1, 'underwhelm': 1, 'steve': 3, 'lohr': 1, 'reports': 1, 'suggest': 1, 'artificial': 1, 'intelligence': 1, 'probably': 1, 'estimation': 1, 'third': 1, 'workers': 1, 'switch': 1, 'jobs': 2, 'city': 5, 'boulevard': 3, 'winnie': 1, 'hu': 1, 'queens': 3, 'seen': 1, 'pedestrian': 1, 'fatality': 1, 'centerpiece': 1, 'mayor': 1, 'vision': 1, 'zero': 1, 'traffic': 1, 'safety': 1, 'campaign': 2, 'malta': 1, 'arrests': 1, 'journalist': 1, 'south': 1, 'korea': 2, 'air': 1, 'force': 1, 'drills': 1, 'details': 1, 'scant': 1, 'kushner': 1, 'achievable': 1, 'disney': 1, 'resumed': 1, 'talks': 1, 'fox': 1, 'dealbook': 2, 'newsletter': 2, 'columnist': 1, 'andrew': 1, 'ross': 1, 'sorkin': 1, 'colleagues': 1, 'sense': 1, 'major': 4, 'headlines': 1, 'power': 1, 'brokers': 1, 'shape': 2, 'rises': 1, 'australia': 3, 'rely': 1, 'america': 3, 'prominent': 1, 'strategist': 1, 'clash': 1, 'remain': 1, 'dominant': 1, 'gay': 1, 'australian': 2, 'politician': 1, 'proposes': 3, 'sex': 3, 'marriage': 3, 'debate': 2, 'proposal': 1, 'legalizing': 1, 'unions': 1, 'stages': 1, 'passage': 1, 'parliament': 1, 'revered': 1, 'figure': 1, 'feels': 2, 'ripples': 1, 'weinstein': 1, 'scandal': 1, 'allegations': 1, 'burke': 1, 'longtime': 1, 'star': 1, 'bloke': 1, 'masculinity': 1, 'space': 4, 'jenna': 2, 'lyons': 2, 'creative': 1, 'crew': 1, 'copied': 1, 'entire': 1, 'professional': 1, 'newly': 1, 'redesigned': 1, 'truly': 1, 'inimitable': 1, 'renowned': 1, 'writer': 2, 'letters': 4, 'leigh': 1, 'fermor': 2, 'edited': 1, 'adam': 1, 'sisman': 1, 'sparkles': 1, 'charm': 1, 'welcome': 1, 'guest': 1, 'island': 4, 'revived': 3, 'ravishing': 3, 'musical': 1, 'fable': 1, 'love': 1, 'temperamental': 1, 'gods': 1, 'french': 1, 'antilles': 1, 'bold': 2, 'delight': 1, 'critic': 1, 'writes': 1, 'billy': 2, 'bush': 2, 'yes': 2, 'donald': 3, 'currently': 1, 'engaging': 1, 'revisionist': 1, 'history': 1, 'team': 2, 'fear': 2, 'logan': 2, 'act': 3, 'daniel': 1, 'hemel': 1, 'posner': 1, 'potential': 1, 'hammer': 1, 'heart': 2, 'plea': 1, 'blow': 2, 'ghost': 2, 'bannon': 2, 'leonhardt': 1, 'innovations': 1, 're': 2, 'missing': 1, 'bigger': 2, 'threat': 1, 'normalization': 1, 'alarmism': 1, 'catalans': 1, 'owe': 1, 'explanation': 1, 'join': 1, 'stop': 1, 'north': 1, 'israel': 1, 'nitsana': 1, 'darshan': 1, 'leitner': 1, 'sanctions': 1, 'haven': 1, 'stopped': 1, 'kim': 1, 'regime': 1, 'trying': 1, 'financial': 1, 'warfare': 1, 'fractured': 1, 'roger': 1, 'cohen': 1, 'lurches': 1, 'fragile': 1, 'truth': 1, 'blurred': 1, 'editorial': 1, 'freed': 1, 'guantánamo': 1, 'racist': 1, 'tweets': 1, 'growing': 1, 'patriotism': 1, 'losing': 1, 'elections': 1, 'pledge': 1, 'fight': 4, 'climate': 1, 'change': 1, 'user': 1, 'subscriptions': 5, 'royal': 2, 'impose': 2, 'choice': 2, 'jay': 4, 'editor': 2, 'insider': 2, 'crossword': 4, 'puzzle': 2, 'wordplay': 1, 'watching': 1, 'neediest': 2, 'serving': 2, 'customers': 1, 'community': 1, 'ozella': 1, 'finlay': 2, 'sister': 1, 'ran': 1, 'pat': 1, 'luncheonette': 1, 'brooklyn': 2, '1970s': 1, 'days': 1, 'week': 2, 'restaurant': 1, 'closed': 1, 'ms': 1, 'embarked': 1, 'volunteering': 1, '106th': 1, 'fund': 1, 'provided': 1, 'direct': 1, 'assistance': 1, 'struggling': 1, 'beyond': 3, 'donate': 1, 'advertisers': 1, 'loading': 2, 'explore': 1, 'player': 1, 'previous': 1, 'campy': 1, 'drag': 2, 'talk': 1, 'male': 2, 'drive': 1, 'readers': 1, 'discuss': 1, 'claim': 1, 'mistreatment': 1, 'rooted': 1, 'brutality': 1, 'sexuality': 1, 'bleak': 1, 'birds': 2, 'beaks': 1, 'host': 1, 'dinner': 1, 'party': 1, 'sunday': 3, 'review': 9, 'happy': 1, 'anniversary': 1, 'transplant': 1, 'shy': 1, 'elk': 1, 'partners': 1, 'wilderness': 1, 'ice': 1, 'cream': 1, 'cake': 1, 'fire': 1, 'doctors': 1, 'sterilized': 1, 'theater': 3, 'broadway': 1, 'beauty': 1, 'marco': 1, 'zanini': 1, 'italian': 1, 'trip': 1, 'polaroids': 1, 'terrible': 1, 'navajo': 1, 'economy': 1, 'single': 1, 'spent': 1, 'jail': 1, 'cellmate': 1, 'lure': 1, 'cold': 2, 'darkness': 1, 'reshape': 2, 'broadcom': 2, 'unseating': 2, 'qualcomm': 2, 'board': 2, 'takeover': 2, 'escalates': 2, 'company': 2, 'actually': 1, 'plans': 1, 'op': 5, 'ed': 5, 'contributor': 1, 'contributors': 2, 'charles': 1, 'percent': 1, 'ministers': 1, 'revive': 1, 'martin': 1, 'luther': 1, 'king': 1, 'poverty': 1, 'alabama': 1, 'disdain': 1, 'democrats': 1, 'senate': 1, 'race': 2, 'technology': 1, 'messaging': 1, 'app': 1, 'aimed': 1, 'advances': 1, 'latino': 1, 'happened': 1, 'clinton': 1, 'harnessing': 1, 'outrage': 1, 'sidebar': 1, 'tenacious': 1, 'underdog': 1, 'won': 1, 'supreme': 1, 'court': 1, 'skin': 1, 'ruby': 1, 'rose': 1, 'achieves': 1, 'unicorn': 1, 'effect': 1, 'event': 1, 'horizon': 1, 'resort': 1, 'canyon': 1, 'ranch': 1, 'succumbs': 1, 'botox': 1, 'movies': 2, 'water': 1, 'altogether': 1, 'wonderful': 1, 'coco': 1, 'tops': 1, 'box': 1, 'quiet': 1, 'wonder': 1, 'wheel': 1, 'woody': 1, 'allen': 1, 'coney': 1, 'memory': 1, 'palace': 1, 'stabs': 1, 'drives': 1, 'helpers': 1, 'police': 1, 'raiders': 2, 'giants': 2, 'eli': 1, 'manning': 1, 'warms': 1, 'bench': 1, 'putin': 1, 'bach': 1, 'thriller': 1, 'looks': 1, 'gambling': 1, 'rare': 1, 'term': 1, 'victory': 1, 'sleepwalking': 1, '70s': 1, 'downtown': 1, 'riot': 1, 'silly': 1, 'seas': 1, 'pirates': 1, 'penzance': 1, 'matter': 1, 'scallop': 1, 'age': 1, 'eyes': 2, 'hundreds': 2, 'trilobites': 2, 'fossilized': 1, 'pterosaur': 1, 'eggs': 1, 'uncovered': 1, 'tortoise': 1, 'obituaries': 2, 'leon': 1, 'carried': 1, 'tarawa': 1, 'dies': 2, 'norman': 1, 'adventurer': 1, 'crossed': 1, 'atlantic': 1, 'raft': 1, 'william': 1, 'mayer': 1, 'wide': 1, 'ranging': 1, 'composer': 1, 'television': 2, 'saturday': 1, 'night': 1, 'jabs': 1, 'matt': 1, 'lauer': 1, 'word': 1, 'claire': 1, 'foy': 1, 'ready': 1, 'quit': 1, 'playing': 1, 'queen': 1, 'walking': 2, 'season': 1, 'episode': 1, 'pyrrhic': 1, 'victories': 1, 'woman': 1, 'transplanted': 1, 'uterus': 1, 'haiti': 1, 'tracing': 1, 'paradise': 1, 'lost': 1, 'trending': 2, 'retreat': 1, 'goals': 1, 'getaway': 1, 'sending': 1, 'sos': 1, 'rise': 1, 'apps': 1, 'books': 4, 'enthusiast': 1, 'praise': 1, 'romance': 1, 'notable': 1, 'education': 4, 'colleges': 1, 'applicant': 1, 'getting': 1, 'dream': 1, 'college': 2, 'six': 1, 'myths': 1, 'choosing': 2, 'kitchen': 1, 'meat': 1, 'potatoes': 1, 'sicily': 1, 'emerald': 1, 'green': 1, 'gem': 1, 'bronte': 1, 'pistachio': 1, 'pasteles': 1, 'puerto': 1, 'rican': 1, 'tradition': 1, 'special': 1, 'savor': 1, 'rachel': 1, 'brosnahan': 1, 'comic': 1, 'timing': 1, 'sean': 1, 'hannity': 1, 'answer': 1, 'ferry': 1, 'changing': 1, 'waterfront': 1, 'ticket': 1, 'million': 1, 'penthouse': 1, 'west': 1, 'chelsea': 1, 'november': 1, 'sale': 3, 'renters': 1, 'upshot': 1, 'lot': 1, 'research': 1, 'generation': 1, 'grumpy': 1, 'unhappy': 1, 'rebelled': 1, 'religion': 1, 'pages': 1, 'explained': 1, 'automobiles': 2, 'wheels': 1, 'near': 1, 'driving': 1, 'forward': 1, 'hands': 1, 'detroit': 2, 'exciting': 1, 'indian': 1, 'automaker': 1, 'plant': 1, 'sign': 1, 'comeback': 1, 'discusses': 1, 'rap': 1, 'black': 1, 'studio': 1, 'artist': 1, 'painted': 1, 'landlord': 1, 'apartment': 2, 'ronda': 1, 'kaysen': 1, 'tenant': 1, 'protect': 1, 'garden': 1, 'provides': 1, 'access': 1, 'homes': 1, 'rent': 1, 'mortgage': 1, 'calculator': 1, 'emailed': 1, 'viewed': 1, 'recommended': 1, 'page': 1, 'index': 2, 'corrections': 1, 'columnists': 1, 'editorials': 1, 'dance': 1, 'music': 1, 'events': 3, 'weddings': 1, 'celebrations': 1, 'listings': 1, 'reader': 1, 'center': 1, 'classifieds': 1, 'tools': 1, 'services': 1, 'photography': 1, 'nyt': 1, 'journeys': 1, 'manage': 1, 'account': 1, 'nytco': 1, 'delivery': 1, 'digital': 1, 'email': 1, 'alerts': 1, 'rate': 1, 'applications': 1, 'replica': 1, 'information': 2, 'contact': 1, 'ad': 1, 'service': 1, 'feedback': 1, 'view': 1, 'version': 1}\n",
      "comments\n"
     ]
    }
   ],
   "source": [
    "w1.getWordsFrequency() \n",
    "w1.getMaxFreqencyWords()"
   ]
  },
  {
   "cell_type": "code",
   "execution_count": null,
   "metadata": {
    "collapsed": true
   },
   "outputs": [],
   "source": []
  }
 ],
 "metadata": {
  "kernelspec": {
   "display_name": "Python 3",
   "language": "python",
   "name": "python3"
  },
  "language_info": {
   "codemirror_mode": {
    "name": "ipython",
    "version": 3
   },
   "file_extension": ".py",
   "mimetype": "text/x-python",
   "name": "python",
   "nbconvert_exporter": "python",
   "pygments_lexer": "ipython3",
   "version": "3.6.3"
  }
 },
 "nbformat": 4,
 "nbformat_minor": 2
}
