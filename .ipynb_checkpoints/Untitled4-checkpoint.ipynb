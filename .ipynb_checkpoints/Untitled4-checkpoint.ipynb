{
 "cells": [
  {
   "cell_type": "code",
   "execution_count": 1,
   "metadata": {},
   "outputs": [
    {
     "name": "stdout",
     "output_type": "stream",
     "text": [
      "test\n"
     ]
    }
   ],
   "source": [
    "print(\"test\")"
   ]
  },
  {
   "cell_type": "code",
   "execution_count": 1,
   "metadata": {
    "collapsed": true
   },
   "outputs": [],
   "source": [
    "class Counter:\n",
    "    def __init__(self, count, step = 1):\n",
    "        self.count = count\n",
    "        self.step = step\n",
    "    def __str__(self):\n",
    "        return \"[Count (step: %d)] %d\" % (self.step, self.count)\n",
    "    def incr(self):\n",
    "        self.count = self.count + self.step\n",
    "    def __call__(self):\n",
    "        self.incr()\n",
    "    def __add__(self, other):\n",
    "        self.count += other\n",
    "        return self\n",
    "    def __sub__(self, other):\n",
    "        self.count -= other\n",
    "        return self\n",
    "    def __lt__(self, other):\n",
    "        return self.count < other\n",
    "    def __ne__(self, other):\n",
    "        return self.count != other\n",
    "    def __gt__(self, other):\n",
    "        return self.count > other\n",
    "    def __eq__(self, other):\n",
    "        return self.count == other"
   ]
  },
  {
   "cell_type": "code",
   "execution_count": 2,
   "metadata": {},
   "outputs": [
    {
     "name": "stdout",
     "output_type": "stream",
     "text": [
      "[Count (step: 1)] 10\n",
      "[Count (step: 2)] 10\n",
      "[Count (step: 1)] 11\n",
      "[Count (step: 2)] 12\n",
      "[Count (step: 1)] 12\n",
      "[Count (step: 2)] 14\n",
      "[Count (step: 1)] 17\n",
      "[Count (step: 2)] 9\n",
      "True\n",
      "False\n",
      "False\n",
      "True\n",
      "True\n",
      "False\n"
     ]
    }
   ],
   "source": [
    "c = Counter(10)\n",
    "d = Counter(10, 2)\n",
    "print(c)\n",
    "print(d)\n",
    "c.incr()\n",
    "d.incr()\n",
    "print(c)\n",
    "print(d)\n",
    "c()\n",
    "d()\n",
    "print(c)\n",
    "print(d)\n",
    "c = c + 5\n",
    "d = d - 5\n",
    "print(c)\n",
    "print(d)\n",
    "print(c > 10)\n",
    "print(d > 10)\n",
    "print(c < 10)\n",
    "print(d < 10)\n",
    "print(c == 17)\n",
    "print(d != 9)"
   ]
  },
  {
   "cell_type": "code",
   "execution_count": 23,
   "metadata": {
    "collapsed": true
   },
   "outputs": [],
   "source": [
    "class MySet(list):\n",
    "    def __init__(self, l):\n",
    "        for e in l:\n",
    "            self.append(e)\n",
    "        MySet.eliminate_duplicate(self)\n",
    "    \n",
    "    def __str__(self):\n",
    "        result = \"MySet: {\"\n",
    "        for e in self:\n",
    "            result = result + str(e) + \" ,\"\n",
    "        result = result[0:len(result)-2] + \"}\"\n",
    "        return result\n",
    "\n",
    "    @staticmethod    \n",
    "    def eliminate_duplicate(l):\n",
    "        s = []\n",
    "        for e in l:\n",
    "            if e not in s:\n",
    "                s.append(e)\n",
    "        l[:] = []\n",
    "        for e in s:\n",
    "            l.append(e)\n",
    "    def __or__(self, other):\n",
    "        self = self + other\n",
    "        MySet.eliminate_duplicate(self)\n",
    "        return MySet(self)\n",
    "    def __and__(self, other):\n",
    "        l = []\n",
    "        for i in other:\n",
    "            if i in self:\n",
    "                l.append(i)\n",
    "        return MySet(l)\n",
    "    def __sub__(self, other):\n",
    "        for i in other:\n",
    "            if i in self:\n",
    "                self.remove(i)\n",
    "        return MySet(self)"
   ]
  },
  {
   "cell_type": "code",
   "execution_count": 24,
   "metadata": {},
   "outputs": [
    {
     "name": "stdout",
     "output_type": "stream",
     "text": [
      "MySet: {1 ,2 ,3}\n",
      "MySet: {2 ,3 ,4 ,5 ,6 ,7 ,8 ,9}\n",
      "MySet: {1 ,2 ,3 ,4 ,5 ,6 ,7 ,8 ,9}\n",
      "MySet: {2 ,3}\n",
      "MySet: {1 ,2}\n"
     ]
    }
   ],
   "source": [
    "s = MySet([1, 2, 2, 3])\n",
    "print(s)\n",
    "t = MySet([2, 3, 4, 5, 6, 7, 8, 8, 8, 8, 8, 9])\n",
    "print(t)\n",
    "u = s | t\n",
    "print(u)\n",
    "u = s & t\n",
    "print(u)\n",
    "s = MySet([1, 2, 3]) \n",
    "t = MySet([3, 4, 5]) \n",
    "u = s - t\n",
    "print(u)"
   ]
  },
  {
   "cell_type": "code",
   "execution_count": 27,
   "metadata": {
    "collapsed": true,
    "scrolled": true
   },
   "outputs": [],
   "source": [
    "import string\n",
    "from urllib import request\n",
    "class WebWordsFrequency:  \n",
    "    def __init__(self, *urls):\n",
    "        self.dic = {}\n",
    "        self.freq = {}\n",
    "        for url in urls:\n",
    "            self.findWords(url)\n",
    "        \n",
    "    def addUrl(self, url):\n",
    "        self.findWords(url)\n",
    "        \n",
    "    def findWords(self, url):\n",
    "        stopword = []\n",
    "        with open('stopword.txt', 'r', encoding='utf8') as f:\n",
    "            for line in f:\n",
    "                if (line != \"\\n\"):\n",
    "                    stopword.append(line.strip())\n",
    "        stopword.append(\"nbsp\")\n",
    "        stopword.append(\"lt\")\n",
    "        stopword.append(\"gt\")\n",
    "        stopword.append(\"amp\")\n",
    "        stopword.append(\"quot\")\n",
    "        stopword.append(\"pm\")\n",
    "        stopword.append(\"et\")\n",
    "        stopword.append(\"est\")\n",
    "        stopword.append(\"raquo\")\n",
    "        \n",
    "        total_word = 0\n",
    "        words = []\n",
    "        javascript_check = False\n",
    "        css_check = False\n",
    "\n",
    "        source_bytes = request.urlopen(url).read()\n",
    "        source = source_bytes.decode('utf-8')\n",
    "\n",
    "        for i in source.split(\"<\"):\n",
    "            m = i.split(\">\")\n",
    "\n",
    "            if len(m) > 1:\n",
    "                check = m[0].split()\n",
    "                if len(check) > 0:\n",
    "                            # if('script' in m[0] and m[0].find(\"description\") == -1 and m[0].find(\"subscription\") == -1 and m[0].find(\"transcript\") == -1 and m[0].find(\" javascript:void();\") == -1): javascript_check = True\n",
    "                    if ('script' == check[0]): javascript_check = True\n",
    "                    if ('/script' in m[0]): javascript_check = False\n",
    "                            # if(m[0].find('style') != -1 and m[0].find('style=') == -1 and m[0].find('stylesheet') == -1and m[0].find('Lifestyle') == -1): css_check = True\n",
    "                    if ('style' == check[0]): css_check = True\n",
    "                    if ('/style' in m[0]): css_check = False\n",
    "                    m = m[1].strip().lower()\n",
    "                    if (m != \"\" and not javascript_check and not css_check):\n",
    "                        rep = [\"//\", \"--\", '\\'', '$', '©', '&', '%', '\"', '^', 'ⓒ', '·', '…', '—', '~', '–', '»', '!',\n",
    "                                       '”', '㈜', '-', '/', ':', '(', ')', '[', ']', '_', '“', '‘', '’', '.', ',']\n",
    "                        rep = rep + list(string.punctuation)\n",
    "                        rep = list(set(rep))\n",
    "                        for r in rep:\n",
    "                            m = m.replace(r, ' ')\n",
    "                        m = m.split()\n",
    "                                # print(m)\n",
    "                        for n in m:\n",
    "                            if (n != ''):\n",
    "                                if (n.isdigit()):\n",
    "                                    continue\n",
    "                                else:\n",
    "                                    if (n not in stopword):\n",
    "                                        total_word += 1\n",
    "                                        words.append(n.strip())\n",
    "        self.dic[url] = words\n",
    "        \n",
    "    def __str__(self):\n",
    "        return str(self.dic)\n",
    "    \n",
    "    def removeUrl(self, url):\n",
    "        del self.dic[url]\n",
    "        \n",
    "    def listUrls(self):\n",
    "        print(\"\\n\".join(self.dic.keys()))\n",
    "    \n",
    "    def getWordsFrequency(self):\n",
    "        self.freq = {}\n",
    "        l = []\n",
    "        for i in list(self.dic.values()):\n",
    "            l = l + i\n",
    "        for i in l:\n",
    "            if (i not in self.freq.keys()):\n",
    "                self.freq[i] = 1\n",
    "            else:\n",
    "                self.freq[i] = self.freq[i] + 1\n",
    "        print(self.freq)\n",
    "        return self.freq\n",
    "    \n",
    "    # 조금 더 자세히\n",
    "    def getMaxFreqencyWords(self):\n",
    "        self.freq = self.getWordsFrequency()\n",
    "        if(t != {}):\n",
    "            print(max(t.items(), key= lambda d: d[1])[0])\n",
    "            \n",
    "    def searchUrlByWord(self, s):\n",
    "        l = []\n",
    "        for i in self.dic.items():\n",
    "            l.append((i[0],i[1].count(s)))\n",
    "        print(max(l, key= lambda d: d[1])[0])\n",
    "        "
   ]
  },
  {
   "cell_type": "code",
   "execution_count": 2,
   "metadata": {
    "collapsed": true
   },
   "outputs": [],
   "source": [
    "w1 = WebWordsFrequency('http://www.github.com', 'http://www.times.com') "
   ]
  },
  {
   "cell_type": "code",
   "execution_count": 3,
   "metadata": {},
   "outputs": [
    {
     "name": "stdout",
     "output_type": "stream",
     "text": [
      "{'world': 8, 'leading': 2, 'software': 5, 'development': 3, 'platform': 4, 'github': 28, 'skip': 3, 'content': 2, 'features': 2, 'business': 10, 'explore': 2, 'marketplace': 3, 'pricing': 1, 'dashboard': 1, 'sign': 9, 'built': 1, 'developers': 8, 'inspired': 1, 'source': 3, 'host': 3, 'review': 9, 'code': 11, 'manage': 3, 'projects': 4, 'build': 7, 'alongside': 3, 'millions': 2, 'username': 2, 'email': 3, 'password': 2, 'letter': 1, 'numeral': 1, 'seven': 1, 'characters': 1, 'clicking': 2, 'agree': 2, 'terms': 5, 'service': 4, 'privacy': 5, 'policy': 3, 'll': 3, 'occasionally': 2, 'send': 2, 'account': 4, 'related': 2, 'emails': 3, 'teams': 5, 'brings': 1, 'move': 1, 'ideas': 1, 'forward': 1, 'learn': 9, 'team': 3, 'write': 1, 'collaboration': 1, 'makes': 2, 'perfect': 2, 'conversations': 1, 'reviews': 1, 'happen': 2, 'pull': 1, 'requests': 1, 'help': 7, 'share': 3, 'weight': 1, 'improve': 1, 'chaos': 1, 'deep': 2, 'breath': 1, 'project': 3, 'management': 3, 'happens': 1, 'issues': 2, 'mention': 1, 'teammate': 1, 'involved': 1, 'tools': 5, 'browse': 2, 'buy': 1, 'apps': 3, 'discover': 2, 'favorites': 2, 'start': 1, 'using': 3, 'minutes': 1, 'integrations': 3, 'security': 6, 'administration': 1, 'boxes': 1, 'check': 1, 'worry': 1, 'administrative': 1, 'don': 2, 'flexible': 1, 'hosting': 4, 'authentication': 2, 'options': 1, 'meet': 1, 'requirements': 1, 'prevent': 1, 'protected': 1, 'branches': 1, 'signed': 3, 'commits': 1, 'required': 1, 'status': 2, 'checks': 1, 'protect': 2, 'maintain': 2, 'standard': 1, 'access': 2, 'controlled': 1, 'encourage': 1, 'limiting': 1, 'granular': 1, 'permissions': 1, 'saml': 1, 'sso': 1, 'ldap': 1, '1clr': 1, 'hosted': 1, 'securely': 2, 'reliably': 1, 'com': 4, 'deploy': 1, 'enterprise': 1, 'own': 2, 'servers': 1, 'private': 1, 'cloud': 3, 'amazon': 1, 'web': 1, 'services': 2, 'azure': 1, 'google': 1, 'compare': 1, 'plans': 1, 'customize': 1, 'process': 3, 'intuitive': 1, 'api': 1, 'integrate': 1, 'create': 2, 'happier': 1, 'efficient': 1, 'sometimes': 1, 'tool': 1, 'job': 1, 'try': 1, 'community': 6, 'welcome': 1, 'home': 7, 'largest': 2, 'ariya': 1, 'hidayat': 1, 'phantomjs': 1, 'maintainer': 5, 'russell': 1, 'keith': 1, 'magee': 1, 'pybee': 1, 'mailchimp': 1, 'marketing': 1, 'customer': 2, 'kris': 1, 'nova': 1, 'kubernetes': 2, 'kops': 1, 'evan': 1, 'vue': 1, 'mapbox': 1, 'jess': 1, 'frazelle': 1, 'previously': 1, 'docker': 1, 're': 6, 'commit': 1, 'sending': 1, 'rover': 1, 'mars': 1, '73m': 1, 'repositories': 1, 'worldwide': 3, 'users': 1, 'influential': 1, 'technologies': 1, '26m': 1, 'personal': 3, 'experimenting': 1, 'programming': 1, 'languages': 1, 'life': 2, '117k': 1, 'businesses': 2, 'sizes': 1, 'support': 3, 'million': 4, 'started': 1, 'free': 3, 'mdash': 1, 'join': 1, 'amazing': 1, 'copy': 2, 'documentation': 1, 'atom': 1, 'electron': 1, 'desktop': 1, 'education': 5, 'customers': 1, 'partners': 1, 'sponsorships': 1, 'company': 2, 'blog': 1, 'careers': 1, 'press': 1, 'shop': 1, 'resources': 1, 'contact': 2, 'forum': 1, 'training': 1, 'perform': 1, 'action': 1, 'time': 1, 'tab': 2, 'window': 2, 'reload': 2, 'refresh': 2, 'session': 2, 'york': 12, 'times': 15, 'breaking': 1, 'news': 9, 'multimedia': 2, 'nytimes': 3, 'supports': 1, 'internet': 1, 'explorer': 1, 'earlier': 1, 'please': 2, 'upgrade': 1, 'browser': 1, 'sections': 4, 'search': 6, 'navigation': 8, 'subscribe': 5, 'log': 1, 'settings': 1, 'english': 1, '中文': 1, 'chinese': 1, 'español': 1, 'saturday': 2, 'december': 4, 'paper': 2, 'video': 7, 'quick': 2, 'site': 10, 'politics': 6, 'opinion': 11, 'tech': 5, 'science': 4, 'health': 6, 'sports': 4, 'arts': 6, 'style': 4, 'food': 4, 'travel': 4, 'magazine': 6, 'real': 4, 'estate': 4, 'close': 2, 'text': 1, 'input': 1, 'mobile': 3, 'top': 4, 'storm': 2, 'deaths': 2, 'puerto': 2, 'rico': 2, 'vastly': 1, 'underestimated': 1, 'frances': 1, 'robles': 1, 'kenan': 1, 'davis': 1, 'sheri': 1, 'fink': 1, 'sarah': 1, 'almukhtar': 1, 'officially': 1, 'death': 2, 'toll': 2, 'island': 1, 'hurricane': 1, 'maria': 1, 'suggests': 1, 'actual': 2, 'people': 3, 'died': 1, 'weeks': 2, 'recovery': 1, 'dragged': 1, 'hospitals': 1, 'struggled': 1, 'clinics': 1, 'remained': 1, 'power': 3, 'comments': 7, 'jobs': 3, 'strong': 2, 'economy': 1, 'ben': 1, 'casselman': 1, 'labor': 1, 'department': 1, 'released': 1, 'official': 2, 'hiring': 1, 'unemployment': 1, 'figures': 1, 'november': 2, 'reporting': 1, 'added': 1, 'live': 3, 'briefing': 1, 'moving': 1, 'fires': 5, 'force': 1, 'evacuations': 1, 'southern': 5, 'california': 4, 'jennifer': 2, 'medina': 2, 'miriam': 1, 'jordan': 1, 'mitch': 1, 'smith': 1, 'forced': 1, 'thousands': 1, 'californians': 1, 'leave': 2, 'homes': 2, 'continued': 1, 'sweep': 1, 'president': 5, 'trump': 14, 'declared': 1, 'emergency': 1, 'additional': 1, 'aid': 1, 'five': 2, 'days': 4, 'smoke': 2, 'fire': 2, 'looks': 1, 'major': 3, 'continue': 1, 'burn': 1, 'dozens': 1, 'horses': 1, 'killed': 2, 'tear': 1, 'lawmaker': 1, 'resigns': 2, 'details': 1, 'emerge': 1, 'offer': 1, 'aide': 3, 'katie': 1, 'rogers': 1, 'trent': 2, 'franks': 2, 'arizona': 1, 'republican': 1, 'congress': 3, 'immediately': 1, 'accusations': 3, 'offered': 1, 'impregnate': 2, 'forty': 1, 'accused': 2, 'sexual': 2, 'misconduct': 1, 'fall': 1, 'female': 2, 'lobbyists': 2, 'describe': 1, 'harassment': 3, 'lawmakers': 1, 'trip': 1, 'gabriel': 1, 'julie': 2, 'bosman': 1, 'frequently': 1, 'disparaged': 1, 'profession': 1, 'emerged': 1, 'especially': 1, 'vulnerable': 1, 'legislatures': 1, 'florida': 2, 'stumps': 1, 'moore': 4, 'michael': 1, 'tackett': 1, 'special': 1, 'election': 2, 'senate': 1, 'seat': 1, 'alabama': 1, 'spoke': 1, 'roy': 2, 'dogged': 1, 'accuser': 1, 'revises': 1, 'explanation': 1, 'yearbook': 1, 'inscription': 1, 'warned': 1, 'adviser': 1, 'russian': 3, 'adam': 1, 'goldman': 1, 'matt': 1, 'apuzzo': 1, 'operatives': 1, 'repeatedly': 1, 'emailed': 2, 'hope': 2, 'hicks': 2, 'met': 2, 'urge': 1, 'caution': 1, 'seen': 1, 'heard': 1, 'chris': 1, 'cirillo': 1, 'confidential': 1, 'tip': 1, 'offers': 2, 'touch': 1, 'provide': 1, 'materials': 1, 'journalists': 1, 'feeding': 1, 'seagulls': 1, 'yamuna': 1, 'river': 1, 'delhi': 1, 'india': 4, 'city': 7, 'polluted': 1, 'capitals': 1, 'credit': 2, 'dominique': 1, 'faget': 1, 'agence': 1, 'france': 1, 'presse': 1, 'getty': 2, 'images': 2, 'government': 3, 'bad': 3, 'air': 2, 'worse': 2, 'northern': 1, 'swallowed': 1, 'epic': 1, 'smog': 1, 'critics': 2, 'prime': 1, 'minister': 1, 'narendra': 1, 'modi': 1, 'friendly': 1, 'policies': 1, 'exacerbating': 1, 'jeffrey': 2, 'gettleman': 1, 'kai': 1, 'schultz': 1, 'hari': 1, 'kumar': 1, 'smarter': 2, 'living': 3, 'playlist': 1, 'week': 3, 'notable': 2, 'songs': 2, 'jon': 2, 'pareles': 1, 'caramanica': 1, 'giovanni': 1, 'russonello': 1, 'migos': 1, 'johnny': 1, 'mathis': 1, 'christmas': 3, 'cookie': 1, 'plate': 1, 'recipes': 1, 'nyt': 2, 'cooking': 1, 'fill': 1, 'gifts': 2, 'editors': 1, 'categories': 1, 'holiday': 5, 'gift': 2, 'guide': 6, 'journalism': 1, 'matters': 2, 'essential': 1, 'jens': 1, 'mortensen': 1, 'alexa': 1, 'holdout': 1, 'listening': 2, 'called': 1, 'smart': 1, 'speakers': 1, 'expected': 1, 'sell': 1, 'ready': 1, 'danny': 1, 'hakim': 1, 'money': 1, 'tax': 2, 'plan': 2, 'cost': 1, 'aging': 1, 'rise': 1, 'ron': 2, 'lieber': 1, 'bill': 1, 'removes': 1, 'medical': 1, 'expense': 1, 'deductions': 1, 'lose': 1, 'annually': 1, 'activists': 3, 'tell': 1, 'democrats': 3, 'shield': 4, 'immigrants': 3, 'shut': 2, 'yamiche': 1, 'alcindor': 1, 'thomas': 1, 'kaplan': 1, 'deal': 3, 'undocumented': 1, 'deportation': 1, 'liberal': 3, 'question': 1, 'party': 3, 'willingness': 1, 'provoke': 1, 'shutdown': 1, 'justices': 2, 'divided': 2, 'daca': 2, 'documents': 2, 'extremists': 1, 'condemn': 1, 'jerusalem': 3, 'decision': 2, 'isis': 2, 'condemns': 1, 'rukmini': 1, 'callimachi': 1, 'mali': 1, 'afghanistan': 1, 'jihadists': 1, 'promised': 1, 'retaliate': 1, 'recognize': 1, 'israel': 1, 'capital': 1, 'aim': 1, 'talk': 2, 'balthus': 2, 'ginia': 1, 'bellafante': 1, 'metropolitan': 1, 'museum': 1, 'declined': 1, 'rethink': 1, 'display': 1, 'artist': 1, 'painting': 1, 'girl': 1, 'sexualized': 1, 'pose': 1, 'culture': 2, 'grapples': 1, 'bears': 6, 'ears': 6, 'national': 3, 'monument': 2, 'shrinking': 1, 'cut': 1, 'nadja': 1, 'popovich': 1, 'announced': 1, 'cuts': 1, 'vast': 1, 'remote': 1, 'stretch': 1, 'red': 1, 'rock': 1, 'canyons': 1, 'boundaries': 1, 'changed': 1, 'cuomo': 2, 'office': 4, 'investigation': 1, 'payroll': 1, 'shane': 1, 'goldmacher': 1, 'william': 1, 'rashbaum': 1, 'inquiry': 1, 'governor': 1, 'spokesman': 1, 'calls': 2, 'absurd': 1, 'focuses': 1, 'paid': 1, 'entities': 1, 'andy': 1, 'webster': 1, 'plenty': 1, 'hear': 2, 'sampling': 1, 'cultural': 1, 'highlights': 1, 'weekend': 1, 'ahead': 1, 'daily': 2, 'machu': 1, 'picchu': 1, 'justin': 1, 'setterfield': 1, 'technology': 2, 'samsung': 1, 'anger': 1, 'supplements': 3, 'claim': 2, 'helping': 1, 'opioid': 3, 'addicts': 1, 'james': 3, 'levine': 3, 'criminal': 2, 'charges': 3, 'illinois': 2, 'saudi': 1, 'arabia': 1, 'denies': 1, 'crown': 3, 'prince': 1, 'bought': 1, 'art': 2, 'peacekeepers': 1, 'congo': 1, 'fargo': 1, 'fines': 1, 'reduced': 1, 'dealbook': 2, 'newsletter': 2, 'columnist': 1, 'andrew': 1, 'ross': 1, 'sorkin': 1, 'colleagues': 1, 'sense': 1, 'headlines': 1, 'brokers': 1, 'shape': 1, 'edition': 2, 'movies': 5, 'tv': 1, 'netflix': 1, 'australia': 2, 'titles': 1, 'coming': 1, 'broken': 1, 'release': 1, 'date': 1, 'sendok': 1, 'garpu': 1, 'serves': 1, 'indonesian': 1, 'cuisine': 1, 'outside': 1, 'brisbane': 1, 'restaurant': 1, 'indooroopilly': 1, 'specialties': 1, 'indonesia': 1, 'sex': 1, 'marriage': 3, 'legal': 1, 'referendum': 1, 'gay': 1, 'parliament': 1, 'voted': 1, 'overwhelmingly': 1, 'follow': 2, 'public': 1, 'lead': 1, 'parties': 2, 'feel': 2, 'chill': 2, 'getting': 3, 'squeezed': 1, 'mistletoe': 1, 'bob': 1, 'accounting': 1, 'friends': 1, 'fashion': 3, 'astral': 1, 'moment': 3, 'buzz': 1, 'aldrin': 1, 'attached': 1, 'name': 1, 'line': 2, 'street': 1, 'wear': 1, 'space': 1, 'exerting': 1, 'outsize': 1, 'influence': 1, 'pop': 1, 'ny': 1, 'cat': 1, 'film': 1, 'festival': 2, 'animal': 1, 'premiere': 1, 'tour': 1, 'country': 1, 'programs': 1, 'shorts': 1, 'devoted': 1, 'feline': 1, 'scoundrel': 3, 'theory': 3, 'american': 4, 'greg': 1, 'weiner': 1, 'idea': 3, 'candidate': 2, 'character': 2, 'doesn': 2, 'matter': 2, 'pervasive': 2, 'pernicious': 2, 'kids': 3, 'spy': 1, 'ashley': 1, 'boyd': 1, 'connected': 1, 'devices': 1, 'risks': 1, 'prioritize': 1, 'children': 2, 'survives': 1, 'editorial': 1, 'scare': 2, 'tactics': 1, 'collins': 2, 'al': 2, 'franken': 2, 'stephens': 1, 'denial': 1, 'complex': 1, 'facebook': 1, 'taught': 1, 'net': 2, 'neutrality': 2, 'doom': 1, 'season': 3, 'los': 1, 'angeles': 1, 'stay': 3, 'angelo': 1, 'baca': 1, 'native': 1, 'land': 1, 'protections': 1, 'gutting': 1, 'sorely': 1, 'cohen': 1, 'peace': 1, 'destroy': 1, 'egan': 1, 'trumpocalypse': 1, 'generation': 1, 'women': 3, 'empowered': 1, 'deceive': 1, 'ourselves': 1, 'russia': 1, 'cheats': 1, 'krugman': 1, 'bias': 1, 'twitter': 1, 'user': 1, 'subscriptions': 5, 'night': 3, 'desk': 3, 'tweeting': 3, 'starts': 3, 'journalist': 1, 'wrestles': 1, 'candor': 1, 'egyptian': 1, 'woman': 1, 'insider': 2, 'crossword': 4, 'play': 2, 'rsquo': 2, 'puzzle': 2, 'wordplay': 1, 'watching': 2, 'neediest': 2, 'juggling': 1, 'family': 2, 'managing': 1, 'class': 1, 'addition': 1, 'attending': 1, 'college': 4, 'caring': 1, 'father': 1, 'son': 1, 'darius': 1, 'cummings': 1, 'bouncing': 1, 'handle': 1, 'estates': 1, 'mother': 1, 'uncle': 1, '106th': 1, 'fund': 1, 'provided': 1, 'direct': 1, 'assistance': 1, 'struggling': 1, 'beyond': 1, 'donate': 1, 'advertisers': 1, 'loading': 2, 'videos': 1, 'player': 1, 'inside': 2, 'previous': 1, 'story': 3, 'television': 3, 'jane': 1, 'krakowski': 1, 'taps': 1, 'save': 1, 'care': 1, 'governors': 1, 'warn': 1, 'families': 1, 'suffer': 1, 'fails': 1, 'reauthorize': 1, 'chip': 1, 'insurance': 1, 'program': 1, 'travelers': 1, 'pack': 1, 'choose': 1, 'duck': 1, 'dinosaur': 1, 'swim': 1, 'music': 2, 'talking': 1, 'grandparenting': 1, 'books': 6, 'adopted': 1, 'black': 2, 'baby': 1, 'replaced': 1, 'white': 1, 'environmentalists': 1, 'syria': 1, 'skies': 1, 'warplanes': 1, 'fled': 1, 'boko': 1, 'haram': 1, 'raped': 1, 'nigeria': 1, 'forces': 1, 'day': 1, 'southeast': 3, 'asia': 3, 'ride': 3, 'hailing': 3, 'war': 4, 'waged': 3, 'motorbikes': 3, 'japan': 1, 'reach': 1, 'flag': 1, 'trade': 1, 'waving': 1, 'claiming': 2, 'ease': 2, 'addiction': 2, 'scrutiny': 2, 'op': 3, 'ed': 3, 'contributor': 1, 'gail': 1, 'updates': 1, 'woods': 1, 'apple': 1, 'acquiring': 1, 'shazam': 1, 'song': 1, 'identifying': 1, 'app': 1, 'opposition': 1, 'repeal': 1, 'stars': 2, 'star': 2, 'wars': 2, 'haywire': 1, 'hospitality': 1, 'amy': 1, 'sedaris': 1, 'offering': 1, 'abruptly': 1, 'modern': 1, 'love': 2, 'tiles': 1, 'mine': 1, 'ho': 3, 'vows': 1, 'military': 1, 'couple': 1, 'apart': 1, 'coco': 1, 'bela': 1, 'forgotten': 1, 'orphan': 1, 'fewer': 1, 'crowds': 1, 'brooklyn': 2, 'bridge': 1, 'shohei': 1, 'ohtani': 1, 'angel': 1, 'outfield': 1, 'mound': 1, 'giancarlo': 1, 'stanton': 1, 'yankees': 1, 'football': 2, 'army': 1, 'running': 1, 'game': 1, 'nearly': 1, 'walked': 1, 'theater': 3, 'dreaming': 1, 'magical': 1, 'underwear': 1, 'journey': 1, 'calais': 1, 'jungle': 1, 'london': 1, 'stage': 1, 'trilobites': 2, 'silent': 1, 'gifs': 1, 'learned': 1, 'actually': 1, 'sausage': 1, 'obituaries': 2, 'tracy': 1, 'stallard': 1, 'historic': 1, 'maris': 1, 'homer': 1, 'dies': 3, 'leslie': 1, 'wolfe': 1, 'pursued': 1, 'equality': 1, 'meyer': 1, 'coached': 1, 'title': 1, 'takes': 1, 'queen': 1, 'crisis': 2, 'look': 1, 'history': 1, 'transparent': 1, 'tambor': 1, 'burst': 1, 'idealistic': 1, 'bubble': 1, 'age': 1, 'smokers': 1, 'vaping': 1, 'birth': 1, 'control': 1, 'pills': 1, 'linked': 1, 'breast': 1, 'cancer': 1, 'study': 1, 'haiti': 1, 'tracing': 1, 'paradise': 1, 'lost': 1, 'favorite': 2, 'reads': 1, 'monuments': 1, 'quiet': 1, 'trails': 1, 'questions': 1, 'future': 1, 'polite': 1, 'drive': 1, 'secession': 1, 'radio': 1, 'vermont': 1, 'colleges': 1, 'applicant': 1, 'dream': 1, 'six': 1, 'myths': 1, 'choosing': 1, 'hungry': 1, 'cheap': 1, 'eats': 1, 'global': 1, 'flavors': 1, 'united': 1, 'appetite': 1, 'pamper': 1, 'guests': 1, 'gougères': 1, 'kitchen': 1, 'spinach': 1, 'lasagna': 1, 'worthy': 1, 'feast': 1, 'performers': 2, 'actors': 1, 'series': 1, 'short': 1, 'frightening': 1, 'films': 1, 'screams': 1, 'notebook': 1, 'horror': 1, 'prewar': 1, 'twist': 1, 'lights': 1, 'micro': 3, 'units': 3, 'lending': 3, 'library': 3, 'upshot': 1, 'doctor': 1, 'hard': 1, 'harder': 1, 'happened': 1, 'boomtown': 1, 'effective': 1, 'school': 1, 'district': 1, 'measure': 1, 'students': 1, 'reading': 2, 'automobiles': 2, 'ford': 1, 'electric': 1, 'cars': 1, 'mexico': 1, 'shifting': 1, 'china': 1, 'advances': 1, 'industry': 1, 'dinner': 2, 'jay': 1, 'discusses': 1, 'rap': 1, 'america': 1, 'clothing': 1, 'simplifies': 1, 'dressed': 1, 'lasky': 1, 'building': 1, 'downtown': 1, 'includes': 1, 'household': 1, 'plates': 1, 'sewing': 1, 'machine': 1, 'sale': 2, 'rent': 1, 'mortgage': 1, 'calculator': 1, 'viewed': 1, 'trending': 1, 'recommended': 1, 'page': 1, 'index': 2, 'corrections': 1, 'columnists': 1, 'editorials': 1, 'contributors': 1, 'letters': 1, 'sunday': 1, 'design': 1, 'dance': 1, 'events': 3, 'weddings': 1, 'celebrations': 1, 'listings': 1, 'reader': 1, 'center': 1, 'classifieds': 1, 'photography': 1, 'store': 1, 'journeys': 1, 'nytco': 1, 'delivery': 1, 'digital': 1, 'newsletters': 1, 'alerts': 1, 'rate': 1, 'applications': 1, 'replica': 1, 'information': 2, 'advertise': 1, 'ad': 1, 'choices': 1, 'map': 1, 'feedback': 1, 'view': 1, 'version': 1}\n",
      "{'world': 8, 'leading': 2, 'software': 5, 'development': 3, 'platform': 4, 'github': 28, 'skip': 3, 'content': 2, 'features': 2, 'business': 10, 'explore': 2, 'marketplace': 3, 'pricing': 1, 'dashboard': 1, 'sign': 9, 'built': 1, 'developers': 8, 'inspired': 1, 'source': 3, 'host': 3, 'review': 9, 'code': 11, 'manage': 3, 'projects': 4, 'build': 7, 'alongside': 3, 'millions': 2, 'username': 2, 'email': 3, 'password': 2, 'letter': 1, 'numeral': 1, 'seven': 1, 'characters': 1, 'clicking': 2, 'agree': 2, 'terms': 5, 'service': 4, 'privacy': 5, 'policy': 3, 'll': 3, 'occasionally': 2, 'send': 2, 'account': 4, 'related': 2, 'emails': 3, 'teams': 5, 'brings': 1, 'move': 1, 'ideas': 1, 'forward': 1, 'learn': 9, 'team': 3, 'write': 1, 'collaboration': 1, 'makes': 2, 'perfect': 2, 'conversations': 1, 'reviews': 1, 'happen': 2, 'pull': 1, 'requests': 1, 'help': 7, 'share': 3, 'weight': 1, 'improve': 1, 'chaos': 1, 'deep': 2, 'breath': 1, 'project': 3, 'management': 3, 'happens': 1, 'issues': 2, 'mention': 1, 'teammate': 1, 'involved': 1, 'tools': 5, 'browse': 2, 'buy': 1, 'apps': 3, 'discover': 2, 'favorites': 2, 'start': 1, 'using': 3, 'minutes': 1, 'integrations': 3, 'security': 6, 'administration': 1, 'boxes': 1, 'check': 1, 'worry': 1, 'administrative': 1, 'don': 2, 'flexible': 1, 'hosting': 4, 'authentication': 2, 'options': 1, 'meet': 1, 'requirements': 1, 'prevent': 1, 'protected': 1, 'branches': 1, 'signed': 3, 'commits': 1, 'required': 1, 'status': 2, 'checks': 1, 'protect': 2, 'maintain': 2, 'standard': 1, 'access': 2, 'controlled': 1, 'encourage': 1, 'limiting': 1, 'granular': 1, 'permissions': 1, 'saml': 1, 'sso': 1, 'ldap': 1, '1clr': 1, 'hosted': 1, 'securely': 2, 'reliably': 1, 'com': 4, 'deploy': 1, 'enterprise': 1, 'own': 2, 'servers': 1, 'private': 1, 'cloud': 3, 'amazon': 1, 'web': 1, 'services': 2, 'azure': 1, 'google': 1, 'compare': 1, 'plans': 1, 'customize': 1, 'process': 3, 'intuitive': 1, 'api': 1, 'integrate': 1, 'create': 2, 'happier': 1, 'efficient': 1, 'sometimes': 1, 'tool': 1, 'job': 1, 'try': 1, 'community': 6, 'welcome': 1, 'home': 7, 'largest': 2, 'ariya': 1, 'hidayat': 1, 'phantomjs': 1, 'maintainer': 5, 'russell': 1, 'keith': 1, 'magee': 1, 'pybee': 1, 'mailchimp': 1, 'marketing': 1, 'customer': 2, 'kris': 1, 'nova': 1, 'kubernetes': 2, 'kops': 1, 'evan': 1, 'vue': 1, 'mapbox': 1, 'jess': 1, 'frazelle': 1, 'previously': 1, 'docker': 1, 're': 6, 'commit': 1, 'sending': 1, 'rover': 1, 'mars': 1, '73m': 1, 'repositories': 1, 'worldwide': 3, 'users': 1, 'influential': 1, 'technologies': 1, '26m': 1, 'personal': 3, 'experimenting': 1, 'programming': 1, 'languages': 1, 'life': 2, '117k': 1, 'businesses': 2, 'sizes': 1, 'support': 3, 'million': 4, 'started': 1, 'free': 3, 'mdash': 1, 'join': 1, 'amazing': 1, 'copy': 2, 'documentation': 1, 'atom': 1, 'electron': 1, 'desktop': 1, 'education': 5, 'customers': 1, 'partners': 1, 'sponsorships': 1, 'company': 2, 'blog': 1, 'careers': 1, 'press': 1, 'shop': 1, 'resources': 1, 'contact': 2, 'forum': 1, 'training': 1, 'perform': 1, 'action': 1, 'time': 1, 'tab': 2, 'window': 2, 'reload': 2, 'refresh': 2, 'session': 2, 'york': 12, 'times': 15, 'breaking': 1, 'news': 9, 'multimedia': 2, 'nytimes': 3, 'supports': 1, 'internet': 1, 'explorer': 1, 'earlier': 1, 'please': 2, 'upgrade': 1, 'browser': 1, 'sections': 4, 'search': 6, 'navigation': 8, 'subscribe': 5, 'log': 1, 'settings': 1, 'english': 1, '中文': 1, 'chinese': 1, 'español': 1, 'saturday': 2, 'december': 4, 'paper': 2, 'video': 7, 'quick': 2, 'site': 10, 'politics': 6, 'opinion': 11, 'tech': 5, 'science': 4, 'health': 6, 'sports': 4, 'arts': 6, 'style': 4, 'food': 4, 'travel': 4, 'magazine': 6, 'real': 4, 'estate': 4, 'close': 2, 'text': 1, 'input': 1, 'mobile': 3, 'top': 4, 'storm': 2, 'deaths': 2, 'puerto': 2, 'rico': 2, 'vastly': 1, 'underestimated': 1, 'frances': 1, 'robles': 1, 'kenan': 1, 'davis': 1, 'sheri': 1, 'fink': 1, 'sarah': 1, 'almukhtar': 1, 'officially': 1, 'death': 2, 'toll': 2, 'island': 1, 'hurricane': 1, 'maria': 1, 'suggests': 1, 'actual': 2, 'people': 3, 'died': 1, 'weeks': 2, 'recovery': 1, 'dragged': 1, 'hospitals': 1, 'struggled': 1, 'clinics': 1, 'remained': 1, 'power': 3, 'comments': 7, 'jobs': 3, 'strong': 2, 'economy': 1, 'ben': 1, 'casselman': 1, 'labor': 1, 'department': 1, 'released': 1, 'official': 2, 'hiring': 1, 'unemployment': 1, 'figures': 1, 'november': 2, 'reporting': 1, 'added': 1, 'live': 3, 'briefing': 1, 'moving': 1, 'fires': 5, 'force': 1, 'evacuations': 1, 'southern': 5, 'california': 4, 'jennifer': 2, 'medina': 2, 'miriam': 1, 'jordan': 1, 'mitch': 1, 'smith': 1, 'forced': 1, 'thousands': 1, 'californians': 1, 'leave': 2, 'homes': 2, 'continued': 1, 'sweep': 1, 'president': 5, 'trump': 14, 'declared': 1, 'emergency': 1, 'additional': 1, 'aid': 1, 'five': 2, 'days': 4, 'smoke': 2, 'fire': 2, 'looks': 1, 'major': 3, 'continue': 1, 'burn': 1, 'dozens': 1, 'horses': 1, 'killed': 2, 'tear': 1, 'lawmaker': 1, 'resigns': 2, 'details': 1, 'emerge': 1, 'offer': 1, 'aide': 3, 'katie': 1, 'rogers': 1, 'trent': 2, 'franks': 2, 'arizona': 1, 'republican': 1, 'congress': 3, 'immediately': 1, 'accusations': 3, 'offered': 1, 'impregnate': 2, 'forty': 1, 'accused': 2, 'sexual': 2, 'misconduct': 1, 'fall': 1, 'female': 2, 'lobbyists': 2, 'describe': 1, 'harassment': 3, 'lawmakers': 1, 'trip': 1, 'gabriel': 1, 'julie': 2, 'bosman': 1, 'frequently': 1, 'disparaged': 1, 'profession': 1, 'emerged': 1, 'especially': 1, 'vulnerable': 1, 'legislatures': 1, 'florida': 2, 'stumps': 1, 'moore': 4, 'michael': 1, 'tackett': 1, 'special': 1, 'election': 2, 'senate': 1, 'seat': 1, 'alabama': 1, 'spoke': 1, 'roy': 2, 'dogged': 1, 'accuser': 1, 'revises': 1, 'explanation': 1, 'yearbook': 1, 'inscription': 1, 'warned': 1, 'adviser': 1, 'russian': 3, 'adam': 1, 'goldman': 1, 'matt': 1, 'apuzzo': 1, 'operatives': 1, 'repeatedly': 1, 'emailed': 2, 'hope': 2, 'hicks': 2, 'met': 2, 'urge': 1, 'caution': 1, 'seen': 1, 'heard': 1, 'chris': 1, 'cirillo': 1, 'confidential': 1, 'tip': 1, 'offers': 2, 'touch': 1, 'provide': 1, 'materials': 1, 'journalists': 1, 'feeding': 1, 'seagulls': 1, 'yamuna': 1, 'river': 1, 'delhi': 1, 'india': 4, 'city': 7, 'polluted': 1, 'capitals': 1, 'credit': 2, 'dominique': 1, 'faget': 1, 'agence': 1, 'france': 1, 'presse': 1, 'getty': 2, 'images': 2, 'government': 3, 'bad': 3, 'air': 2, 'worse': 2, 'northern': 1, 'swallowed': 1, 'epic': 1, 'smog': 1, 'critics': 2, 'prime': 1, 'minister': 1, 'narendra': 1, 'modi': 1, 'friendly': 1, 'policies': 1, 'exacerbating': 1, 'jeffrey': 2, 'gettleman': 1, 'kai': 1, 'schultz': 1, 'hari': 1, 'kumar': 1, 'smarter': 2, 'living': 3, 'playlist': 1, 'week': 3, 'notable': 2, 'songs': 2, 'jon': 2, 'pareles': 1, 'caramanica': 1, 'giovanni': 1, 'russonello': 1, 'migos': 1, 'johnny': 1, 'mathis': 1, 'christmas': 3, 'cookie': 1, 'plate': 1, 'recipes': 1, 'nyt': 2, 'cooking': 1, 'fill': 1, 'gifts': 2, 'editors': 1, 'categories': 1, 'holiday': 5, 'gift': 2, 'guide': 6, 'journalism': 1, 'matters': 2, 'essential': 1, 'jens': 1, 'mortensen': 1, 'alexa': 1, 'holdout': 1, 'listening': 2, 'called': 1, 'smart': 1, 'speakers': 1, 'expected': 1, 'sell': 1, 'ready': 1, 'danny': 1, 'hakim': 1, 'money': 1, 'tax': 2, 'plan': 2, 'cost': 1, 'aging': 1, 'rise': 1, 'ron': 2, 'lieber': 1, 'bill': 1, 'removes': 1, 'medical': 1, 'expense': 1, 'deductions': 1, 'lose': 1, 'annually': 1, 'activists': 3, 'tell': 1, 'democrats': 3, 'shield': 4, 'immigrants': 3, 'shut': 2, 'yamiche': 1, 'alcindor': 1, 'thomas': 1, 'kaplan': 1, 'deal': 3, 'undocumented': 1, 'deportation': 1, 'liberal': 3, 'question': 1, 'party': 3, 'willingness': 1, 'provoke': 1, 'shutdown': 1, 'justices': 2, 'divided': 2, 'daca': 2, 'documents': 2, 'extremists': 1, 'condemn': 1, 'jerusalem': 3, 'decision': 2, 'isis': 2, 'condemns': 1, 'rukmini': 1, 'callimachi': 1, 'mali': 1, 'afghanistan': 1, 'jihadists': 1, 'promised': 1, 'retaliate': 1, 'recognize': 1, 'israel': 1, 'capital': 1, 'aim': 1, 'talk': 2, 'balthus': 2, 'ginia': 1, 'bellafante': 1, 'metropolitan': 1, 'museum': 1, 'declined': 1, 'rethink': 1, 'display': 1, 'artist': 1, 'painting': 1, 'girl': 1, 'sexualized': 1, 'pose': 1, 'culture': 2, 'grapples': 1, 'bears': 6, 'ears': 6, 'national': 3, 'monument': 2, 'shrinking': 1, 'cut': 1, 'nadja': 1, 'popovich': 1, 'announced': 1, 'cuts': 1, 'vast': 1, 'remote': 1, 'stretch': 1, 'red': 1, 'rock': 1, 'canyons': 1, 'boundaries': 1, 'changed': 1, 'cuomo': 2, 'office': 4, 'investigation': 1, 'payroll': 1, 'shane': 1, 'goldmacher': 1, 'william': 1, 'rashbaum': 1, 'inquiry': 1, 'governor': 1, 'spokesman': 1, 'calls': 2, 'absurd': 1, 'focuses': 1, 'paid': 1, 'entities': 1, 'andy': 1, 'webster': 1, 'plenty': 1, 'hear': 2, 'sampling': 1, 'cultural': 1, 'highlights': 1, 'weekend': 1, 'ahead': 1, 'daily': 2, 'machu': 1, 'picchu': 1, 'justin': 1, 'setterfield': 1, 'technology': 2, 'samsung': 1, 'anger': 1, 'supplements': 3, 'claim': 2, 'helping': 1, 'opioid': 3, 'addicts': 1, 'james': 3, 'levine': 3, 'criminal': 2, 'charges': 3, 'illinois': 2, 'saudi': 1, 'arabia': 1, 'denies': 1, 'crown': 3, 'prince': 1, 'bought': 1, 'art': 2, 'peacekeepers': 1, 'congo': 1, 'fargo': 1, 'fines': 1, 'reduced': 1, 'dealbook': 2, 'newsletter': 2, 'columnist': 1, 'andrew': 1, 'ross': 1, 'sorkin': 1, 'colleagues': 1, 'sense': 1, 'headlines': 1, 'brokers': 1, 'shape': 1, 'edition': 2, 'movies': 5, 'tv': 1, 'netflix': 1, 'australia': 2, 'titles': 1, 'coming': 1, 'broken': 1, 'release': 1, 'date': 1, 'sendok': 1, 'garpu': 1, 'serves': 1, 'indonesian': 1, 'cuisine': 1, 'outside': 1, 'brisbane': 1, 'restaurant': 1, 'indooroopilly': 1, 'specialties': 1, 'indonesia': 1, 'sex': 1, 'marriage': 3, 'legal': 1, 'referendum': 1, 'gay': 1, 'parliament': 1, 'voted': 1, 'overwhelmingly': 1, 'follow': 2, 'public': 1, 'lead': 1, 'parties': 2, 'feel': 2, 'chill': 2, 'getting': 3, 'squeezed': 1, 'mistletoe': 1, 'bob': 1, 'accounting': 1, 'friends': 1, 'fashion': 3, 'astral': 1, 'moment': 3, 'buzz': 1, 'aldrin': 1, 'attached': 1, 'name': 1, 'line': 2, 'street': 1, 'wear': 1, 'space': 1, 'exerting': 1, 'outsize': 1, 'influence': 1, 'pop': 1, 'ny': 1, 'cat': 1, 'film': 1, 'festival': 2, 'animal': 1, 'premiere': 1, 'tour': 1, 'country': 1, 'programs': 1, 'shorts': 1, 'devoted': 1, 'feline': 1, 'scoundrel': 3, 'theory': 3, 'american': 4, 'greg': 1, 'weiner': 1, 'idea': 3, 'candidate': 2, 'character': 2, 'doesn': 2, 'matter': 2, 'pervasive': 2, 'pernicious': 2, 'kids': 3, 'spy': 1, 'ashley': 1, 'boyd': 1, 'connected': 1, 'devices': 1, 'risks': 1, 'prioritize': 1, 'children': 2, 'survives': 1, 'editorial': 1, 'scare': 2, 'tactics': 1, 'collins': 2, 'al': 2, 'franken': 2, 'stephens': 1, 'denial': 1, 'complex': 1, 'facebook': 1, 'taught': 1, 'net': 2, 'neutrality': 2, 'doom': 1, 'season': 3, 'los': 1, 'angeles': 1, 'stay': 3, 'angelo': 1, 'baca': 1, 'native': 1, 'land': 1, 'protections': 1, 'gutting': 1, 'sorely': 1, 'cohen': 1, 'peace': 1, 'destroy': 1, 'egan': 1, 'trumpocalypse': 1, 'generation': 1, 'women': 3, 'empowered': 1, 'deceive': 1, 'ourselves': 1, 'russia': 1, 'cheats': 1, 'krugman': 1, 'bias': 1, 'twitter': 1, 'user': 1, 'subscriptions': 5, 'night': 3, 'desk': 3, 'tweeting': 3, 'starts': 3, 'journalist': 1, 'wrestles': 1, 'candor': 1, 'egyptian': 1, 'woman': 1, 'insider': 2, 'crossword': 4, 'play': 2, 'rsquo': 2, 'puzzle': 2, 'wordplay': 1, 'watching': 2, 'neediest': 2, 'juggling': 1, 'family': 2, 'managing': 1, 'class': 1, 'addition': 1, 'attending': 1, 'college': 4, 'caring': 1, 'father': 1, 'son': 1, 'darius': 1, 'cummings': 1, 'bouncing': 1, 'handle': 1, 'estates': 1, 'mother': 1, 'uncle': 1, '106th': 1, 'fund': 1, 'provided': 1, 'direct': 1, 'assistance': 1, 'struggling': 1, 'beyond': 1, 'donate': 1, 'advertisers': 1, 'loading': 2, 'videos': 1, 'player': 1, 'inside': 2, 'previous': 1, 'story': 3, 'television': 3, 'jane': 1, 'krakowski': 1, 'taps': 1, 'save': 1, 'care': 1, 'governors': 1, 'warn': 1, 'families': 1, 'suffer': 1, 'fails': 1, 'reauthorize': 1, 'chip': 1, 'insurance': 1, 'program': 1, 'travelers': 1, 'pack': 1, 'choose': 1, 'duck': 1, 'dinosaur': 1, 'swim': 1, 'music': 2, 'talking': 1, 'grandparenting': 1, 'books': 6, 'adopted': 1, 'black': 2, 'baby': 1, 'replaced': 1, 'white': 1, 'environmentalists': 1, 'syria': 1, 'skies': 1, 'warplanes': 1, 'fled': 1, 'boko': 1, 'haram': 1, 'raped': 1, 'nigeria': 1, 'forces': 1, 'day': 1, 'southeast': 3, 'asia': 3, 'ride': 3, 'hailing': 3, 'war': 4, 'waged': 3, 'motorbikes': 3, 'japan': 1, 'reach': 1, 'flag': 1, 'trade': 1, 'waving': 1, 'claiming': 2, 'ease': 2, 'addiction': 2, 'scrutiny': 2, 'op': 3, 'ed': 3, 'contributor': 1, 'gail': 1, 'updates': 1, 'woods': 1, 'apple': 1, 'acquiring': 1, 'shazam': 1, 'song': 1, 'identifying': 1, 'app': 1, 'opposition': 1, 'repeal': 1, 'stars': 2, 'star': 2, 'wars': 2, 'haywire': 1, 'hospitality': 1, 'amy': 1, 'sedaris': 1, 'offering': 1, 'abruptly': 1, 'modern': 1, 'love': 2, 'tiles': 1, 'mine': 1, 'ho': 3, 'vows': 1, 'military': 1, 'couple': 1, 'apart': 1, 'coco': 1, 'bela': 1, 'forgotten': 1, 'orphan': 1, 'fewer': 1, 'crowds': 1, 'brooklyn': 2, 'bridge': 1, 'shohei': 1, 'ohtani': 1, 'angel': 1, 'outfield': 1, 'mound': 1, 'giancarlo': 1, 'stanton': 1, 'yankees': 1, 'football': 2, 'army': 1, 'running': 1, 'game': 1, 'nearly': 1, 'walked': 1, 'theater': 3, 'dreaming': 1, 'magical': 1, 'underwear': 1, 'journey': 1, 'calais': 1, 'jungle': 1, 'london': 1, 'stage': 1, 'trilobites': 2, 'silent': 1, 'gifs': 1, 'learned': 1, 'actually': 1, 'sausage': 1, 'obituaries': 2, 'tracy': 1, 'stallard': 1, 'historic': 1, 'maris': 1, 'homer': 1, 'dies': 3, 'leslie': 1, 'wolfe': 1, 'pursued': 1, 'equality': 1, 'meyer': 1, 'coached': 1, 'title': 1, 'takes': 1, 'queen': 1, 'crisis': 2, 'look': 1, 'history': 1, 'transparent': 1, 'tambor': 1, 'burst': 1, 'idealistic': 1, 'bubble': 1, 'age': 1, 'smokers': 1, 'vaping': 1, 'birth': 1, 'control': 1, 'pills': 1, 'linked': 1, 'breast': 1, 'cancer': 1, 'study': 1, 'haiti': 1, 'tracing': 1, 'paradise': 1, 'lost': 1, 'favorite': 2, 'reads': 1, 'monuments': 1, 'quiet': 1, 'trails': 1, 'questions': 1, 'future': 1, 'polite': 1, 'drive': 1, 'secession': 1, 'radio': 1, 'vermont': 1, 'colleges': 1, 'applicant': 1, 'dream': 1, 'six': 1, 'myths': 1, 'choosing': 1, 'hungry': 1, 'cheap': 1, 'eats': 1, 'global': 1, 'flavors': 1, 'united': 1, 'appetite': 1, 'pamper': 1, 'guests': 1, 'gougères': 1, 'kitchen': 1, 'spinach': 1, 'lasagna': 1, 'worthy': 1, 'feast': 1, 'performers': 2, 'actors': 1, 'series': 1, 'short': 1, 'frightening': 1, 'films': 1, 'screams': 1, 'notebook': 1, 'horror': 1, 'prewar': 1, 'twist': 1, 'lights': 1, 'micro': 3, 'units': 3, 'lending': 3, 'library': 3, 'upshot': 1, 'doctor': 1, 'hard': 1, 'harder': 1, 'happened': 1, 'boomtown': 1, 'effective': 1, 'school': 1, 'district': 1, 'measure': 1, 'students': 1, 'reading': 2, 'automobiles': 2, 'ford': 1, 'electric': 1, 'cars': 1, 'mexico': 1, 'shifting': 1, 'china': 1, 'advances': 1, 'industry': 1, 'dinner': 2, 'jay': 1, 'discusses': 1, 'rap': 1, 'america': 1, 'clothing': 1, 'simplifies': 1, 'dressed': 1, 'lasky': 1, 'building': 1, 'downtown': 1, 'includes': 1, 'household': 1, 'plates': 1, 'sewing': 1, 'machine': 1, 'sale': 2, 'rent': 1, 'mortgage': 1, 'calculator': 1, 'viewed': 1, 'trending': 1, 'recommended': 1, 'page': 1, 'index': 2, 'corrections': 1, 'columnists': 1, 'editorials': 1, 'contributors': 1, 'letters': 1, 'sunday': 1, 'design': 1, 'dance': 1, 'events': 3, 'weddings': 1, 'celebrations': 1, 'listings': 1, 'reader': 1, 'center': 1, 'classifieds': 1, 'photography': 1, 'store': 1, 'journeys': 1, 'nytco': 1, 'delivery': 1, 'digital': 1, 'newsletters': 1, 'alerts': 1, 'rate': 1, 'applications': 1, 'replica': 1, 'information': 2, 'advertise': 1, 'ad': 1, 'choices': 1, 'map': 1, 'feedback': 1, 'view': 1, 'version': 1}\n",
      "github\n",
      "http://www.times.com\n"
     ]
    }
   ],
   "source": [
    "w1.getWordsFrequency() \n",
    "w1.getMaxFreqencyWords()\n",
    "w1.searchUrlByWord(\"news\")"
   ]
  },
  {
   "cell_type": "code",
   "execution_count": 62,
   "metadata": {},
   "outputs": [],
   "source": [
    "class OrderedWebWordsFrequency(WebWordsFrequency):\n",
    "    def getWordsFrequency(self, reverse = False):\n",
    "        l = []\n",
    "        t = {}\n",
    "        for i in list(self.dic.values()):\n",
    "            l = l + i\n",
    "        for i in l:\n",
    "            if (i not in t.keys()):\n",
    "                t[i] = 1\n",
    "            else:\n",
    "                t[i] = t[i] + 1\n",
    "        l = list(t.items())\n",
    "        l.sort(key=lambda d:d[1], reverse = not reverse)\n",
    "        t = dict(l)\n",
    "        self.freq = t\n",
    "        print(t)\n",
    "        \n",
    "    ##반복자 해결\n",
    "    def __iter__(self):\n",
    "        return iter(self.freq.items())\n",
    "        "
   ]
  },
  {
   "cell_type": "code",
   "execution_count": 63,
   "metadata": {},
   "outputs": [
    {
     "name": "stdout",
     "output_type": "stream",
     "text": [
      "{'github': 28, 'times': 15, 'trump': 14, 'york': 12, 'opinion': 11, 'code': 11, 'site': 10, 'business': 10, 'news': 9, 'learn': 9, 'review': 9, 'sign': 9, 'world': 8, 'navigation': 8, 'developers': 8, 'video': 7, 'comments': 7, 'city': 7, 'build': 7, 'help': 7, 'home': 7, 'search': 6, 'politics': 6, 'health': 6, 'arts': 6, 'magazine': 6, 'guide': 6, 'bears': 6, 'ears': 6, 're': 6, 'books': 6, 'security': 6, 'community': 6, 'subscribe': 5, 'tech': 5, 'fires': 5, 'southern': 5, 'president': 5, 'holiday': 5, 'movies': 5, 'privacy': 5, 'subscriptions': 5, 'tools': 5, 'teams': 5, 'education': 5, 'terms': 5, 'software': 5, 'maintainer': 5, 'com': 4, 'sections': 4, 'december': 4, 'science': 4, 'sports': 4, 'style': 4, 'food': 4, 'travel': 4, 'real': 4, 'estate': 4, 'top': 4, 'california': 4, 'days': 4, 'million': 4, 'moore': 4, 'india': 4, 'shield': 4, 'office': 4, 'service': 4, 'american': 4, 'crossword': 4, 'college': 4, 'war': 4, 'account': 4, 'platform': 4, 'projects': 4, 'hosting': 4, 'nytimes': 3, 'skip': 3, 'mobile': 3, 'people': 3, 'power': 3, 'jobs': 3, 'live': 3, 'major': 3, 'aide': 3, 'congress': 3, 'accusations': 3, 'harassment': 3, 'support': 3, 'russian': 3, 'emails': 3, 'government': 3, 'bad': 3, 'cloud': 3, 'living': 3, 'week': 3, 'christmas': 3, 'share': 3, 'activists': 3, 'democrats': 3, 'immigrants': 3, 'deal': 3, 'liberal': 3, 'party': 3, 'jerusalem': 3, 'national': 3, 'supplements': 3, 'opioid': 3, 'james': 3, 'levine': 3, 'charges': 3, 'crown': 3, 'policy': 3, 'marriage': 3, 'getting': 3, 'fashion': 3, 'moment': 3, 'scoundrel': 3, 'theory': 3, 'idea': 3, 'kids': 3, 'season': 3, 'stay': 3, 'process': 3, 'women': 3, 'night': 3, 'desk': 3, 'tweeting': 3, 'starts': 3, 'story': 3, 'television': 3, 'personal': 3, 'apps': 3, 'll': 3, 'southeast': 3, 'asia': 3, 'ride': 3, 'hailing': 3, 'waged': 3, 'motorbikes': 3, 'free': 3, 'op': 3, 'ed': 3, 'ho': 3, 'theater': 3, 'dies': 3, 'micro': 3, 'units': 3, 'lending': 3, 'library': 3, 'host': 3, 'events': 3, 'manage': 3, 'email': 3, 'development': 3, 'marketplace': 3, 'source': 3, 'alongside': 3, 'team': 3, 'project': 3, 'management': 3, 'using': 3, 'integrations': 3, 'signed': 3, 'worldwide': 3, 'multimedia': 2, 'please': 2, 'content': 2, 'saturday': 2, 'paper': 2, 'quick': 2, 'close': 2, 'storm': 2, 'deaths': 2, 'puerto': 2, 'rico': 2, 'death': 2, 'toll': 2, 'actual': 2, 'weeks': 2, 'strong': 2, 'official': 2, 'november': 2, 'jennifer': 2, 'medina': 2, 'leave': 2, 'homes': 2, 'five': 2, 'smoke': 2, 'fire': 2, 'killed': 2, 'resigns': 2, 'trent': 2, 'franks': 2, 'impregnate': 2, 'accused': 2, 'sexual': 2, 'female': 2, 'lobbyists': 2, 'julie': 2, 'florida': 2, 'election': 2, 'roy': 2, 'emailed': 2, 'hope': 2, 'hicks': 2, 'met': 2, 'offers': 2, 'credit': 2, 'getty': 2, 'images': 2, 'air': 2, 'worse': 2, 'critics': 2, 'jeffrey': 2, 'smarter': 2, 'notable': 2, 'songs': 2, 'jon': 2, 'perfect': 2, 'nyt': 2, 'gifts': 2, 'gift': 2, 'matters': 2, 'listening': 2, 'tax': 2, 'plan': 2, 'ron': 2, 'shut': 2, 'justices': 2, 'divided': 2, 'daca': 2, 'documents': 2, 'decision': 2, 'isis': 2, 'talk': 2, 'balthus': 2, 'culture': 2, 'issues': 2, 'monument': 2, 'deep': 2, 'cuomo': 2, 'calls': 2, 'hear': 2, 'daily': 2, 'technology': 2, 'claim': 2, 'criminal': 2, 'illinois': 2, 'art': 2, 'dealbook': 2, 'newsletter': 2, 'edition': 2, 'australia': 2, 'makes': 2, 'follow': 2, 'parties': 2, 'feel': 2, 'chill': 2, 'line': 2, 'festival': 2, 'own': 2, 'life': 2, 'candidate': 2, 'character': 2, 'doesn': 2, 'matter': 2, 'pervasive': 2, 'pernicious': 2, 'don': 2, 'children': 2, 'scare': 2, 'collins': 2, 'al': 2, 'franken': 2, 'net': 2, 'neutrality': 2, 'insider': 2, 'play': 2, 'rsquo': 2, 'puzzle': 2, 'watching': 2, 'neediest': 2, 'family': 2, 'loading': 2, 'explore': 2, 'inside': 2, 'music': 2, 'black': 2, 'claiming': 2, 'ease': 2, 'addiction': 2, 'scrutiny': 2, 'stars': 2, 'star': 2, 'wars': 2, 'protect': 2, 'love': 2, 'brooklyn': 2, 'football': 2, 'leading': 2, 'trilobites': 2, 'obituaries': 2, 'crisis': 2, 'favorite': 2, 'performers': 2, 'reading': 2, 'automobiles': 2, 'dinner': 2, 'sale': 2, 'index': 2, 'services': 2, 'information': 2, 'copy': 2, 'company': 2, 'contact': 2, 'features': 2, 'millions': 2, 'username': 2, 'password': 2, 'clicking': 2, 'agree': 2, 'occasionally': 2, 'send': 2, 'related': 2, 'happen': 2, 'browse': 2, 'discover': 2, 'favorites': 2, 'authentication': 2, 'status': 2, 'maintain': 2, 'access': 2, 'securely': 2, 'create': 2, 'largest': 2, 'customer': 2, 'kubernetes': 2, 'businesses': 2, 'tab': 2, 'window': 2, 'reload': 2, 'refresh': 2, 'session': 2, 'breaking': 1, 'supports': 1, 'internet': 1, 'explorer': 1, 'earlier': 1, 'upgrade': 1, 'browser': 1, 'log': 1, 'settings': 1, 'english': 1, '中文': 1, 'chinese': 1, 'español': 1, 'text': 1, 'input': 1, 'vastly': 1, 'underestimated': 1, 'frances': 1, 'robles': 1, 'kenan': 1, 'davis': 1, 'sheri': 1, 'fink': 1, 'sarah': 1, 'almukhtar': 1, 'officially': 1, 'island': 1, 'hurricane': 1, 'maria': 1, 'suggests': 1, 'died': 1, 'recovery': 1, 'dragged': 1, 'hospitals': 1, 'struggled': 1, 'clinics': 1, 'remained': 1, 'economy': 1, 'ben': 1, 'casselman': 1, 'labor': 1, 'department': 1, 'released': 1, 'hiring': 1, 'unemployment': 1, 'figures': 1, 'reporting': 1, 'added': 1, 'briefing': 1, 'moving': 1, 'force': 1, 'evacuations': 1, 'miriam': 1, 'jordan': 1, 'mitch': 1, 'smith': 1, 'forced': 1, 'thousands': 1, 'californians': 1, 'continued': 1, 'sweep': 1, 'declared': 1, 'emergency': 1, 'additional': 1, 'aid': 1, 'looks': 1, 'continue': 1, 'burn': 1, 'dozens': 1, 'horses': 1, 'tear': 1, 'lawmaker': 1, 'details': 1, 'emerge': 1, 'offer': 1, 'katie': 1, 'rogers': 1, 'arizona': 1, 'republican': 1, 'immediately': 1, 'offered': 1, 'forty': 1, 'misconduct': 1, 'fall': 1, 'describe': 1, 'lawmakers': 1, 'trip': 1, 'gabriel': 1, 'bosman': 1, 'frequently': 1, 'disparaged': 1, 'profession': 1, 'emerged': 1, 'especially': 1, 'vulnerable': 1, 'legislatures': 1, 'stumps': 1, 'michael': 1, 'tackett': 1, 'special': 1, 'senate': 1, 'seat': 1, 'alabama': 1, 'spoke': 1, 'dogged': 1, 'accuser': 1, 'revises': 1, 'explanation': 1, 'yearbook': 1, 'inscription': 1, 'warned': 1, 'adviser': 1, 'adam': 1, 'goldman': 1, 'matt': 1, 'apuzzo': 1, 'operatives': 1, 'repeatedly': 1, 'urge': 1, 'caution': 1, 'seen': 1, 'heard': 1, 'chris': 1, 'cirillo': 1, 'confidential': 1, 'tip': 1, 'touch': 1, 'provide': 1, 'materials': 1, 'journalists': 1, 'feeding': 1, 'seagulls': 1, 'yamuna': 1, 'river': 1, 'delhi': 1, 'polluted': 1, 'capitals': 1, 'dominique': 1, 'faget': 1, 'agence': 1, 'france': 1, 'presse': 1, 'northern': 1, 'swallowed': 1, 'epic': 1, 'smog': 1, 'prime': 1, 'minister': 1, 'narendra': 1, 'modi': 1, 'friendly': 1, 'policies': 1, 'exacerbating': 1, 'gettleman': 1, 'kai': 1, 'schultz': 1, 'hari': 1, 'kumar': 1, 'playlist': 1, 'pareles': 1, 'caramanica': 1, 'giovanni': 1, 'russonello': 1, 'migos': 1, 'johnny': 1, 'mathis': 1, 'cookie': 1, 'plate': 1, 'recipes': 1, 'cooking': 1, 'fill': 1, 'editors': 1, 'categories': 1, 'journalism': 1, 'essential': 1, 'jens': 1, 'mortensen': 1, 'alexa': 1, 'holdout': 1, 'called': 1, 'smart': 1, 'speakers': 1, 'expected': 1, 'sell': 1, 'ready': 1, 'danny': 1, 'hakim': 1, 'money': 1, 'cost': 1, 'aging': 1, 'rise': 1, 'lieber': 1, 'bill': 1, 'removes': 1, 'medical': 1, 'expense': 1, 'deductions': 1, 'lose': 1, 'annually': 1, 'tell': 1, 'yamiche': 1, 'alcindor': 1, 'thomas': 1, 'kaplan': 1, 'undocumented': 1, 'deportation': 1, 'question': 1, 'willingness': 1, 'provoke': 1, 'shutdown': 1, 'extremists': 1, 'condemn': 1, 'condemns': 1, 'rukmini': 1, 'callimachi': 1, 'mali': 1, 'afghanistan': 1, 'jihadists': 1, 'promised': 1, 'retaliate': 1, 'recognize': 1, 'israel': 1, 'capital': 1, 'aim': 1, 'ginia': 1, 'bellafante': 1, 'metropolitan': 1, 'museum': 1, 'declined': 1, 'rethink': 1, 'display': 1, 'artist': 1, 'painting': 1, 'girl': 1, 'sexualized': 1, 'pose': 1, 'grapples': 1, 'shrinking': 1, 'cut': 1, 'nadja': 1, 'popovich': 1, 'announced': 1, 'cuts': 1, 'vast': 1, 'remote': 1, 'stretch': 1, 'red': 1, 'rock': 1, 'canyons': 1, 'boundaries': 1, 'changed': 1, 'investigation': 1, 'payroll': 1, 'shane': 1, 'goldmacher': 1, 'william': 1, 'rashbaum': 1, 'inquiry': 1, 'governor': 1, 'spokesman': 1, 'absurd': 1, 'focuses': 1, 'paid': 1, 'entities': 1, 'andy': 1, 'webster': 1, 'plenty': 1, 'sampling': 1, 'cultural': 1, 'highlights': 1, 'weekend': 1, 'ahead': 1, 'machu': 1, 'picchu': 1, 'justin': 1, 'setterfield': 1, 'samsung': 1, 'anger': 1, 'helping': 1, 'addicts': 1, 'saudi': 1, 'arabia': 1, 'denies': 1, 'prince': 1, 'bought': 1, 'peacekeepers': 1, 'congo': 1, 'fargo': 1, 'fines': 1, 'reduced': 1, 'columnist': 1, 'andrew': 1, 'ross': 1, 'sorkin': 1, 'colleagues': 1, 'sense': 1, 'headlines': 1, 'brokers': 1, 'shape': 1, 'tv': 1, 'netflix': 1, 'titles': 1, 'coming': 1, 'broken': 1, 'release': 1, 'date': 1, 'sendok': 1, 'garpu': 1, 'serves': 1, 'indonesian': 1, 'cuisine': 1, 'outside': 1, 'brisbane': 1, 'restaurant': 1, 'indooroopilly': 1, 'specialties': 1, 'indonesia': 1, 'sex': 1, 'legal': 1, 'referendum': 1, 'gay': 1, 'parliament': 1, 'voted': 1, 'overwhelmingly': 1, 'public': 1, 'lead': 1, 'squeezed': 1, 'mistletoe': 1, 'bob': 1, 'accounting': 1, 'friends': 1, 'astral': 1, 'buzz': 1, 'aldrin': 1, 'attached': 1, 'name': 1, 'street': 1, 'wear': 1, 'space': 1, 'exerting': 1, 'outsize': 1, 'influence': 1, 'pop': 1, 'ny': 1, 'cat': 1, 'film': 1, 'animal': 1, 'premiere': 1, 'tour': 1, 'country': 1, 'programs': 1, 'shorts': 1, 'devoted': 1, 'feline': 1, 'greg': 1, 'weiner': 1, 'spy': 1, 'ashley': 1, 'boyd': 1, 'connected': 1, 'devices': 1, 'risks': 1, 'prioritize': 1, 'survives': 1, 'editorial': 1, 'tactics': 1, 'stephens': 1, 'denial': 1, 'complex': 1, 'facebook': 1, 'taught': 1, 'doom': 1, 'los': 1, 'angeles': 1, 'angelo': 1, 'baca': 1, 'native': 1, 'land': 1, 'protections': 1, 'gutting': 1, 'sorely': 1, 'cohen': 1, 'peace': 1, 'destroy': 1, 'egan': 1, 'trumpocalypse': 1, 'generation': 1, 'empowered': 1, 'deceive': 1, 'ourselves': 1, 'russia': 1, 'cheats': 1, 'krugman': 1, 'bias': 1, 'twitter': 1, 'user': 1, 'journalist': 1, 'wrestles': 1, 'candor': 1, 'egyptian': 1, 'woman': 1, 'wordplay': 1, 'juggling': 1, 'managing': 1, 'class': 1, 'addition': 1, 'attending': 1, 'caring': 1, 'father': 1, 'son': 1, 'darius': 1, 'cummings': 1, 'bouncing': 1, 'handle': 1, 'estates': 1, 'mother': 1, 'uncle': 1, '106th': 1, 'fund': 1, 'provided': 1, 'direct': 1, 'assistance': 1, 'struggling': 1, 'beyond': 1, 'donate': 1, 'advertisers': 1, 'videos': 1, 'player': 1, 'previous': 1, 'jane': 1, 'krakowski': 1, 'taps': 1, 'save': 1, 'care': 1, 'governors': 1, 'warn': 1, 'families': 1, 'suffer': 1, 'fails': 1, 'reauthorize': 1, 'chip': 1, 'insurance': 1, 'program': 1, 'travelers': 1, 'pack': 1, 'choose': 1, 'duck': 1, 'dinosaur': 1, 'swim': 1, 'talking': 1, 'grandparenting': 1, 'adopted': 1, 'baby': 1, 'replaced': 1, 'white': 1, 'environmentalists': 1, 'syria': 1, 'skies': 1, 'warplanes': 1, 'fled': 1, 'boko': 1, 'haram': 1, 'raped': 1, 'nigeria': 1, 'forces': 1, 'day': 1, 'japan': 1, 'reach': 1, 'flag': 1, 'trade': 1, 'waving': 1, 'contributor': 1, 'gail': 1, 'updates': 1, 'woods': 1, 'apple': 1, 'acquiring': 1, 'shazam': 1, 'song': 1, 'identifying': 1, 'app': 1, 'opposition': 1, 'repeal': 1, 'haywire': 1, 'hospitality': 1, 'amy': 1, 'sedaris': 1, 'offering': 1, 'abruptly': 1, 'modern': 1, 'tiles': 1, 'mine': 1, 'vows': 1, 'military': 1, 'couple': 1, 'apart': 1, 'coco': 1, 'bela': 1, 'forgotten': 1, 'orphan': 1, 'fewer': 1, 'crowds': 1, 'bridge': 1, 'shohei': 1, 'ohtani': 1, 'angel': 1, 'outfield': 1, 'mound': 1, 'giancarlo': 1, 'stanton': 1, 'yankees': 1, 'army': 1, 'running': 1, 'game': 1, 'nearly': 1, 'walked': 1, 'dreaming': 1, 'magical': 1, 'underwear': 1, 'journey': 1, 'calais': 1, 'jungle': 1, 'london': 1, 'stage': 1, 'silent': 1, 'gifs': 1, 'learned': 1, 'actually': 1, 'sausage': 1, 'tracy': 1, 'stallard': 1, 'historic': 1, 'maris': 1, 'homer': 1, 'leslie': 1, 'wolfe': 1, 'pursued': 1, 'equality': 1, 'meyer': 1, 'coached': 1, 'title': 1, 'takes': 1, 'queen': 1, 'look': 1, 'history': 1, 'transparent': 1, 'tambor': 1, 'burst': 1, 'idealistic': 1, 'bubble': 1, 'age': 1, 'smokers': 1, 'vaping': 1, 'birth': 1, 'control': 1, 'pills': 1, 'linked': 1, 'breast': 1, 'cancer': 1, 'study': 1, 'haiti': 1, 'tracing': 1, 'paradise': 1, 'lost': 1, 'reads': 1, 'monuments': 1, 'quiet': 1, 'trails': 1, 'questions': 1, 'future': 1, 'polite': 1, 'drive': 1, 'secession': 1, 'radio': 1, 'vermont': 1, 'colleges': 1, 'applicant': 1, 'dream': 1, 'six': 1, 'myths': 1, 'choosing': 1, 'hungry': 1, 'cheap': 1, 'eats': 1, 'global': 1, 'flavors': 1, 'united': 1, 'appetite': 1, 'pamper': 1, 'guests': 1, 'gougères': 1, 'kitchen': 1, 'spinach': 1, 'lasagna': 1, 'worthy': 1, 'feast': 1, 'actors': 1, 'series': 1, 'short': 1, 'frightening': 1, 'films': 1, 'screams': 1, 'notebook': 1, 'horror': 1, 'prewar': 1, 'twist': 1, 'lights': 1, 'upshot': 1, 'doctor': 1, 'hard': 1, 'harder': 1, 'happened': 1, 'boomtown': 1, 'effective': 1, 'school': 1, 'district': 1, 'measure': 1, 'students': 1, 'ford': 1, 'electric': 1, 'cars': 1, 'mexico': 1, 'shifting': 1, 'china': 1, 'advances': 1, 'industry': 1, 'jay': 1, 'discusses': 1, 'rap': 1, 'america': 1, 'clothing': 1, 'simplifies': 1, 'dressed': 1, 'lasky': 1, 'building': 1, 'downtown': 1, 'includes': 1, 'household': 1, 'plates': 1, 'sewing': 1, 'machine': 1, 'rent': 1, 'mortgage': 1, 'calculator': 1, 'viewed': 1, 'trending': 1, 'recommended': 1, 'page': 1, 'corrections': 1, 'columnists': 1, 'editorials': 1, 'contributors': 1, 'letters': 1, 'sunday': 1, 'design': 1, 'dance': 1, 'weddings': 1, 'celebrations': 1, 'listings': 1, 'reader': 1, 'center': 1, 'classifieds': 1, 'photography': 1, 'store': 1, 'journeys': 1, 'nytco': 1, 'delivery': 1, 'digital': 1, 'newsletters': 1, 'alerts': 1, 'rate': 1, 'applications': 1, 'replica': 1, 'advertise': 1, 'ad': 1, 'choices': 1, 'map': 1, 'feedback': 1, 'view': 1, 'version': 1, 'pricing': 1, 'dashboard': 1, 'built': 1, 'inspired': 1, 'letter': 1, 'numeral': 1, 'seven': 1, 'characters': 1, 'brings': 1, 'move': 1, 'ideas': 1, 'forward': 1, 'write': 1, 'collaboration': 1, 'conversations': 1, 'reviews': 1, 'pull': 1, 'requests': 1, 'weight': 1, 'improve': 1, 'chaos': 1, 'breath': 1, 'happens': 1, 'mention': 1, 'teammate': 1, 'involved': 1, 'buy': 1, 'start': 1, 'minutes': 1, 'administration': 1, 'boxes': 1, 'check': 1, 'worry': 1, 'administrative': 1, 'flexible': 1, 'options': 1, 'meet': 1, 'requirements': 1, 'prevent': 1, 'protected': 1, 'branches': 1, 'commits': 1, 'required': 1, 'checks': 1, 'standard': 1, 'controlled': 1, 'encourage': 1, 'limiting': 1, 'granular': 1, 'permissions': 1, 'saml': 1, 'sso': 1, 'ldap': 1, '1clr': 1, 'hosted': 1, 'reliably': 1, 'deploy': 1, 'enterprise': 1, 'servers': 1, 'private': 1, 'amazon': 1, 'web': 1, 'azure': 1, 'google': 1, 'compare': 1, 'plans': 1, 'customize': 1, 'intuitive': 1, 'api': 1, 'integrate': 1, 'happier': 1, 'efficient': 1, 'sometimes': 1, 'tool': 1, 'job': 1, 'try': 1, 'welcome': 1, 'ariya': 1, 'hidayat': 1, 'phantomjs': 1, 'russell': 1, 'keith': 1, 'magee': 1, 'pybee': 1, 'mailchimp': 1, 'marketing': 1, 'kris': 1, 'nova': 1, 'kops': 1, 'evan': 1, 'vue': 1, 'mapbox': 1, 'jess': 1, 'frazelle': 1, 'previously': 1, 'docker': 1, 'commit': 1, 'sending': 1, 'rover': 1, 'mars': 1, '73m': 1, 'repositories': 1, 'users': 1, 'influential': 1, 'technologies': 1, '26m': 1, 'experimenting': 1, 'programming': 1, 'languages': 1, '117k': 1, 'sizes': 1, 'started': 1, 'mdash': 1, 'join': 1, 'amazing': 1, 'documentation': 1, 'atom': 1, 'electron': 1, 'desktop': 1, 'customers': 1, 'partners': 1, 'sponsorships': 1, 'blog': 1, 'careers': 1, 'press': 1, 'shop': 1, 'resources': 1, 'forum': 1, 'training': 1, 'perform': 1, 'action': 1, 'time': 1}\n",
      "{'breaking': 1, 'supports': 1, 'internet': 1, 'explorer': 1, 'earlier': 1, 'upgrade': 1, 'browser': 1, 'log': 1, 'settings': 1, 'english': 1, '中文': 1, 'chinese': 1, 'español': 1, 'text': 1, 'input': 1, 'vastly': 1, 'underestimated': 1, 'frances': 1, 'robles': 1, 'kenan': 1, 'davis': 1, 'sheri': 1, 'fink': 1, 'sarah': 1, 'almukhtar': 1, 'officially': 1, 'island': 1, 'hurricane': 1, 'maria': 1, 'suggests': 1, 'died': 1, 'recovery': 1, 'dragged': 1, 'hospitals': 1, 'struggled': 1, 'clinics': 1, 'remained': 1, 'economy': 1, 'ben': 1, 'casselman': 1, 'labor': 1, 'department': 1, 'released': 1, 'hiring': 1, 'unemployment': 1, 'figures': 1, 'reporting': 1, 'added': 1, 'briefing': 1, 'moving': 1, 'force': 1, 'evacuations': 1, 'miriam': 1, 'jordan': 1, 'mitch': 1, 'smith': 1, 'forced': 1, 'thousands': 1, 'californians': 1, 'continued': 1, 'sweep': 1, 'declared': 1, 'emergency': 1, 'additional': 1, 'aid': 1, 'looks': 1, 'continue': 1, 'burn': 1, 'dozens': 1, 'horses': 1, 'tear': 1, 'lawmaker': 1, 'details': 1, 'emerge': 1, 'offer': 1, 'katie': 1, 'rogers': 1, 'arizona': 1, 'republican': 1, 'immediately': 1, 'offered': 1, 'forty': 1, 'misconduct': 1, 'fall': 1, 'describe': 1, 'lawmakers': 1, 'trip': 1, 'gabriel': 1, 'bosman': 1, 'frequently': 1, 'disparaged': 1, 'profession': 1, 'emerged': 1, 'especially': 1, 'vulnerable': 1, 'legislatures': 1, 'stumps': 1, 'michael': 1, 'tackett': 1, 'special': 1, 'senate': 1, 'seat': 1, 'alabama': 1, 'spoke': 1, 'dogged': 1, 'accuser': 1, 'revises': 1, 'explanation': 1, 'yearbook': 1, 'inscription': 1, 'warned': 1, 'adviser': 1, 'adam': 1, 'goldman': 1, 'matt': 1, 'apuzzo': 1, 'operatives': 1, 'repeatedly': 1, 'urge': 1, 'caution': 1, 'seen': 1, 'heard': 1, 'chris': 1, 'cirillo': 1, 'confidential': 1, 'tip': 1, 'touch': 1, 'provide': 1, 'materials': 1, 'journalists': 1, 'feeding': 1, 'seagulls': 1, 'yamuna': 1, 'river': 1, 'delhi': 1, 'polluted': 1, 'capitals': 1, 'dominique': 1, 'faget': 1, 'agence': 1, 'france': 1, 'presse': 1, 'northern': 1, 'swallowed': 1, 'epic': 1, 'smog': 1, 'prime': 1, 'minister': 1, 'narendra': 1, 'modi': 1, 'friendly': 1, 'policies': 1, 'exacerbating': 1, 'gettleman': 1, 'kai': 1, 'schultz': 1, 'hari': 1, 'kumar': 1, 'playlist': 1, 'pareles': 1, 'caramanica': 1, 'giovanni': 1, 'russonello': 1, 'migos': 1, 'johnny': 1, 'mathis': 1, 'cookie': 1, 'plate': 1, 'recipes': 1, 'cooking': 1, 'fill': 1, 'editors': 1, 'categories': 1, 'journalism': 1, 'essential': 1, 'jens': 1, 'mortensen': 1, 'alexa': 1, 'holdout': 1, 'called': 1, 'smart': 1, 'speakers': 1, 'expected': 1, 'sell': 1, 'ready': 1, 'danny': 1, 'hakim': 1, 'money': 1, 'cost': 1, 'aging': 1, 'rise': 1, 'lieber': 1, 'bill': 1, 'removes': 1, 'medical': 1, 'expense': 1, 'deductions': 1, 'lose': 1, 'annually': 1, 'tell': 1, 'yamiche': 1, 'alcindor': 1, 'thomas': 1, 'kaplan': 1, 'undocumented': 1, 'deportation': 1, 'question': 1, 'willingness': 1, 'provoke': 1, 'shutdown': 1, 'extremists': 1, 'condemn': 1, 'condemns': 1, 'rukmini': 1, 'callimachi': 1, 'mali': 1, 'afghanistan': 1, 'jihadists': 1, 'promised': 1, 'retaliate': 1, 'recognize': 1, 'israel': 1, 'capital': 1, 'aim': 1, 'ginia': 1, 'bellafante': 1, 'metropolitan': 1, 'museum': 1, 'declined': 1, 'rethink': 1, 'display': 1, 'artist': 1, 'painting': 1, 'girl': 1, 'sexualized': 1, 'pose': 1, 'grapples': 1, 'shrinking': 1, 'cut': 1, 'nadja': 1, 'popovich': 1, 'announced': 1, 'cuts': 1, 'vast': 1, 'remote': 1, 'stretch': 1, 'red': 1, 'rock': 1, 'canyons': 1, 'boundaries': 1, 'changed': 1, 'investigation': 1, 'payroll': 1, 'shane': 1, 'goldmacher': 1, 'william': 1, 'rashbaum': 1, 'inquiry': 1, 'governor': 1, 'spokesman': 1, 'absurd': 1, 'focuses': 1, 'paid': 1, 'entities': 1, 'andy': 1, 'webster': 1, 'plenty': 1, 'sampling': 1, 'cultural': 1, 'highlights': 1, 'weekend': 1, 'ahead': 1, 'machu': 1, 'picchu': 1, 'justin': 1, 'setterfield': 1, 'samsung': 1, 'anger': 1, 'helping': 1, 'addicts': 1, 'saudi': 1, 'arabia': 1, 'denies': 1, 'prince': 1, 'bought': 1, 'peacekeepers': 1, 'congo': 1, 'fargo': 1, 'fines': 1, 'reduced': 1, 'columnist': 1, 'andrew': 1, 'ross': 1, 'sorkin': 1, 'colleagues': 1, 'sense': 1, 'headlines': 1, 'brokers': 1, 'shape': 1, 'tv': 1, 'netflix': 1, 'titles': 1, 'coming': 1, 'broken': 1, 'release': 1, 'date': 1, 'sendok': 1, 'garpu': 1, 'serves': 1, 'indonesian': 1, 'cuisine': 1, 'outside': 1, 'brisbane': 1, 'restaurant': 1, 'indooroopilly': 1, 'specialties': 1, 'indonesia': 1, 'sex': 1, 'legal': 1, 'referendum': 1, 'gay': 1, 'parliament': 1, 'voted': 1, 'overwhelmingly': 1, 'public': 1, 'lead': 1, 'squeezed': 1, 'mistletoe': 1, 'bob': 1, 'accounting': 1, 'friends': 1, 'astral': 1, 'buzz': 1, 'aldrin': 1, 'attached': 1, 'name': 1, 'street': 1, 'wear': 1, 'space': 1, 'exerting': 1, 'outsize': 1, 'influence': 1, 'pop': 1, 'ny': 1, 'cat': 1, 'film': 1, 'animal': 1, 'premiere': 1, 'tour': 1, 'country': 1, 'programs': 1, 'shorts': 1, 'devoted': 1, 'feline': 1, 'greg': 1, 'weiner': 1, 'spy': 1, 'ashley': 1, 'boyd': 1, 'connected': 1, 'devices': 1, 'risks': 1, 'prioritize': 1, 'survives': 1, 'editorial': 1, 'tactics': 1, 'stephens': 1, 'denial': 1, 'complex': 1, 'facebook': 1, 'taught': 1, 'doom': 1, 'los': 1, 'angeles': 1, 'angelo': 1, 'baca': 1, 'native': 1, 'land': 1, 'protections': 1, 'gutting': 1, 'sorely': 1, 'cohen': 1, 'peace': 1, 'destroy': 1, 'egan': 1, 'trumpocalypse': 1, 'generation': 1, 'empowered': 1, 'deceive': 1, 'ourselves': 1, 'russia': 1, 'cheats': 1, 'krugman': 1, 'bias': 1, 'twitter': 1, 'user': 1, 'journalist': 1, 'wrestles': 1, 'candor': 1, 'egyptian': 1, 'woman': 1, 'wordplay': 1, 'juggling': 1, 'managing': 1, 'class': 1, 'addition': 1, 'attending': 1, 'caring': 1, 'father': 1, 'son': 1, 'darius': 1, 'cummings': 1, 'bouncing': 1, 'handle': 1, 'estates': 1, 'mother': 1, 'uncle': 1, '106th': 1, 'fund': 1, 'provided': 1, 'direct': 1, 'assistance': 1, 'struggling': 1, 'beyond': 1, 'donate': 1, 'advertisers': 1, 'videos': 1, 'player': 1, 'previous': 1, 'jane': 1, 'krakowski': 1, 'taps': 1, 'save': 1, 'care': 1, 'governors': 1, 'warn': 1, 'families': 1, 'suffer': 1, 'fails': 1, 'reauthorize': 1, 'chip': 1, 'insurance': 1, 'program': 1, 'travelers': 1, 'pack': 1, 'choose': 1, 'duck': 1, 'dinosaur': 1, 'swim': 1, 'talking': 1, 'grandparenting': 1, 'adopted': 1, 'baby': 1, 'replaced': 1, 'white': 1, 'environmentalists': 1, 'syria': 1, 'skies': 1, 'warplanes': 1, 'fled': 1, 'boko': 1, 'haram': 1, 'raped': 1, 'nigeria': 1, 'forces': 1, 'day': 1, 'japan': 1, 'reach': 1, 'flag': 1, 'trade': 1, 'waving': 1, 'contributor': 1, 'gail': 1, 'updates': 1, 'woods': 1, 'apple': 1, 'acquiring': 1, 'shazam': 1, 'song': 1, 'identifying': 1, 'app': 1, 'opposition': 1, 'repeal': 1, 'haywire': 1, 'hospitality': 1, 'amy': 1, 'sedaris': 1, 'offering': 1, 'abruptly': 1, 'modern': 1, 'tiles': 1, 'mine': 1, 'vows': 1, 'military': 1, 'couple': 1, 'apart': 1, 'coco': 1, 'bela': 1, 'forgotten': 1, 'orphan': 1, 'fewer': 1, 'crowds': 1, 'bridge': 1, 'shohei': 1, 'ohtani': 1, 'angel': 1, 'outfield': 1, 'mound': 1, 'giancarlo': 1, 'stanton': 1, 'yankees': 1, 'army': 1, 'running': 1, 'game': 1, 'nearly': 1, 'walked': 1, 'dreaming': 1, 'magical': 1, 'underwear': 1, 'journey': 1, 'calais': 1, 'jungle': 1, 'london': 1, 'stage': 1, 'silent': 1, 'gifs': 1, 'learned': 1, 'actually': 1, 'sausage': 1, 'tracy': 1, 'stallard': 1, 'historic': 1, 'maris': 1, 'homer': 1, 'leslie': 1, 'wolfe': 1, 'pursued': 1, 'equality': 1, 'meyer': 1, 'coached': 1, 'title': 1, 'takes': 1, 'queen': 1, 'look': 1, 'history': 1, 'transparent': 1, 'tambor': 1, 'burst': 1, 'idealistic': 1, 'bubble': 1, 'age': 1, 'smokers': 1, 'vaping': 1, 'birth': 1, 'control': 1, 'pills': 1, 'linked': 1, 'breast': 1, 'cancer': 1, 'study': 1, 'haiti': 1, 'tracing': 1, 'paradise': 1, 'lost': 1, 'reads': 1, 'monuments': 1, 'quiet': 1, 'trails': 1, 'questions': 1, 'future': 1, 'polite': 1, 'drive': 1, 'secession': 1, 'radio': 1, 'vermont': 1, 'colleges': 1, 'applicant': 1, 'dream': 1, 'six': 1, 'myths': 1, 'choosing': 1, 'hungry': 1, 'cheap': 1, 'eats': 1, 'global': 1, 'flavors': 1, 'united': 1, 'appetite': 1, 'pamper': 1, 'guests': 1, 'gougères': 1, 'kitchen': 1, 'spinach': 1, 'lasagna': 1, 'worthy': 1, 'feast': 1, 'actors': 1, 'series': 1, 'short': 1, 'frightening': 1, 'films': 1, 'screams': 1, 'notebook': 1, 'horror': 1, 'prewar': 1, 'twist': 1, 'lights': 1, 'upshot': 1, 'doctor': 1, 'hard': 1, 'harder': 1, 'happened': 1, 'boomtown': 1, 'effective': 1, 'school': 1, 'district': 1, 'measure': 1, 'students': 1, 'ford': 1, 'electric': 1, 'cars': 1, 'mexico': 1, 'shifting': 1, 'china': 1, 'advances': 1, 'industry': 1, 'jay': 1, 'discusses': 1, 'rap': 1, 'america': 1, 'clothing': 1, 'simplifies': 1, 'dressed': 1, 'lasky': 1, 'building': 1, 'downtown': 1, 'includes': 1, 'household': 1, 'plates': 1, 'sewing': 1, 'machine': 1, 'rent': 1, 'mortgage': 1, 'calculator': 1, 'viewed': 1, 'trending': 1, 'recommended': 1, 'page': 1, 'corrections': 1, 'columnists': 1, 'editorials': 1, 'contributors': 1, 'letters': 1, 'sunday': 1, 'design': 1, 'dance': 1, 'weddings': 1, 'celebrations': 1, 'listings': 1, 'reader': 1, 'center': 1, 'classifieds': 1, 'photography': 1, 'store': 1, 'journeys': 1, 'nytco': 1, 'delivery': 1, 'digital': 1, 'newsletters': 1, 'alerts': 1, 'rate': 1, 'applications': 1, 'replica': 1, 'advertise': 1, 'ad': 1, 'choices': 1, 'map': 1, 'feedback': 1, 'view': 1, 'version': 1, 'pricing': 1, 'dashboard': 1, 'built': 1, 'inspired': 1, 'letter': 1, 'numeral': 1, 'seven': 1, 'characters': 1, 'brings': 1, 'move': 1, 'ideas': 1, 'forward': 1, 'write': 1, 'collaboration': 1, 'conversations': 1, 'reviews': 1, 'pull': 1, 'requests': 1, 'weight': 1, 'improve': 1, 'chaos': 1, 'breath': 1, 'happens': 1, 'mention': 1, 'teammate': 1, 'involved': 1, 'buy': 1, 'start': 1, 'minutes': 1, 'administration': 1, 'boxes': 1, 'check': 1, 'worry': 1, 'administrative': 1, 'flexible': 1, 'options': 1, 'meet': 1, 'requirements': 1, 'prevent': 1, 'protected': 1, 'branches': 1, 'commits': 1, 'required': 1, 'checks': 1, 'standard': 1, 'controlled': 1, 'encourage': 1, 'limiting': 1, 'granular': 1, 'permissions': 1, 'saml': 1, 'sso': 1, 'ldap': 1, '1clr': 1, 'hosted': 1, 'reliably': 1, 'deploy': 1, 'enterprise': 1, 'servers': 1, 'private': 1, 'amazon': 1, 'web': 1, 'azure': 1, 'google': 1, 'compare': 1, 'plans': 1, 'customize': 1, 'intuitive': 1, 'api': 1, 'integrate': 1, 'happier': 1, 'efficient': 1, 'sometimes': 1, 'tool': 1, 'job': 1, 'try': 1, 'welcome': 1, 'ariya': 1, 'hidayat': 1, 'phantomjs': 1, 'russell': 1, 'keith': 1, 'magee': 1, 'pybee': 1, 'mailchimp': 1, 'marketing': 1, 'kris': 1, 'nova': 1, 'kops': 1, 'evan': 1, 'vue': 1, 'mapbox': 1, 'jess': 1, 'frazelle': 1, 'previously': 1, 'docker': 1, 'commit': 1, 'sending': 1, 'rover': 1, 'mars': 1, '73m': 1, 'repositories': 1, 'users': 1, 'influential': 1, 'technologies': 1, '26m': 1, 'experimenting': 1, 'programming': 1, 'languages': 1, '117k': 1, 'sizes': 1, 'started': 1, 'mdash': 1, 'join': 1, 'amazing': 1, 'documentation': 1, 'atom': 1, 'electron': 1, 'desktop': 1, 'customers': 1, 'partners': 1, 'sponsorships': 1, 'blog': 1, 'careers': 1, 'press': 1, 'shop': 1, 'resources': 1, 'forum': 1, 'training': 1, 'perform': 1, 'action': 1, 'time': 1, 'multimedia': 2, 'please': 2, 'content': 2, 'saturday': 2, 'paper': 2, 'quick': 2, 'close': 2, 'storm': 2, 'deaths': 2, 'puerto': 2, 'rico': 2, 'death': 2, 'toll': 2, 'actual': 2, 'weeks': 2, 'strong': 2, 'official': 2, 'november': 2, 'jennifer': 2, 'medina': 2, 'leave': 2, 'homes': 2, 'five': 2, 'smoke': 2, 'fire': 2, 'killed': 2, 'resigns': 2, 'trent': 2, 'franks': 2, 'impregnate': 2, 'accused': 2, 'sexual': 2, 'female': 2, 'lobbyists': 2, 'julie': 2, 'florida': 2, 'election': 2, 'roy': 2, 'emailed': 2, 'hope': 2, 'hicks': 2, 'met': 2, 'offers': 2, 'credit': 2, 'getty': 2, 'images': 2, 'air': 2, 'worse': 2, 'critics': 2, 'jeffrey': 2, 'smarter': 2, 'notable': 2, 'songs': 2, 'jon': 2, 'perfect': 2, 'nyt': 2, 'gifts': 2, 'gift': 2, 'matters': 2, 'listening': 2, 'tax': 2, 'plan': 2, 'ron': 2, 'shut': 2, 'justices': 2, 'divided': 2, 'daca': 2, 'documents': 2, 'decision': 2, 'isis': 2, 'talk': 2, 'balthus': 2, 'culture': 2, 'issues': 2, 'monument': 2, 'deep': 2, 'cuomo': 2, 'calls': 2, 'hear': 2, 'daily': 2, 'technology': 2, 'claim': 2, 'criminal': 2, 'illinois': 2, 'art': 2, 'dealbook': 2, 'newsletter': 2, 'edition': 2, 'australia': 2, 'makes': 2, 'follow': 2, 'parties': 2, 'feel': 2, 'chill': 2, 'line': 2, 'festival': 2, 'own': 2, 'life': 2, 'candidate': 2, 'character': 2, 'doesn': 2, 'matter': 2, 'pervasive': 2, 'pernicious': 2, 'don': 2, 'children': 2, 'scare': 2, 'collins': 2, 'al': 2, 'franken': 2, 'net': 2, 'neutrality': 2, 'insider': 2, 'play': 2, 'rsquo': 2, 'puzzle': 2, 'watching': 2, 'neediest': 2, 'family': 2, 'loading': 2, 'explore': 2, 'inside': 2, 'music': 2, 'black': 2, 'claiming': 2, 'ease': 2, 'addiction': 2, 'scrutiny': 2, 'stars': 2, 'star': 2, 'wars': 2, 'protect': 2, 'love': 2, 'brooklyn': 2, 'football': 2, 'leading': 2, 'trilobites': 2, 'obituaries': 2, 'crisis': 2, 'favorite': 2, 'performers': 2, 'reading': 2, 'automobiles': 2, 'dinner': 2, 'sale': 2, 'index': 2, 'services': 2, 'information': 2, 'copy': 2, 'company': 2, 'contact': 2, 'features': 2, 'millions': 2, 'username': 2, 'password': 2, 'clicking': 2, 'agree': 2, 'occasionally': 2, 'send': 2, 'related': 2, 'happen': 2, 'browse': 2, 'discover': 2, 'favorites': 2, 'authentication': 2, 'status': 2, 'maintain': 2, 'access': 2, 'securely': 2, 'create': 2, 'largest': 2, 'customer': 2, 'kubernetes': 2, 'businesses': 2, 'tab': 2, 'window': 2, 'reload': 2, 'refresh': 2, 'session': 2, 'nytimes': 3, 'skip': 3, 'mobile': 3, 'people': 3, 'power': 3, 'jobs': 3, 'live': 3, 'major': 3, 'aide': 3, 'congress': 3, 'accusations': 3, 'harassment': 3, 'support': 3, 'russian': 3, 'emails': 3, 'government': 3, 'bad': 3, 'cloud': 3, 'living': 3, 'week': 3, 'christmas': 3, 'share': 3, 'activists': 3, 'democrats': 3, 'immigrants': 3, 'deal': 3, 'liberal': 3, 'party': 3, 'jerusalem': 3, 'national': 3, 'supplements': 3, 'opioid': 3, 'james': 3, 'levine': 3, 'charges': 3, 'crown': 3, 'policy': 3, 'marriage': 3, 'getting': 3, 'fashion': 3, 'moment': 3, 'scoundrel': 3, 'theory': 3, 'idea': 3, 'kids': 3, 'season': 3, 'stay': 3, 'process': 3, 'women': 3, 'night': 3, 'desk': 3, 'tweeting': 3, 'starts': 3, 'story': 3, 'television': 3, 'personal': 3, 'apps': 3, 'll': 3, 'southeast': 3, 'asia': 3, 'ride': 3, 'hailing': 3, 'waged': 3, 'motorbikes': 3, 'free': 3, 'op': 3, 'ed': 3, 'ho': 3, 'theater': 3, 'dies': 3, 'micro': 3, 'units': 3, 'lending': 3, 'library': 3, 'host': 3, 'events': 3, 'manage': 3, 'email': 3, 'development': 3, 'marketplace': 3, 'source': 3, 'alongside': 3, 'team': 3, 'project': 3, 'management': 3, 'using': 3, 'integrations': 3, 'signed': 3, 'worldwide': 3, 'com': 4, 'sections': 4, 'december': 4, 'science': 4, 'sports': 4, 'style': 4, 'food': 4, 'travel': 4, 'real': 4, 'estate': 4, 'top': 4, 'california': 4, 'days': 4, 'million': 4, 'moore': 4, 'india': 4, 'shield': 4, 'office': 4, 'service': 4, 'american': 4, 'crossword': 4, 'college': 4, 'war': 4, 'account': 4, 'platform': 4, 'projects': 4, 'hosting': 4, 'subscribe': 5, 'tech': 5, 'fires': 5, 'southern': 5, 'president': 5, 'holiday': 5, 'movies': 5, 'privacy': 5, 'subscriptions': 5, 'tools': 5, 'teams': 5, 'education': 5, 'terms': 5, 'software': 5, 'maintainer': 5, 'search': 6, 'politics': 6, 'health': 6, 'arts': 6, 'magazine': 6, 'guide': 6, 'bears': 6, 'ears': 6, 're': 6, 'books': 6, 'security': 6, 'community': 6, 'video': 7, 'comments': 7, 'city': 7, 'build': 7, 'help': 7, 'home': 7, 'world': 8, 'navigation': 8, 'developers': 8, 'news': 9, 'learn': 9, 'review': 9, 'sign': 9, 'site': 10, 'business': 10, 'opinion': 11, 'code': 11, 'york': 12, 'trump': 14, 'times': 15, 'github': 28}\n"
     ]
    },
    {
     "ename": "TypeError",
     "evalue": "iter() returned non-iterator of type 'dict_items'",
     "output_type": "error",
     "traceback": [
      "\u001b[1;31m---------------------------------------------------------------------------\u001b[0m",
      "\u001b[1;31mTypeError\u001b[0m                                 Traceback (most recent call last)",
      "\u001b[1;32m<ipython-input-63-ca138576d987>\u001b[0m in \u001b[0;36m<module>\u001b[1;34m()\u001b[0m\n\u001b[0;32m      2\u001b[0m \u001b[0mw4\u001b[0m\u001b[1;33m.\u001b[0m\u001b[0mgetWordsFrequency\u001b[0m\u001b[1;33m(\u001b[0m\u001b[1;33m)\u001b[0m\u001b[1;33m\u001b[0m\u001b[0m\n\u001b[0;32m      3\u001b[0m \u001b[0mw4\u001b[0m\u001b[1;33m.\u001b[0m\u001b[0mgetWordsFrequency\u001b[0m\u001b[1;33m(\u001b[0m\u001b[0mreverse\u001b[0m\u001b[1;33m=\u001b[0m\u001b[1;32mTrue\u001b[0m\u001b[1;33m)\u001b[0m\u001b[1;33m\u001b[0m\u001b[0m\n\u001b[1;32m----> 4\u001b[1;33m \u001b[1;32mfor\u001b[0m \u001b[0mi\u001b[0m \u001b[1;32min\u001b[0m \u001b[0mw4\u001b[0m\u001b[1;33m:\u001b[0m\u001b[1;33m\u001b[0m\u001b[0m\n\u001b[0m\u001b[0;32m      5\u001b[0m     \u001b[0mprint\u001b[0m\u001b[1;33m(\u001b[0m\u001b[0mi\u001b[0m\u001b[1;33m)\u001b[0m\u001b[1;33m\u001b[0m\u001b[0m\n",
      "\u001b[1;31mTypeError\u001b[0m: iter() returned non-iterator of type 'dict_items'"
     ]
    }
   ],
   "source": [
    "w4 = OrderedWebWordsFrequency('http://www.times.com', 'https://github.com')\n",
    "w4.getWordsFrequency()\n",
    "w4.getWordsFrequency(reverse=True)\n",
    "for i in w4:\n",
    "    print(i)"
   ]
  },
  {
   "cell_type": "code",
   "execution_count": null,
   "metadata": {
    "collapsed": true
   },
   "outputs": [],
   "source": []
  }
 ],
 "metadata": {
  "kernelspec": {
   "display_name": "Python 3",
   "language": "python",
   "name": "python3"
  },
  "language_info": {
   "codemirror_mode": {
    "name": "ipython",
    "version": 3
   },
   "file_extension": ".py",
   "mimetype": "text/x-python",
   "name": "python",
   "nbconvert_exporter": "python",
   "pygments_lexer": "ipython3",
   "version": "3.6.3"
  }
 },
 "nbformat": 4,
 "nbformat_minor": 2
}
