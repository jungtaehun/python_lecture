{
 "cells": [
  {
   "cell_type": "code",
   "execution_count": 1,
   "metadata": {},
   "outputs": [
    {
     "name": "stdout",
     "output_type": "stream",
     "text": [
      "test\n"
     ]
    }
   ],
   "source": [
    "print(\"test\")"
   ]
  },
  {
   "cell_type": "code",
   "execution_count": 1,
   "metadata": {
    "collapsed": true
   },
   "outputs": [],
   "source": [
    "class Counter:\n",
    "    def __init__(self, count, step = 1):\n",
    "        self.count = count\n",
    "        self.step = step\n",
    "    def __str__(self):\n",
    "        return \"[Count (step: %d)] %d\" % (self.step, self.count)\n",
    "    def incr(self):\n",
    "        self.count = self.count + self.step\n",
    "    def __call__(self):\n",
    "        self.incr()\n",
    "    def __add__(self, other):\n",
    "        self.count += other\n",
    "        return self\n",
    "    def __sub__(self, other):\n",
    "        self.count -= other\n",
    "        return self\n",
    "    def __lt__(self, other):\n",
    "        return self.count < other\n",
    "    def __ne__(self, other):\n",
    "        return self.count != other\n",
    "    def __gt__(self, other):\n",
    "        return self.count > other\n",
    "    def __eq__(self, other):\n",
    "        return self.count == other"
   ]
  },
  {
   "cell_type": "code",
   "execution_count": 2,
   "metadata": {},
   "outputs": [
    {
     "name": "stdout",
     "output_type": "stream",
     "text": [
      "[Count (step: 1)] 10\n",
      "[Count (step: 2)] 10\n",
      "[Count (step: 1)] 11\n",
      "[Count (step: 2)] 12\n",
      "[Count (step: 1)] 12\n",
      "[Count (step: 2)] 14\n",
      "[Count (step: 1)] 17\n",
      "[Count (step: 2)] 9\n",
      "True\n",
      "False\n",
      "False\n",
      "True\n",
      "True\n",
      "False\n"
     ]
    }
   ],
   "source": [
    "c = Counter(10)\n",
    "d = Counter(10, 2)\n",
    "print(c)\n",
    "print(d)\n",
    "c.incr()\n",
    "d.incr()\n",
    "print(c)\n",
    "print(d)\n",
    "c()\n",
    "d()\n",
    "print(c)\n",
    "print(d)\n",
    "c = c + 5\n",
    "d = d - 5\n",
    "print(c)\n",
    "print(d)\n",
    "print(c > 10)\n",
    "print(d > 10)\n",
    "print(c < 10)\n",
    "print(d < 10)\n",
    "print(c == 17)\n",
    "print(d != 9)"
   ]
  },
  {
   "cell_type": "code",
   "execution_count": 23,
   "metadata": {},
   "outputs": [],
   "source": [
    "class MySet(list):\n",
    "    def __init__(self, l):\n",
    "        for e in l:\n",
    "            self.append(e)\n",
    "        MySet.eliminate_duplicate(self)\n",
    "    \n",
    "    def __str__(self):\n",
    "        result = \"MySet: {\"\n",
    "        for e in self:\n",
    "            result = result + str(e) + \" ,\"\n",
    "        result = result[0:len(result)-2] + \"}\"\n",
    "        return result\n",
    "\n",
    "    @staticmethod    \n",
    "    def eliminate_duplicate(l):\n",
    "        s = []\n",
    "        for e in l:\n",
    "            if e not in s:\n",
    "                s.append(e)\n",
    "        l[:] = []\n",
    "        for e in s:\n",
    "            l.append(e)\n",
    "    def __or__(self, other):\n",
    "        self = self + other\n",
    "        MySet.eliminate_duplicate(self)\n",
    "        return MySet(self)\n",
    "    def __and__(self, other):\n",
    "        l = []\n",
    "        for i in other:\n",
    "            if i in self:\n",
    "                l.append(i)\n",
    "        return MySet(l)\n",
    "    def __sub__(self, other):\n",
    "        for i in other:\n",
    "            if i in self:\n",
    "                self.remove(i)\n",
    "        return MySet(self)"
   ]
  },
  {
   "cell_type": "code",
   "execution_count": 24,
   "metadata": {},
   "outputs": [
    {
     "name": "stdout",
     "output_type": "stream",
     "text": [
      "MySet: {1 ,2 ,3}\n",
      "MySet: {2 ,3 ,4 ,5 ,6 ,7 ,8 ,9}\n",
      "MySet: {1 ,2 ,3 ,4 ,5 ,6 ,7 ,8 ,9}\n",
      "MySet: {2 ,3}\n",
      "MySet: {1 ,2}\n"
     ]
    }
   ],
   "source": [
    "s = MySet([1, 2, 2, 3])\n",
    "print(s)\n",
    "t = MySet([2, 3, 4, 5, 6, 7, 8, 8, 8, 8, 8, 9])\n",
    "print(t)\n",
    "u = s | t\n",
    "print(u)\n",
    "u = s & t\n",
    "print(u)\n",
    "s = MySet([1, 2, 3]) \n",
    "t = MySet([3, 4, 5]) \n",
    "u = s - t\n",
    "print(u)"
   ]
  },
  {
   "cell_type": "code",
   "execution_count": 94,
   "metadata": {
    "scrolled": true
   },
   "outputs": [],
   "source": [
    "import string\n",
    "from urllib import request\n",
    "class WebWordsFrequency:\n",
    "    dic = {}\n",
    "    \n",
    "    def __init__(self, *urls):\n",
    "        for url in urls:\n",
    "            self.findWords(url)\n",
    "        \n",
    "    def addUrl(self, url):\n",
    "        self.findWords(url)\n",
    "        \n",
    "    def findWords(self, url):\n",
    "        stopword = []\n",
    "        with open('stopword.txt', 'r', encoding='utf8') as f:\n",
    "            for line in f:\n",
    "                if (line != \"\\n\"):\n",
    "                    stopword.append(line.strip())\n",
    "        stopword.append(\"nbsp\")\n",
    "        stopword.append(\"lt\")\n",
    "        stopword.append(\"gt\")\n",
    "        stopword.append(\"amp\")\n",
    "        stopword.append(\"quot\")\n",
    "        stopword.append(\"pm\")\n",
    "        stopword.append(\"et\")\n",
    "        stopword.append(\"est\")\n",
    "        stopword.append(\"raquo\")\n",
    "        \n",
    "        total_word = 0\n",
    "        words = []\n",
    "        javascript_check = False\n",
    "        css_check = False\n",
    "\n",
    "        source_bytes = request.urlopen(url).read()\n",
    "        source = source_bytes.decode('utf-8')\n",
    "\n",
    "        for i in source.split(\"<\"):\n",
    "            m = i.split(\">\")\n",
    "\n",
    "            if len(m) > 1:\n",
    "                check = m[0].split()\n",
    "                if len(check) > 0:\n",
    "                            # if('script' in m[0] and m[0].find(\"description\") == -1 and m[0].find(\"subscription\") == -1 and m[0].find(\"transcript\") == -1 and m[0].find(\" javascript:void();\") == -1): javascript_check = True\n",
    "                    if ('script' == check[0]): javascript_check = True\n",
    "                    if ('/script' in m[0]): javascript_check = False\n",
    "                            # if(m[0].find('style') != -1 and m[0].find('style=') == -1 and m[0].find('stylesheet') == -1and m[0].find('Lifestyle') == -1): css_check = True\n",
    "                    if ('style' == check[0]): css_check = True\n",
    "                    if ('/style' in m[0]): css_check = False\n",
    "                    m = m[1].strip().lower()\n",
    "                    if (m != \"\" and not javascript_check and not css_check):\n",
    "                        rep = [\"//\", \"--\", '\\'', '$', '©', '&', '%', '\"', '^', 'ⓒ', '·', '…', '—', '~', '–', '»', '!',\n",
    "                                       '”', '㈜', '-', '/', ':', '(', ')', '[', ']', '_', '“', '‘', '’', '.', ',']\n",
    "                        rep = rep + list(string.punctuation)\n",
    "                        rep = list(set(rep))\n",
    "                        for r in rep:\n",
    "                            m = m.replace(r, ' ')\n",
    "                        m = m.split()\n",
    "                                # print(m)\n",
    "                        for n in m:\n",
    "                            if (n != ''):\n",
    "                                if (n.isdigit()):\n",
    "                                    continue\n",
    "                                else:\n",
    "                                    if (n not in stopword):\n",
    "                                        total_word += 1\n",
    "                                        words.append(n.strip())\n",
    "        self.dic[url] = words\n",
    "        \n",
    "    def __str__(self):\n",
    "        return str(self.dic)\n",
    "    \n",
    "    def removeUrl(self, url):\n",
    "        del self.dic[url]\n",
    "        \n",
    "    def listUrls(self):\n",
    "        print(\"\\n\".join(self.dic.keys()))\n",
    "    \n",
    "    def getWordsFrequency(self):\n",
    "        t = {}\n",
    "        l = []\n",
    "        for i in list(self.dic.values()):\n",
    "            l = l + i\n",
    "        for i in l:\n",
    "            if (i not in t.keys()):\n",
    "                t[i] = 1\n",
    "            else:\n",
    "                t[i] = t[i] + 1\n",
    "        print(t)\n",
    "        return t\n",
    "    \n",
    "    # 조금 더 자세히\n",
    "    def getMaxFreqencyWords(self):\n",
    "        t = self.getWordsFrequency()\n",
    "        if(t != {}):\n",
    "            print(max(t.items(), key= lambda d: d[1])[0])\n",
    "            \n",
    "    def searchUrlByWord(self, s):\n",
    "        l = []\n",
    "        for i in self.dic.items():\n",
    "            l.append((i[0],i[1].count(s)))\n",
    "        print(max(l, key= lambda d: d[1])[0])\n",
    "        "
   ]
  },
  {
   "cell_type": "code",
   "execution_count": 95,
   "metadata": {},
   "outputs": [],
   "source": [
    "w1 = WebWordsFrequency('http://www.github.com', 'http://www.times.com') "
   ]
  },
  {
   "cell_type": "code",
   "execution_count": 96,
   "metadata": {},
   "outputs": [
    {
     "name": "stdout",
     "output_type": "stream",
     "text": [
      "{'world': 7, 'leading': 2, 'software': 5, 'development': 3, 'platform': 4, 'github': 28, 'skip': 3, 'content': 2, 'features': 2, 'business': 9, 'explore': 2, 'marketplace': 3, 'pricing': 1, 'dashboard': 1, 'sign': 8, 'built': 1, 'developers': 8, 'inspired': 1, 'source': 3, 'host': 3, 'review': 16, 'code': 11, 'manage': 3, 'projects': 4, 'build': 7, 'alongside': 3, 'millions': 2, 'username': 2, 'email': 3, 'password': 2, 'letter': 1, 'numeral': 1, 'seven': 1, 'characters': 1, 'clicking': 2, 'agree': 2, 'terms': 5, 'service': 3, 'privacy': 4, 'policy': 3, 'll': 2, 'occasionally': 2, 'send': 2, 'account': 4, 'related': 2, 'emails': 2, 'teams': 4, 'brings': 1, 'move': 1, 'ideas': 1, 'forward': 1, 'learn': 11, 'team': 3, 'write': 1, 'collaboration': 1, 'makes': 2, 'perfect': 1, 'conversations': 1, 'reviews': 1, 'happen': 2, 'pull': 1, 'requests': 1, 'help': 8, 'share': 2, 'weight': 1, 'improve': 1, 'chaos': 1, 'deep': 2, 'breath': 1, 'project': 4, 'management': 3, 'happens': 1, 'issues': 2, 'mention': 1, 'teammate': 1, 'involved': 1, 'tools': 5, 'browse': 2, 'buy': 1, 'apps': 3, 'discover': 2, 'favorites': 2, 'start': 1, 'using': 3, 'minutes': 1, 'integrations': 3, 'security': 7, 'administration': 1, 'boxes': 1, 'check': 1, 'worry': 1, 'administrative': 1, 'don': 2, 'flexible': 1, 'hosting': 4, 'authentication': 2, 'options': 1, 'meet': 1, 'requirements': 1, 'prevent': 1, 'protected': 1, 'branches': 1, 'signed': 3, 'commits': 1, 'required': 1, 'status': 2, 'checks': 1, 'protect': 2, 'maintain': 2, 'standard': 1, 'access': 2, 'controlled': 1, 'encourage': 1, 'limiting': 2, 'granular': 1, 'permissions': 1, 'saml': 1, 'sso': 1, 'ldap': 1, '1clr': 1, 'hosted': 1, 'securely': 2, 'reliably': 1, 'com': 4, 'deploy': 1, 'enterprise': 1, 'own': 2, 'servers': 1, 'private': 1, 'cloud': 2, 'amazon': 1, 'web': 1, 'services': 2, 'azure': 1, 'google': 1, 'compare': 1, 'plans': 1, 'customize': 1, 'process': 3, 'intuitive': 1, 'api': 1, 'integrate': 1, 'create': 2, 'happier': 1, 'efficient': 1, 'sometimes': 1, 'tool': 1, 'job': 2, 'try': 1, 'community': 6, 'welcome': 1, 'home': 10, 'largest': 2, 'ariya': 1, 'hidayat': 1, 'phantomjs': 1, 'maintainer': 5, 'russell': 1, 'keith': 1, 'magee': 1, 'pybee': 1, 'mailchimp': 1, 'marketing': 1, 'customer': 2, 'kris': 1, 'nova': 1, 'kubernetes': 2, 'kops': 1, 'evan': 1, 'vue': 1, 'mapbox': 1, 'jess': 1, 'frazelle': 1, 'previously': 1, 'docker': 1, 're': 5, 'commit': 1, 'sending': 1, 'rover': 1, 'mars': 1, '73m': 1, 'repositories': 1, 'worldwide': 3, 'users': 1, 'influential': 1, 'technologies': 1, '26m': 1, 'personal': 3, 'experimenting': 1, 'programming': 1, 'languages': 1, 'life': 2, '117k': 1, 'businesses': 2, 'sizes': 1, 'support': 2, 'million': 1, 'started': 2, 'free': 2, 'mdash': 1, 'join': 1, 'amazing': 1, 'copy': 3, 'documentation': 1, 'atom': 1, 'electron': 1, 'desktop': 1, 'education': 5, 'customers': 1, 'partners': 1, 'sponsorships': 1, 'company': 2, 'blog': 1, 'careers': 1, 'press': 1, 'shop': 1, 'resources': 2, 'contact': 2, 'forum': 1, 'training': 1, 'perform': 1, 'action': 1, 'time': 2, 'tab': 2, 'window': 2, 'reload': 2, 'refresh': 2, 'session': 2, 'york': 16, 'times': 17, 'breaking': 2, 'news': 13, 'multimedia': 2, 'nytimes': 3, 'supports': 1, 'internet': 1, 'explorer': 1, 'earlier': 1, 'please': 2, 'upgrade': 1, 'browser': 1, 'sections': 4, 'search': 6, 'navigation': 8, 'subscribe': 5, 'log': 1, 'settings': 1, 'english': 1, '中文': 1, 'chinese': 2, 'español': 1, 'friday': 2, 'december': 1, 'paper': 2, 'video': 8, 'quick': 1, 'site': 10, 'politics': 6, 'opinion': 9, 'tech': 6, 'science': 4, 'health': 6, 'sports': 4, 'arts': 6, 'style': 5, 'food': 5, 'travel': 5, 'magazine': 6, 'real': 5, 'estate': 4, 'close': 1, 'text': 1, 'input': 1, 'mobile': 3, 'top': 3, 'official': 3, 'toll': 2, 'puerto': 1, 'rico': 1, 'actual': 1, 'deaths': 1, 'frances': 1, 'robles': 1, 'kenan': 1, 'davis': 1, 'sheri': 1, 'fink': 1, 'sarah': 1, 'almukhtar': 1, 'suggests': 1, 'death': 2, 'island': 1, 'hurricane': 1, 'maria': 1, 'gross': 1, 'underestimation': 1, 'people': 2, 'died': 2, 'weeks': 3, 'storm': 1, 'recovery': 2, 'dragged': 1, 'hospitals': 1, 'struggled': 2, 'clinics': 1, 'remained': 1, 'power': 2, 'jobs': 3, 'strong': 2, 'economy': 2, 'ben': 3, 'casselman': 1, 'am': 7, 'labor': 1, 'department': 1, 'released': 1, 'hiring': 1, 'unemployment': 1, 'figures': 1, 'november': 1, 'reporting': 1, 'added': 1, 'comments': 13, 'live': 2, 'briefing': 1, 'dangerous': 1, 'period': 1, 'fast': 2, 'moving': 2, 'fires': 5, 'menace': 1, 'california': 5, 'continued': 2, 'ravage': 1, 'southern': 2, 'flames': 1, 'scorched': 1, 'acres': 1, 'counties': 1, 'laffin': 1, 'smoke': 2, 'traffic': 2, 'reporters': 2, 'los': 2, 'angeles': 2, 'franken': 11, 'emotional': 1, 'defiant': 1, 'quitting': 1, 'senate': 2, 'sheryl': 1, 'gay': 2, 'stolberg': 1, 'yamiche': 1, 'alcindor': 1, 'nicholas': 1, 'fandos': 1, 'referring': 2, 'irony': 1, 'involving': 1, 'accusations': 3, 'prominent': 1, 'republicans': 1, 'senator': 2, 'al': 8, 'leave': 1, 'coming': 1, 'six': 2, 'women': 4, 'accused': 2, 'groping': 1, 'improper': 1, 'advances': 2, 'rise': 2, 'fall': 3, 'robin': 1, 'lindsay': 1, 'washington': 3, 'stern': 1, 'line': 3, 'democrats': 2, 'left': 3, 'react': 2, 'decision': 2, 'analysis': 2, 'trump': 17, 'kill': 2, 'solution': 2, 'palestinians': 2, 'yes': 2, 'mark': 1, 'landler': 1, 'david': 2, 'halbfinger': 1, 'isabel': 1, 'kershner': 1, 'chief': 2, 'palestinian': 1, 'negotiator': 1, 'recognition': 1, 'jerusalem': 3, 'israel': 2, 'capital': 1, 'means': 1, 'radical': 1, 'shift': 1, 'push': 1, 'single': 1, 'equal': 1, 'civil': 1, 'rights': 1, 'tensions': 1, 'beyond': 2, 'quds': 1, 'mean': 1, 'daily': 4, 'machu': 1, 'picchu': 1, 'justin': 1, 'setterfield': 1, 'getty': 1, 'images': 1, 'technology': 2, 'samsung': 1, 'confidential': 1, 'tip': 1, 'offers': 2, 'touch': 1, 'provide': 2, 'materials': 1, 'journalists': 1, 'falmata': 1, 'abducted': 1, 'raped': 2, 'repeatedly': 1, 'boko': 3, 'haram': 3, 'fighters': 1, 'trauma': 1, 'camp': 1, 'victims': 1, 'war': 7, 'credit': 1, 'adam': 2, 'ferguson': 1, 'endless': 1, 'rape': 1, 'refuge': 1, 'terror': 1, 'dionne': 1, 'searcey': 1, 'thousands': 1, 'girls': 1, 'endured': 1, 'sexual': 2, 'violence': 1, 'nigerian': 1, 'forces': 2, 'preyed': 1, 'assigned': 1, 'audio': 2, 'listen': 1, 'democrat': 1, 'reluctantly': 1, 'announced': 2, 'resign': 2, 'tell': 1, 'party': 3, 'follow': 2, 'apple': 1, 'podcasts': 1, 'radio': 1, 'public': 3, 'stitcher': 1, 'guiding': 1, 'crisis': 3, 'nagourney': 1, 'mayor': 1, 'eric': 1, 'garcetti': 1, 'responds': 1, 'wildfires': 1, 'supertankers': 1, 'bay': 1, 'firefighters': 1, 'xavier': 1, 'becerra': 1, 'smarter': 2, 'living': 4, 'choose': 1, 'kids': 3, 'tara': 1, 'haelle': 1, 'educational': 1, 'field': 1, 'parents': 2, 'lost': 2, 'install': 1, 'editors': 3, 'choice': 1, 'books': 5, 'recommend': 1, 'week': 3, 'suggested': 1, 'reading': 2, 'critics': 2, 'gifts': 1, 'categories': 1, 'holiday': 2, 'gift': 2, 'guide': 6, 'journalism': 1, 'matters': 2, 'essential': 1, 'phone': 1, 'call': 1, 'harvey': 2, 'weinstein': 3, 'ears': 4, 'eyes': 1, 'complicity': 1, 'machine': 1, 'producer': 1, 'relied': 1, 'powerful': 1, 'relationships': 1, 'industries': 1, 'cover': 1, 'misconduct': 1, 'piled': 1, 'decades': 1, 'megan': 1, 'twohey': 1, 'jodi': 1, 'kantor': 1, 'susan': 1, 'dominus': 1, 'jim': 1, 'rutenberg': 1, 'steve': 3, 'eder': 1, 'faking': 1, 'fan': 1, 'kenneth': 1, 'vogel': 1, 'james': 1, 'keefe': 1, 'nonprofit': 1, 'veritas': 1, 'respect': 1, 'media': 1, 'acceptance': 1, 'mainstream': 1, 'ally': 1, 'oval': 1, 'office': 2, 'buddies': 1, 'tax': 3, 'bill': 4, 'shane': 1, 'goldmacher': 1, 'maggie': 1, 'haberman': 1, 'kate': 1, 'kelly': 1, 'republican': 3, 'shepherded': 1, 'hurt': 1, 'guys': 2, 'doing': 1, 'told': 1, 'donors': 1, 'translation': 1, 'pope': 1, 'update': 1, 'lord': 1, 'prayer': 1, 'elisabetta': 1, 'povoledo': 1, 'alan': 1, 'cowell': 1, 'lead': 2, 'temptation': 2, 'francis': 1, 'precise': 1, 'holocaust': 1, 'survivor': 1, 'american': 4, 'journey': 1, 'keren': 1, 'blankfeld': 1, 'remarkable': 1, 'tale': 1, 'girl': 1, 'auschwitz': 1, 'soldier': 1, 'occupied': 1, 'berlin': 1, 'bears': 3, 'national': 2, 'monument': 2, 'shrinking': 1, 'cut': 1, 'nadja': 1, 'popovich': 1, 'president': 1, 'cuts': 1, 'vast': 1, 'remote': 1, 'stretch': 1, 'red': 1, 'rock': 1, 'canyons': 1, 'boundaries': 1, 'changed': 1, 'hate': 2, 'crowds': 2, 'brooklyn': 2, 'bridge': 3, 'winnie': 1, 'hu': 1, 'city': 2, 'officials': 2, 'taking': 1, 'steps': 1, 'reduce': 1, 'congestion': 1, 'possibly': 1, 'creating': 1, 'separate': 1, 'bike': 1, 'entrance': 1, 'vendors': 1, 'promenade': 1, 'fargo': 1, 'fines': 1, 'reduced': 1, 'polish': 1, 'parliament': 2, 'reshapes': 1, 'courts': 1, 'drawing': 1, 'criticism': 1, 'brexit': 2, 'talks': 2, 'breakthrough': 1, 'months': 1, 'deadlock': 1, 'japan': 1, 'reach': 1, 'trade': 2, 'agreement': 1, 'fix': 1, 'passes': 1, 'postpone': 1, 'government': 1, 'shutdown': 1, 'dealbook': 2, 'newsletter': 2, 'columnist': 1, 'andrew': 1, 'ross': 1, 'sorkin': 1, 'colleagues': 1, 'sense': 1, 'major': 2, 'headlines': 1, 'brokers': 1, 'shape': 1, 'edition': 2, 'sendok': 1, 'garpu': 1, 'serves': 1, 'indonesian': 1, 'cuisine': 1, 'outside': 1, 'brisbane': 1, 'restaurant': 1, 'indooroopilly': 1, 'specialties': 1, 'indonesia': 1, 'australia': 3, 'sex': 1, 'marriage': 4, 'legal': 1, 'referendum': 1, 'voted': 1, 'overwhelmingly': 1, 'china': 2, 'scolds': 1, 'fears': 1, 'foreign': 1, 'influence': 1, 'embassy': 1, 'australian': 2, 'damaging': 1, 'mutual': 1, 'trust': 1, 'day': 2, 'laws': 1, 'proposed': 1, 'curb': 1, 'interference': 1, 'countries': 1, 'weddings': 2, 'rabbis': 1, 'cupcakes': 1, 'couples': 1, 'denied': 1, 'various': 1, 'reasons': 1, 'wed': 1, 'festive': 1, 'ceremony': 1, 'road': 2, 'aftermath': 1, 'son': 2, 'sad': 1, 'proud': 1, 'empty': 1, 'family': 2, 'tried': 1, 'ourselves': 1, 'language': 1, 'rules': 1, 'digital': 2, 'age': 1, 'buzzfeed': 1, 'recounts': 1, 'mission': 1, 'set': 1, 'grammar': 1, 'codes': 1, 'rule': 1, 'generation': 1, 'save': 2, 'care': 2, 'horrified': 1, 'governors': 1, 'congress': 3, 'chip': 1, 'children': 3, 'insurance': 1, 'program': 1, 'krugman': 3, 'editorial': 2, 'brooks': 2, 'rotting': 2, 'cohen': 1, 'peace': 1, 'destroy': 1, 'goldberg': 1, 'leaving': 1, 'liberal': 1, 'bias': 1, 'bannon': 2, 'realign': 2, 'roy': 2, 'moore': 2, 'survives': 1, 'quin': 1, 'hillyer': 1, 'noticeable': 1, 'backlash': 1, 'hyper': 1, 'energized': 1, 'candidate': 1, 'volunteers': 1, 'alabamians': 1, 'donald': 1, 'accidental': 1, 'buddhist': 1, 'dolnick': 1, 'strange': 1, 'wisdom': 1, 'yourself': 1, 'third': 1, 'person': 1, 'egan': 1, 'trumpocalypse': 1, 'doctors': 2, 'ignore': 2, 'pakistan': 1, 'yoga': 1, 'rises': 1, 'indian': 1, 'origins': 1, 'user': 1, 'subscriptions': 5, 'night': 5, 'desk': 3, 'tweeting': 3, 'starts': 3, 'journalist': 2, 'wrestles': 2, 'candor': 2, 'egyptian': 2, 'woman': 2, 'insider': 2, 'crossword': 4, 'play': 2, 'rsquo': 2, 'puzzle': 2, 'wordplay': 1, 'watching': 1, 'neediest': 2, 'juggling': 1, 'managing': 1, 'class': 1, 'addition': 1, 'attending': 1, 'college': 5, 'caring': 1, 'father': 1, 'darius': 1, 'cummings': 1, 'bouncing': 1, 'florida': 1, 'handle': 1, 'estates': 1, 'mother': 1, 'uncle': 1, '106th': 1, 'fund': 1, 'provided': 1, 'direct': 1, 'assistance': 1, 'struggling': 1, 'donate': 1, 'advertisers': 1, 'loading': 2, 'videos': 1, 'player': 1, 'inside': 2, 'previous': 1, 'story': 2, 'television': 4, 'late': 1, 'sunday': 3, 'invincible': 1, 'autocrat': 1, 'travelers': 1, 'pack': 1, 'hygge': 1, 'winter': 2, 'shifting': 2, 'political': 2, 'duck': 1, 'dinosaur': 1, 'swim': 1, 'crown': 3, 'season': 3, 'skin': 1, 'tips': 1, 'obituaries': 3, 'william': 2, 'gass': 2, 'acclaimed': 2, 'author': 2, 'dies': 3, 'realignments': 1, 'born': 1, 'unlikely': 1, 'candidates': 1, 'adopted': 1, 'black': 2, 'baby': 2, 'replaced': 1, 'white': 2, 'fled': 1, 'nigeria': 1, 'britain': 1, 'proceed': 1, 'growth': 1, 'signals': 1, 'robust': 1, 'gain': 1, 'bitcoin': 2, 'price': 2, 'soared': 2, 'comes': 2, 'money': 1, 'adviser': 1, 'helping': 1, 'buyers': 1, 'paul': 1, 'updates': 1, 'declares': 1, 'emergency': 1, 'blazes': 1, 'spread': 1, 'southeast': 2, 'asia': 2, 'ride': 2, 'hailing': 2, 'waged': 2, 'motorbikes': 2, 'opposition': 1, 'net': 1, 'neutrality': 1, 'repeal': 1, 'stars': 2, 'star': 2, 'wars': 2, 'art': 3, 'basel': 1, 'miami': 1, 'beach': 1, 'post': 1, 'irma': 1, 'swinging': 1, 'haywire': 1, 'hospitality': 1, 'amy': 1, 'sedaris': 1, 'congressional': 1, 'house': 2, 'hanukkah': 1, 'improbable': 1, 'sudden': 1, 'fashion': 2, 'modern': 1, 'love': 2, 'tiles': 1, 'mine': 1, 'ho': 3, 'parties': 1, 'feel': 1, 'chill': 1, 'vows': 1, 'military': 1, 'couple': 1, 'apart': 1, 'movies': 4, 'tonya': 1, 'punching': 1, 'bag': 1, 'punch': 1, 'bela': 1, 'forgotten': 1, 'orphan': 1, 'fewer': 1, 'vs': 1, 'hometown': 1, 'football': 1, 'army': 1, 'running': 1, 'game': 1, 'nearly': 1, 'walked': 1, 'exactly': 1, 'heisman': 1, 'trophy': 1, 'jahlil': 1, 'okafor': 1, 'headed': 1, 'nets': 1, '76ers': 1, 'theater': 3, 'dreaming': 1, 'magical': 1, 'underwear': 1, 'russians': 1, 'fake': 1, 'describe': 1, 'trilobites': 2, 'tracking': 1, 'dolphins': 1, 'algorithms': 1, 'facebook': 1, 'learned': 1, 'actually': 1, 'sausage': 1, 'perry': 1, 'wallace': 1, 'basketball': 1, 'pioneer': 1, 'dead': 1, 'steinkraus': 1, 'equestrian': 1, 'olympic': 1, 'history': 2, 'postmodern': 1, 'takes': 1, 'queen': 1, 'look': 1, 'transparent': 1, 'jeffrey': 1, 'tambor': 1, 'burst': 1, 'idealistic': 1, 'bubble': 1, 'birth': 1, 'control': 1, 'pills': 1, 'linked': 1, 'breast': 1, 'cancer': 1, 'study': 1, 'sifting': 1, 'suicide': 1, 'worried': 1, 'arsenic': 1, 'favorite': 2, 'reads': 1, 'getaway': 1, 'skiers': 1, 'uphill': 1, 'trending': 2, 'leisure': 1, 'eye': 1, 'giving': 1, 'final': 1, 'fiction': 1, 'sam': 1, 'shepard': 1, 'chases': 1, 'familiar': 1, 'themes': 1, 'paris': 1, 'editor': 1, 'resigns': 1, 'amid': 1, 'inquiry': 1, 'conduct': 1, 'colleges': 1, 'applicant': 1, 'getting': 2, 'dream': 1, 'myths': 1, 'choosing': 1, 'hungry': 1, 'cheap': 1, 'eats': 1, 'global': 1, 'flavors': 1, 'united': 1, 'appetite': 1, 'pamper': 1, 'guests': 1, 'gougères': 1, 'gingerbread': 1, 'performers': 3, 'actors': 1, 'series': 1, 'short': 1, 'frightening': 1, 'films': 1, 'notebook': 1, 'horror': 1, 'fright': 1, 'club': 1, 'prewar': 1, 'twist': 1, 'christmas': 1, 'lights': 1, 'hunt': 1, 'williamsburg': 1, 'upshot': 1, 'doctor': 1, 'hard': 1, 'harder': 1, 'happened': 1, 'boomtown': 1, 'effective': 1, 'school': 1, 'district': 1, 'measure': 1, 'students': 1, 'automobiles': 2, 'ford': 1, 'electric': 1, 'cars': 1, 'mexico': 1, 'plan': 1, 'industry': 1, 'dinner': 1, 'jay': 1, 'discusses': 1, 'rap': 1, 'america': 1, 'clothing': 1, 'simplifies': 1, 'dressed': 1, 'bridges': 1, 'quiet': 1, 'edge': 1, 'change': 1, 'hughes': 1, 'neighborhood': 1, 'housing': 1, 'luxury': 1, 'towers': 1, 'pleased': 1, 'homes': 1, 'sale': 2, 'rent': 1, 'mortgage': 1, 'calculator': 1, 'emailed': 1, 'viewed': 1, 'recommended': 1, 'page': 1, 'index': 2, 'corrections': 1, 'op': 2, 'ed': 2, 'columnists': 1, 'editorials': 1, 'contributors': 1, 'letters': 1, 'design': 1, 'dance': 1, 'music': 1, 'events': 3, 'celebrations': 1, 'listings': 1, 'reader': 1, 'center': 1, 'classifieds': 1, 'photography': 1, 'nyt': 1, 'store': 1, 'journeys': 1, 'nytco': 1, 'delivery': 1, 'newsletters': 1, 'alerts': 1, 'rate': 1, 'applications': 1, 'replica': 1, 'information': 2, 'advertise': 1, 'ad': 1, 'choices': 1, 'map': 1, 'feedback': 1, 'view': 1, 'version': 1}\n",
      "{'world': 7, 'leading': 2, 'software': 5, 'development': 3, 'platform': 4, 'github': 28, 'skip': 3, 'content': 2, 'features': 2, 'business': 9, 'explore': 2, 'marketplace': 3, 'pricing': 1, 'dashboard': 1, 'sign': 8, 'built': 1, 'developers': 8, 'inspired': 1, 'source': 3, 'host': 3, 'review': 16, 'code': 11, 'manage': 3, 'projects': 4, 'build': 7, 'alongside': 3, 'millions': 2, 'username': 2, 'email': 3, 'password': 2, 'letter': 1, 'numeral': 1, 'seven': 1, 'characters': 1, 'clicking': 2, 'agree': 2, 'terms': 5, 'service': 3, 'privacy': 4, 'policy': 3, 'll': 2, 'occasionally': 2, 'send': 2, 'account': 4, 'related': 2, 'emails': 2, 'teams': 4, 'brings': 1, 'move': 1, 'ideas': 1, 'forward': 1, 'learn': 11, 'team': 3, 'write': 1, 'collaboration': 1, 'makes': 2, 'perfect': 1, 'conversations': 1, 'reviews': 1, 'happen': 2, 'pull': 1, 'requests': 1, 'help': 8, 'share': 2, 'weight': 1, 'improve': 1, 'chaos': 1, 'deep': 2, 'breath': 1, 'project': 4, 'management': 3, 'happens': 1, 'issues': 2, 'mention': 1, 'teammate': 1, 'involved': 1, 'tools': 5, 'browse': 2, 'buy': 1, 'apps': 3, 'discover': 2, 'favorites': 2, 'start': 1, 'using': 3, 'minutes': 1, 'integrations': 3, 'security': 7, 'administration': 1, 'boxes': 1, 'check': 1, 'worry': 1, 'administrative': 1, 'don': 2, 'flexible': 1, 'hosting': 4, 'authentication': 2, 'options': 1, 'meet': 1, 'requirements': 1, 'prevent': 1, 'protected': 1, 'branches': 1, 'signed': 3, 'commits': 1, 'required': 1, 'status': 2, 'checks': 1, 'protect': 2, 'maintain': 2, 'standard': 1, 'access': 2, 'controlled': 1, 'encourage': 1, 'limiting': 2, 'granular': 1, 'permissions': 1, 'saml': 1, 'sso': 1, 'ldap': 1, '1clr': 1, 'hosted': 1, 'securely': 2, 'reliably': 1, 'com': 4, 'deploy': 1, 'enterprise': 1, 'own': 2, 'servers': 1, 'private': 1, 'cloud': 2, 'amazon': 1, 'web': 1, 'services': 2, 'azure': 1, 'google': 1, 'compare': 1, 'plans': 1, 'customize': 1, 'process': 3, 'intuitive': 1, 'api': 1, 'integrate': 1, 'create': 2, 'happier': 1, 'efficient': 1, 'sometimes': 1, 'tool': 1, 'job': 2, 'try': 1, 'community': 6, 'welcome': 1, 'home': 10, 'largest': 2, 'ariya': 1, 'hidayat': 1, 'phantomjs': 1, 'maintainer': 5, 'russell': 1, 'keith': 1, 'magee': 1, 'pybee': 1, 'mailchimp': 1, 'marketing': 1, 'customer': 2, 'kris': 1, 'nova': 1, 'kubernetes': 2, 'kops': 1, 'evan': 1, 'vue': 1, 'mapbox': 1, 'jess': 1, 'frazelle': 1, 'previously': 1, 'docker': 1, 're': 5, 'commit': 1, 'sending': 1, 'rover': 1, 'mars': 1, '73m': 1, 'repositories': 1, 'worldwide': 3, 'users': 1, 'influential': 1, 'technologies': 1, '26m': 1, 'personal': 3, 'experimenting': 1, 'programming': 1, 'languages': 1, 'life': 2, '117k': 1, 'businesses': 2, 'sizes': 1, 'support': 2, 'million': 1, 'started': 2, 'free': 2, 'mdash': 1, 'join': 1, 'amazing': 1, 'copy': 3, 'documentation': 1, 'atom': 1, 'electron': 1, 'desktop': 1, 'education': 5, 'customers': 1, 'partners': 1, 'sponsorships': 1, 'company': 2, 'blog': 1, 'careers': 1, 'press': 1, 'shop': 1, 'resources': 2, 'contact': 2, 'forum': 1, 'training': 1, 'perform': 1, 'action': 1, 'time': 2, 'tab': 2, 'window': 2, 'reload': 2, 'refresh': 2, 'session': 2, 'york': 16, 'times': 17, 'breaking': 2, 'news': 13, 'multimedia': 2, 'nytimes': 3, 'supports': 1, 'internet': 1, 'explorer': 1, 'earlier': 1, 'please': 2, 'upgrade': 1, 'browser': 1, 'sections': 4, 'search': 6, 'navigation': 8, 'subscribe': 5, 'log': 1, 'settings': 1, 'english': 1, '中文': 1, 'chinese': 2, 'español': 1, 'friday': 2, 'december': 1, 'paper': 2, 'video': 8, 'quick': 1, 'site': 10, 'politics': 6, 'opinion': 9, 'tech': 6, 'science': 4, 'health': 6, 'sports': 4, 'arts': 6, 'style': 5, 'food': 5, 'travel': 5, 'magazine': 6, 'real': 5, 'estate': 4, 'close': 1, 'text': 1, 'input': 1, 'mobile': 3, 'top': 3, 'official': 3, 'toll': 2, 'puerto': 1, 'rico': 1, 'actual': 1, 'deaths': 1, 'frances': 1, 'robles': 1, 'kenan': 1, 'davis': 1, 'sheri': 1, 'fink': 1, 'sarah': 1, 'almukhtar': 1, 'suggests': 1, 'death': 2, 'island': 1, 'hurricane': 1, 'maria': 1, 'gross': 1, 'underestimation': 1, 'people': 2, 'died': 2, 'weeks': 3, 'storm': 1, 'recovery': 2, 'dragged': 1, 'hospitals': 1, 'struggled': 2, 'clinics': 1, 'remained': 1, 'power': 2, 'jobs': 3, 'strong': 2, 'economy': 2, 'ben': 3, 'casselman': 1, 'am': 7, 'labor': 1, 'department': 1, 'released': 1, 'hiring': 1, 'unemployment': 1, 'figures': 1, 'november': 1, 'reporting': 1, 'added': 1, 'comments': 13, 'live': 2, 'briefing': 1, 'dangerous': 1, 'period': 1, 'fast': 2, 'moving': 2, 'fires': 5, 'menace': 1, 'california': 5, 'continued': 2, 'ravage': 1, 'southern': 2, 'flames': 1, 'scorched': 1, 'acres': 1, 'counties': 1, 'laffin': 1, 'smoke': 2, 'traffic': 2, 'reporters': 2, 'los': 2, 'angeles': 2, 'franken': 11, 'emotional': 1, 'defiant': 1, 'quitting': 1, 'senate': 2, 'sheryl': 1, 'gay': 2, 'stolberg': 1, 'yamiche': 1, 'alcindor': 1, 'nicholas': 1, 'fandos': 1, 'referring': 2, 'irony': 1, 'involving': 1, 'accusations': 3, 'prominent': 1, 'republicans': 1, 'senator': 2, 'al': 8, 'leave': 1, 'coming': 1, 'six': 2, 'women': 4, 'accused': 2, 'groping': 1, 'improper': 1, 'advances': 2, 'rise': 2, 'fall': 3, 'robin': 1, 'lindsay': 1, 'washington': 3, 'stern': 1, 'line': 3, 'democrats': 2, 'left': 3, 'react': 2, 'decision': 2, 'analysis': 2, 'trump': 17, 'kill': 2, 'solution': 2, 'palestinians': 2, 'yes': 2, 'mark': 1, 'landler': 1, 'david': 2, 'halbfinger': 1, 'isabel': 1, 'kershner': 1, 'chief': 2, 'palestinian': 1, 'negotiator': 1, 'recognition': 1, 'jerusalem': 3, 'israel': 2, 'capital': 1, 'means': 1, 'radical': 1, 'shift': 1, 'push': 1, 'single': 1, 'equal': 1, 'civil': 1, 'rights': 1, 'tensions': 1, 'beyond': 2, 'quds': 1, 'mean': 1, 'daily': 4, 'machu': 1, 'picchu': 1, 'justin': 1, 'setterfield': 1, 'getty': 1, 'images': 1, 'technology': 2, 'samsung': 1, 'confidential': 1, 'tip': 1, 'offers': 2, 'touch': 1, 'provide': 2, 'materials': 1, 'journalists': 1, 'falmata': 1, 'abducted': 1, 'raped': 2, 'repeatedly': 1, 'boko': 3, 'haram': 3, 'fighters': 1, 'trauma': 1, 'camp': 1, 'victims': 1, 'war': 7, 'credit': 1, 'adam': 2, 'ferguson': 1, 'endless': 1, 'rape': 1, 'refuge': 1, 'terror': 1, 'dionne': 1, 'searcey': 1, 'thousands': 1, 'girls': 1, 'endured': 1, 'sexual': 2, 'violence': 1, 'nigerian': 1, 'forces': 2, 'preyed': 1, 'assigned': 1, 'audio': 2, 'listen': 1, 'democrat': 1, 'reluctantly': 1, 'announced': 2, 'resign': 2, 'tell': 1, 'party': 3, 'follow': 2, 'apple': 1, 'podcasts': 1, 'radio': 1, 'public': 3, 'stitcher': 1, 'guiding': 1, 'crisis': 3, 'nagourney': 1, 'mayor': 1, 'eric': 1, 'garcetti': 1, 'responds': 1, 'wildfires': 1, 'supertankers': 1, 'bay': 1, 'firefighters': 1, 'xavier': 1, 'becerra': 1, 'smarter': 2, 'living': 4, 'choose': 1, 'kids': 3, 'tara': 1, 'haelle': 1, 'educational': 1, 'field': 1, 'parents': 2, 'lost': 2, 'install': 1, 'editors': 3, 'choice': 1, 'books': 5, 'recommend': 1, 'week': 3, 'suggested': 1, 'reading': 2, 'critics': 2, 'gifts': 1, 'categories': 1, 'holiday': 2, 'gift': 2, 'guide': 6, 'journalism': 1, 'matters': 2, 'essential': 1, 'phone': 1, 'call': 1, 'harvey': 2, 'weinstein': 3, 'ears': 4, 'eyes': 1, 'complicity': 1, 'machine': 1, 'producer': 1, 'relied': 1, 'powerful': 1, 'relationships': 1, 'industries': 1, 'cover': 1, 'misconduct': 1, 'piled': 1, 'decades': 1, 'megan': 1, 'twohey': 1, 'jodi': 1, 'kantor': 1, 'susan': 1, 'dominus': 1, 'jim': 1, 'rutenberg': 1, 'steve': 3, 'eder': 1, 'faking': 1, 'fan': 1, 'kenneth': 1, 'vogel': 1, 'james': 1, 'keefe': 1, 'nonprofit': 1, 'veritas': 1, 'respect': 1, 'media': 1, 'acceptance': 1, 'mainstream': 1, 'ally': 1, 'oval': 1, 'office': 2, 'buddies': 1, 'tax': 3, 'bill': 4, 'shane': 1, 'goldmacher': 1, 'maggie': 1, 'haberman': 1, 'kate': 1, 'kelly': 1, 'republican': 3, 'shepherded': 1, 'hurt': 1, 'guys': 2, 'doing': 1, 'told': 1, 'donors': 1, 'translation': 1, 'pope': 1, 'update': 1, 'lord': 1, 'prayer': 1, 'elisabetta': 1, 'povoledo': 1, 'alan': 1, 'cowell': 1, 'lead': 2, 'temptation': 2, 'francis': 1, 'precise': 1, 'holocaust': 1, 'survivor': 1, 'american': 4, 'journey': 1, 'keren': 1, 'blankfeld': 1, 'remarkable': 1, 'tale': 1, 'girl': 1, 'auschwitz': 1, 'soldier': 1, 'occupied': 1, 'berlin': 1, 'bears': 3, 'national': 2, 'monument': 2, 'shrinking': 1, 'cut': 1, 'nadja': 1, 'popovich': 1, 'president': 1, 'cuts': 1, 'vast': 1, 'remote': 1, 'stretch': 1, 'red': 1, 'rock': 1, 'canyons': 1, 'boundaries': 1, 'changed': 1, 'hate': 2, 'crowds': 2, 'brooklyn': 2, 'bridge': 3, 'winnie': 1, 'hu': 1, 'city': 2, 'officials': 2, 'taking': 1, 'steps': 1, 'reduce': 1, 'congestion': 1, 'possibly': 1, 'creating': 1, 'separate': 1, 'bike': 1, 'entrance': 1, 'vendors': 1, 'promenade': 1, 'fargo': 1, 'fines': 1, 'reduced': 1, 'polish': 1, 'parliament': 2, 'reshapes': 1, 'courts': 1, 'drawing': 1, 'criticism': 1, 'brexit': 2, 'talks': 2, 'breakthrough': 1, 'months': 1, 'deadlock': 1, 'japan': 1, 'reach': 1, 'trade': 2, 'agreement': 1, 'fix': 1, 'passes': 1, 'postpone': 1, 'government': 1, 'shutdown': 1, 'dealbook': 2, 'newsletter': 2, 'columnist': 1, 'andrew': 1, 'ross': 1, 'sorkin': 1, 'colleagues': 1, 'sense': 1, 'major': 2, 'headlines': 1, 'brokers': 1, 'shape': 1, 'edition': 2, 'sendok': 1, 'garpu': 1, 'serves': 1, 'indonesian': 1, 'cuisine': 1, 'outside': 1, 'brisbane': 1, 'restaurant': 1, 'indooroopilly': 1, 'specialties': 1, 'indonesia': 1, 'australia': 3, 'sex': 1, 'marriage': 4, 'legal': 1, 'referendum': 1, 'voted': 1, 'overwhelmingly': 1, 'china': 2, 'scolds': 1, 'fears': 1, 'foreign': 1, 'influence': 1, 'embassy': 1, 'australian': 2, 'damaging': 1, 'mutual': 1, 'trust': 1, 'day': 2, 'laws': 1, 'proposed': 1, 'curb': 1, 'interference': 1, 'countries': 1, 'weddings': 2, 'rabbis': 1, 'cupcakes': 1, 'couples': 1, 'denied': 1, 'various': 1, 'reasons': 1, 'wed': 1, 'festive': 1, 'ceremony': 1, 'road': 2, 'aftermath': 1, 'son': 2, 'sad': 1, 'proud': 1, 'empty': 1, 'family': 2, 'tried': 1, 'ourselves': 1, 'language': 1, 'rules': 1, 'digital': 2, 'age': 1, 'buzzfeed': 1, 'recounts': 1, 'mission': 1, 'set': 1, 'grammar': 1, 'codes': 1, 'rule': 1, 'generation': 1, 'save': 2, 'care': 2, 'horrified': 1, 'governors': 1, 'congress': 3, 'chip': 1, 'children': 3, 'insurance': 1, 'program': 1, 'krugman': 3, 'editorial': 2, 'brooks': 2, 'rotting': 2, 'cohen': 1, 'peace': 1, 'destroy': 1, 'goldberg': 1, 'leaving': 1, 'liberal': 1, 'bias': 1, 'bannon': 2, 'realign': 2, 'roy': 2, 'moore': 2, 'survives': 1, 'quin': 1, 'hillyer': 1, 'noticeable': 1, 'backlash': 1, 'hyper': 1, 'energized': 1, 'candidate': 1, 'volunteers': 1, 'alabamians': 1, 'donald': 1, 'accidental': 1, 'buddhist': 1, 'dolnick': 1, 'strange': 1, 'wisdom': 1, 'yourself': 1, 'third': 1, 'person': 1, 'egan': 1, 'trumpocalypse': 1, 'doctors': 2, 'ignore': 2, 'pakistan': 1, 'yoga': 1, 'rises': 1, 'indian': 1, 'origins': 1, 'user': 1, 'subscriptions': 5, 'night': 5, 'desk': 3, 'tweeting': 3, 'starts': 3, 'journalist': 2, 'wrestles': 2, 'candor': 2, 'egyptian': 2, 'woman': 2, 'insider': 2, 'crossword': 4, 'play': 2, 'rsquo': 2, 'puzzle': 2, 'wordplay': 1, 'watching': 1, 'neediest': 2, 'juggling': 1, 'managing': 1, 'class': 1, 'addition': 1, 'attending': 1, 'college': 5, 'caring': 1, 'father': 1, 'darius': 1, 'cummings': 1, 'bouncing': 1, 'florida': 1, 'handle': 1, 'estates': 1, 'mother': 1, 'uncle': 1, '106th': 1, 'fund': 1, 'provided': 1, 'direct': 1, 'assistance': 1, 'struggling': 1, 'donate': 1, 'advertisers': 1, 'loading': 2, 'videos': 1, 'player': 1, 'inside': 2, 'previous': 1, 'story': 2, 'television': 4, 'late': 1, 'sunday': 3, 'invincible': 1, 'autocrat': 1, 'travelers': 1, 'pack': 1, 'hygge': 1, 'winter': 2, 'shifting': 2, 'political': 2, 'duck': 1, 'dinosaur': 1, 'swim': 1, 'crown': 3, 'season': 3, 'skin': 1, 'tips': 1, 'obituaries': 3, 'william': 2, 'gass': 2, 'acclaimed': 2, 'author': 2, 'dies': 3, 'realignments': 1, 'born': 1, 'unlikely': 1, 'candidates': 1, 'adopted': 1, 'black': 2, 'baby': 2, 'replaced': 1, 'white': 2, 'fled': 1, 'nigeria': 1, 'britain': 1, 'proceed': 1, 'growth': 1, 'signals': 1, 'robust': 1, 'gain': 1, 'bitcoin': 2, 'price': 2, 'soared': 2, 'comes': 2, 'money': 1, 'adviser': 1, 'helping': 1, 'buyers': 1, 'paul': 1, 'updates': 1, 'declares': 1, 'emergency': 1, 'blazes': 1, 'spread': 1, 'southeast': 2, 'asia': 2, 'ride': 2, 'hailing': 2, 'waged': 2, 'motorbikes': 2, 'opposition': 1, 'net': 1, 'neutrality': 1, 'repeal': 1, 'stars': 2, 'star': 2, 'wars': 2, 'art': 3, 'basel': 1, 'miami': 1, 'beach': 1, 'post': 1, 'irma': 1, 'swinging': 1, 'haywire': 1, 'hospitality': 1, 'amy': 1, 'sedaris': 1, 'congressional': 1, 'house': 2, 'hanukkah': 1, 'improbable': 1, 'sudden': 1, 'fashion': 2, 'modern': 1, 'love': 2, 'tiles': 1, 'mine': 1, 'ho': 3, 'parties': 1, 'feel': 1, 'chill': 1, 'vows': 1, 'military': 1, 'couple': 1, 'apart': 1, 'movies': 4, 'tonya': 1, 'punching': 1, 'bag': 1, 'punch': 1, 'bela': 1, 'forgotten': 1, 'orphan': 1, 'fewer': 1, 'vs': 1, 'hometown': 1, 'football': 1, 'army': 1, 'running': 1, 'game': 1, 'nearly': 1, 'walked': 1, 'exactly': 1, 'heisman': 1, 'trophy': 1, 'jahlil': 1, 'okafor': 1, 'headed': 1, 'nets': 1, '76ers': 1, 'theater': 3, 'dreaming': 1, 'magical': 1, 'underwear': 1, 'russians': 1, 'fake': 1, 'describe': 1, 'trilobites': 2, 'tracking': 1, 'dolphins': 1, 'algorithms': 1, 'facebook': 1, 'learned': 1, 'actually': 1, 'sausage': 1, 'perry': 1, 'wallace': 1, 'basketball': 1, 'pioneer': 1, 'dead': 1, 'steinkraus': 1, 'equestrian': 1, 'olympic': 1, 'history': 2, 'postmodern': 1, 'takes': 1, 'queen': 1, 'look': 1, 'transparent': 1, 'jeffrey': 1, 'tambor': 1, 'burst': 1, 'idealistic': 1, 'bubble': 1, 'birth': 1, 'control': 1, 'pills': 1, 'linked': 1, 'breast': 1, 'cancer': 1, 'study': 1, 'sifting': 1, 'suicide': 1, 'worried': 1, 'arsenic': 1, 'favorite': 2, 'reads': 1, 'getaway': 1, 'skiers': 1, 'uphill': 1, 'trending': 2, 'leisure': 1, 'eye': 1, 'giving': 1, 'final': 1, 'fiction': 1, 'sam': 1, 'shepard': 1, 'chases': 1, 'familiar': 1, 'themes': 1, 'paris': 1, 'editor': 1, 'resigns': 1, 'amid': 1, 'inquiry': 1, 'conduct': 1, 'colleges': 1, 'applicant': 1, 'getting': 2, 'dream': 1, 'myths': 1, 'choosing': 1, 'hungry': 1, 'cheap': 1, 'eats': 1, 'global': 1, 'flavors': 1, 'united': 1, 'appetite': 1, 'pamper': 1, 'guests': 1, 'gougères': 1, 'gingerbread': 1, 'performers': 3, 'actors': 1, 'series': 1, 'short': 1, 'frightening': 1, 'films': 1, 'notebook': 1, 'horror': 1, 'fright': 1, 'club': 1, 'prewar': 1, 'twist': 1, 'christmas': 1, 'lights': 1, 'hunt': 1, 'williamsburg': 1, 'upshot': 1, 'doctor': 1, 'hard': 1, 'harder': 1, 'happened': 1, 'boomtown': 1, 'effective': 1, 'school': 1, 'district': 1, 'measure': 1, 'students': 1, 'automobiles': 2, 'ford': 1, 'electric': 1, 'cars': 1, 'mexico': 1, 'plan': 1, 'industry': 1, 'dinner': 1, 'jay': 1, 'discusses': 1, 'rap': 1, 'america': 1, 'clothing': 1, 'simplifies': 1, 'dressed': 1, 'bridges': 1, 'quiet': 1, 'edge': 1, 'change': 1, 'hughes': 1, 'neighborhood': 1, 'housing': 1, 'luxury': 1, 'towers': 1, 'pleased': 1, 'homes': 1, 'sale': 2, 'rent': 1, 'mortgage': 1, 'calculator': 1, 'emailed': 1, 'viewed': 1, 'recommended': 1, 'page': 1, 'index': 2, 'corrections': 1, 'op': 2, 'ed': 2, 'columnists': 1, 'editorials': 1, 'contributors': 1, 'letters': 1, 'design': 1, 'dance': 1, 'music': 1, 'events': 3, 'celebrations': 1, 'listings': 1, 'reader': 1, 'center': 1, 'classifieds': 1, 'photography': 1, 'nyt': 1, 'store': 1, 'journeys': 1, 'nytco': 1, 'delivery': 1, 'newsletters': 1, 'alerts': 1, 'rate': 1, 'applications': 1, 'replica': 1, 'information': 2, 'advertise': 1, 'ad': 1, 'choices': 1, 'map': 1, 'feedback': 1, 'view': 1, 'version': 1}\n",
      "github\n",
      "http://www.times.com\n"
     ]
    }
   ],
   "source": [
    "w1.getWordsFrequency() \n",
    "w1.getMaxFreqencyWords()\n",
    "w1.searchUrlByWord(\"news\")"
   ]
  },
  {
   "cell_type": "code",
   "execution_count": 122,
   "metadata": {},
   "outputs": [],
   "source": [
    "class OrderedWebWordsFrequency(WebWordsFrequency):\n",
    "    def getWordsFrequency(self, reverse = False):\n",
    "        t = {}\n",
    "        l = []\n",
    "        for i in list(self.dic.values()):\n",
    "            l = l + i\n",
    "        for i in l:\n",
    "            if (i not in t.keys()):\n",
    "                t[i] = 1\n",
    "            else:\n",
    "                t[i] = t[i] + 1\n",
    "        self.lst = list(t.items())\n",
    "        self.lst.sort(key=lambda d:d[1], reverse = not reverse)\n",
    "        print(self.lst)\n",
    "        \n",
    "    ##반복자 해결\n",
    "    def __iter__(self):\n",
    "        self.size = len(self.lst)\n",
    "        print(\"t\")\n",
    "        return range(0,self.size)\n",
    "    def next(self):\n",
    "        if self.start < self.size:\n",
    "            self.start=self.start+1\n",
    "            print(lst[self.start-1])\n",
    "            return lst[self.start-1]\n",
    "        raise StopIteration\n",
    "        "
   ]
  },
  {
   "cell_type": "code",
   "execution_count": 123,
   "metadata": {},
   "outputs": [
    {
     "ename": "AttributeError",
     "evalue": "'OrderedWebWordsFrequency' object has no attribute 'lst'",
     "output_type": "error",
     "traceback": [
      "\u001b[1;31m---------------------------------------------------------------------------\u001b[0m",
      "\u001b[1;31mAttributeError\u001b[0m                            Traceback (most recent call last)",
      "\u001b[1;32m<ipython-input-123-71d939a2ca88>\u001b[0m in \u001b[0;36m<module>\u001b[1;34m()\u001b[0m\n\u001b[0;32m      2\u001b[0m \u001b[1;31m#w4.getWordsFrequency()\u001b[0m\u001b[1;33m\u001b[0m\u001b[1;33m\u001b[0m\u001b[0m\n\u001b[0;32m      3\u001b[0m \u001b[1;31m#w4.getWordsFrequency(reverse=True)\u001b[0m\u001b[1;33m\u001b[0m\u001b[1;33m\u001b[0m\u001b[0m\n\u001b[1;32m----> 4\u001b[1;33m \u001b[1;32mfor\u001b[0m \u001b[0mi\u001b[0m \u001b[1;32min\u001b[0m \u001b[0mw4\u001b[0m\u001b[1;33m:\u001b[0m\u001b[1;33m\u001b[0m\u001b[0m\n\u001b[0m\u001b[0;32m      5\u001b[0m     \u001b[0mprint\u001b[0m\u001b[1;33m(\u001b[0m\u001b[0mi\u001b[0m\u001b[1;33m)\u001b[0m\u001b[1;33m\u001b[0m\u001b[0m\n",
      "\u001b[1;32m<ipython-input-122-146f1436b59e>\u001b[0m in \u001b[0;36m__iter__\u001b[1;34m(self)\u001b[0m\n\u001b[0;32m     17\u001b[0m     \u001b[1;31m##반복자 해결\u001b[0m\u001b[1;33m\u001b[0m\u001b[1;33m\u001b[0m\u001b[0m\n\u001b[0;32m     18\u001b[0m     \u001b[1;32mdef\u001b[0m \u001b[0m__iter__\u001b[0m\u001b[1;33m(\u001b[0m\u001b[0mself\u001b[0m\u001b[1;33m)\u001b[0m\u001b[1;33m:\u001b[0m\u001b[1;33m\u001b[0m\u001b[0m\n\u001b[1;32m---> 19\u001b[1;33m         \u001b[0mself\u001b[0m\u001b[1;33m.\u001b[0m\u001b[0msize\u001b[0m \u001b[1;33m=\u001b[0m \u001b[0mlen\u001b[0m\u001b[1;33m(\u001b[0m\u001b[0mself\u001b[0m\u001b[1;33m.\u001b[0m\u001b[0mlst\u001b[0m\u001b[1;33m)\u001b[0m\u001b[1;33m\u001b[0m\u001b[0m\n\u001b[0m\u001b[0;32m     20\u001b[0m         \u001b[0mprint\u001b[0m\u001b[1;33m(\u001b[0m\u001b[1;34m\"t\"\u001b[0m\u001b[1;33m)\u001b[0m\u001b[1;33m\u001b[0m\u001b[0m\n\u001b[0;32m     21\u001b[0m         \u001b[1;32mreturn\u001b[0m \u001b[0mrange\u001b[0m\u001b[1;33m(\u001b[0m\u001b[1;36m0\u001b[0m\u001b[1;33m,\u001b[0m\u001b[0mself\u001b[0m\u001b[1;33m.\u001b[0m\u001b[0msize\u001b[0m\u001b[1;33m)\u001b[0m\u001b[1;33m\u001b[0m\u001b[0m\n",
      "\u001b[1;31mAttributeError\u001b[0m: 'OrderedWebWordsFrequency' object has no attribute 'lst'"
     ]
    }
   ],
   "source": [
    "w4 = OrderedWebWordsFrequency('http://www.times.com', 'https://github.com')\n",
    "#w4.getWordsFrequency()\n",
    "#w4.getWordsFrequency(reverse=True)\n",
    "for i in w4:\n",
    "    print(i)"
   ]
  },
  {
   "cell_type": "code",
   "execution_count": null,
   "metadata": {
    "collapsed": true
   },
   "outputs": [],
   "source": []
  }
 ],
 "metadata": {
  "kernelspec": {
   "display_name": "Python 3",
   "language": "python",
   "name": "python3"
  },
  "language_info": {
   "codemirror_mode": {
    "name": "ipython",
    "version": 3
   },
   "file_extension": ".py",
   "mimetype": "text/x-python",
   "name": "python",
   "nbconvert_exporter": "python",
   "pygments_lexer": "ipython3",
   "version": "3.6.3"
  }
 },
 "nbformat": 4,
 "nbformat_minor": 2
}
