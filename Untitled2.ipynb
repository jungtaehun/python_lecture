{
 "cells": [
  {
   "cell_type": "code",
   "execution_count": 1,
   "metadata": {},
   "outputs": [
    {
     "name": "stdout",
     "output_type": "stream",
     "text": [
      "C:\\Users\\user\\Desktop\\python_lecture\n"
     ]
    }
   ],
   "source": [
    "import os\n",
    "\n",
    "print(os.getcwd())"
   ]
  },
  {
   "cell_type": "code",
   "execution_count": 5,
   "metadata": {
    "collapsed": true
   },
   "outputs": [],
   "source": [
    "s = \"\"\"Its power: Python developers typically report \n",
    "they are able to develop applications in a half\n",
    "to a tenth the amount of time it takes them to do\n",
    "the same work in such languages as C.\"\"\"\n",
    "f = open('t.txt', 'w')\n",
    "f.write(s) # 문자열을 파일에 기록\n",
    "f.close()"
   ]
  },
  {
   "cell_type": "code",
   "execution_count": 6,
   "metadata": {},
   "outputs": [
    {
     "name": "stdout",
     "output_type": "stream",
     "text": [
      "<class 'str'>\n",
      "1 : Its power: Python developers typically report \n",
      "2 : they are able to develop applications in a half\n",
      "3 : to a tenth the amount of time it takes them to do\n",
      "4 : the same work in such languages as C."
     ]
    }
   ],
   "source": [
    "f = open('t.txt')\n",
    "line = f.readline()\n",
    "print(type(line))\n",
    "i = 1\n",
    "while line:\n",
    "    print(i, \":\", line, end=\"\")\n",
    "    line = f.readline()\n",
    "    i += 1\n",
    "f.close()"
   ]
  },
  {
   "cell_type": "code",
   "execution_count": 8,
   "metadata": {},
   "outputs": [
    {
     "name": "stdout",
     "output_type": "stream",
     "text": [
      "1 : Its power: Python developers typically report \n",
      "2 : they are able to develop applications in a half\n",
      "3 : to a tenth the amount of time it takes them to do\n",
      "4 : the same work in such languages as C."
     ]
    }
   ],
   "source": [
    "i = 1\n",
    "with open('t.txt') as f:\n",
    "    line = f.readline()\n",
    "    while line:\n",
    "        print(i, \":\", line, end=\"\")\n",
    "        line = f.readline()\n",
    "        i += 1"
   ]
  },
  {
   "cell_type": "code",
   "execution_count": 9,
   "metadata": {},
   "outputs": [
    {
     "name": "stdout",
     "output_type": "stream",
     "text": [
      "first line\n",
      "second line\n",
      "third line\n",
      "\n"
     ]
    }
   ],
   "source": [
    "lines = ['first line', 'second line', 'third line']\n",
    "f = open('t1.txt', 'w')\n",
    "for i in lines:\n",
    "    f.write(i)\n",
    "    f.write(\"\\n\")\n",
    "f.close()\n",
    "\n",
    "f = open('t1.txt')\n",
    "print(f.read())\n",
    "f.close()"
   ]
  },
  {
   "cell_type": "code",
   "execution_count": 10,
   "metadata": {},
   "outputs": [
    {
     "name": "stdout",
     "output_type": "stream",
     "text": [
      "<ipykernel.iostream.OutStream object at 0x0000000004C489B0>\n"
     ]
    }
   ],
   "source": [
    "import sys\n",
    "stdout = sys.stdout\n",
    "print(stdout)"
   ]
  },
  {
   "cell_type": "code",
   "execution_count": 12,
   "metadata": {},
   "outputs": [
    {
     "name": "stdout",
     "output_type": "stream",
     "text": [
      "aaa"
     ]
    }
   ],
   "source": [
    "sys.stdout.write(\"aaa\")"
   ]
  },
  {
   "cell_type": "code",
   "execution_count": 18,
   "metadata": {},
   "outputs": [
    {
     "name": "stdout",
     "output_type": "stream",
     "text": [
      "{'tom': 4358382, 'jack': 9465215, 'jim': 6851325, 'Joseph': 6584321}\n",
      "['string', 1234, 0.2345]\n"
     ]
    }
   ],
   "source": [
    "import pickle\n",
    "\n",
    "phone = {'tom':4358382, 'jack':9465215, 'jim':6851325, 'Joseph':6584321}\n",
    "List = ['string', 1234, 0.2345]\n",
    "Tuple = (phone, List) # 리스트, 튜플, 사전의 복합 객체\n",
    "\n",
    "with open('dump.pickle', 'wb') as f:\n",
    "    pickle.dump(Tuple, f) # 파일로 출력(pickling), 복합 객체 출력 \n",
    "\n",
    "with open('dump.pickle', 'rb') as f:             \n",
    "    x,y = pickle.load(f) # 파일에서 읽어오기. 튜플의 내용을 x, y에 받는다.\n",
    "print(x) # 사전\n",
    "print(y) # 리스트"
   ]
  },
  {
   "cell_type": "code",
   "execution_count": null,
   "metadata": {
    "collapsed": true
   },
   "outputs": [],
   "source": []
  }
 ],
 "metadata": {
  "kernelspec": {
   "display_name": "Python 3",
   "language": "python",
   "name": "python3"
  },
  "language_info": {
   "codemirror_mode": {
    "name": "ipython",
    "version": 3
   },
   "file_extension": ".py",
   "mimetype": "text/x-python",
   "name": "python",
   "nbconvert_exporter": "python",
   "pygments_lexer": "ipython3",
   "version": "3.5.2"
  }
 },
 "nbformat": 4,
 "nbformat_minor": 2
}
