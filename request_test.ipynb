{
 "cells": [
  {
   "cell_type": "code",
   "execution_count": 12,
   "metadata": {},
   "outputs": [
    {
     "name": "stdout",
     "output_type": "stream",
     "text": [
      "False\n"
     ]
    }
   ],
   "source": [
    "import requests\n",
    "import json\n",
    "word = \"cnn\"\n",
    "header_data = {'X-Mashape-Key':'IdOl032CtumshW8yFWeOighpAY5cp1EDq0TjsnrlyqzKrT0BRL', 'Accept':'application/json'}\n",
    "get_response = requests.get(url='https://wordsapiv1.p.mashape.com/words/' + word +'/synonyms', headers=header_data )\n",
    "# POST some form-encoded data:\n",
    "a = get_response.json()\n",
    "if 'success' not in a:\n",
    "    print(a['synonyms'])\n",
    "else:\n",
    "    print(a['success'])"
   ]
  },
  {
   "cell_type": "code",
   "execution_count": null,
   "metadata": {
    "collapsed": true
   },
   "outputs": [],
   "source": []
  }
 ],
 "metadata": {
  "kernelspec": {
   "display_name": "Python 3",
   "language": "python",
   "name": "python3"
  },
  "language_info": {
   "codemirror_mode": {
    "name": "ipython",
    "version": 3
   },
   "file_extension": ".py",
   "mimetype": "text/x-python",
   "name": "python",
   "nbconvert_exporter": "python",
   "pygments_lexer": "ipython3",
   "version": "3.6.3"
  }
 },
 "nbformat": 4,
 "nbformat_minor": 2
}
